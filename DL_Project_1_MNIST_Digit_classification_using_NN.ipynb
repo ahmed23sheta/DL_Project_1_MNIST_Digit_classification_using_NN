{
 "cells": [
  {
   "cell_type": "markdown",
   "metadata": {
    "id": "as-6Wcqwg9s_"
   },
   "source": [
    "**MNIST Handwritten Digit Clasification using Deep Learning (Neural Network)**"
   ]
  },
  {
   "cell_type": "markdown",
   "metadata": {
    "id": "usJiEcc5jqcT"
   },
   "source": [
    "Importing the Dependencies"
   ]
  },
  {
   "cell_type": "code",
   "execution_count": 72,
   "metadata": {},
   "outputs": [
    {
     "name": "stdout",
     "output_type": "stream",
     "text": [
      "Requirement already satisfied: opencv-python in c:\\users\\bios\\anaconda3\\lib\\site-packages (4.8.1.78)\n",
      "Requirement already satisfied: numpy>=1.21.2 in c:\\users\\bios\\anaconda3\\lib\\site-packages (from opencv-python) (1.24.3)\n",
      "Requirement already satisfied: pillow in c:\\users\\bios\\anaconda3\\lib\\site-packages (10.0.1)\n",
      "Requirement already satisfied: matplotlib in c:\\users\\bios\\anaconda3\\lib\\site-packages (3.8.0)\n",
      "Requirement already satisfied: contourpy>=1.0.1 in c:\\users\\bios\\anaconda3\\lib\\site-packages (from matplotlib) (1.0.5)\n",
      "Requirement already satisfied: cycler>=0.10 in c:\\users\\bios\\anaconda3\\lib\\site-packages (from matplotlib) (0.11.0)\n",
      "Requirement already satisfied: fonttools>=4.22.0 in c:\\users\\bios\\anaconda3\\lib\\site-packages (from matplotlib) (4.25.0)\n",
      "Requirement already satisfied: kiwisolver>=1.0.1 in c:\\users\\bios\\anaconda3\\lib\\site-packages (from matplotlib) (1.4.4)\n",
      "Requirement already satisfied: numpy<2,>=1.21 in c:\\users\\bios\\anaconda3\\lib\\site-packages (from matplotlib) (1.24.3)\n",
      "Requirement already satisfied: packaging>=20.0 in c:\\users\\bios\\anaconda3\\lib\\site-packages (from matplotlib) (23.1)\n",
      "Requirement already satisfied: pillow>=6.2.0 in c:\\users\\bios\\anaconda3\\lib\\site-packages (from matplotlib) (10.0.1)\n",
      "Requirement already satisfied: pyparsing>=2.3.1 in c:\\users\\bios\\anaconda3\\lib\\site-packages (from matplotlib) (3.0.9)\n",
      "Requirement already satisfied: python-dateutil>=2.7 in c:\\users\\bios\\anaconda3\\lib\\site-packages (from matplotlib) (2.8.2)\n",
      "Requirement already satisfied: six>=1.5 in c:\\users\\bios\\anaconda3\\lib\\site-packages (from python-dateutil>=2.7->matplotlib) (1.16.0)\n"
     ]
    }
   ],
   "source": [
    "!pip install opencv-python\n",
    "!pip install pillow\n",
    "!pip install matplotlib"
   ]
  },
  {
   "cell_type": "code",
   "execution_count": 2,
   "metadata": {
    "id": "Nh_KITKrquBI"
   },
   "outputs": [],
   "source": [
    "import numpy as np\n",
    "import matplotlib.pyplot as plt\n",
    "import seaborn as sns\n",
    "import cv2\n",
    "#from google.colab.patches import cv2_imshow\n",
    "from PIL import Image\n",
    "import tensorflow as tf\n",
    "tf.random.set_seed(3)\n",
    "from tensorflow import keras\n",
    "from keras.datasets import mnist\n",
    "from tensorflow.math import confusion_matrix"
   ]
  },
  {
   "cell_type": "markdown",
   "metadata": {
    "id": "Ea6YoasclFmE"
   },
   "source": [
    "Loading the MNIST data from keras.datasets"
   ]
  },
  {
   "cell_type": "code",
   "execution_count": 3,
   "metadata": {
    "colab": {
     "base_uri": "https://localhost:8080/"
    },
    "id": "pl_q6L7bk-JE",
    "outputId": "8991533a-7ab1-4364-edff-c80d98d231c4"
   },
   "outputs": [
    {
     "name": "stdout",
     "output_type": "stream",
     "text": [
      "Downloading data from https://storage.googleapis.com/tensorflow/tf-keras-datasets/mnist.npz\n",
      "11490434/11490434 [==============================] - 3s 0us/step\n"
     ]
    }
   ],
   "source": [
    "(X_train, Y_train), (X_test, Y_test) =  mnist.load_data()"
   ]
  },
  {
   "cell_type": "code",
   "execution_count": 4,
   "metadata": {
    "colab": {
     "base_uri": "https://localhost:8080/"
    },
    "id": "mTi9DEKtmAgU",
    "outputId": "3cc4850f-fa79-400f-caf7-ae667920971d"
   },
   "outputs": [
    {
     "data": {
      "text/plain": [
       "numpy.ndarray"
      ]
     },
     "execution_count": 4,
     "metadata": {},
     "output_type": "execute_result"
    }
   ],
   "source": [
    "type(X_train)"
   ]
  },
  {
   "cell_type": "code",
   "execution_count": 6,
   "metadata": {
    "colab": {
     "base_uri": "https://localhost:8080/"
    },
    "id": "KK8ZWV6smDpv",
    "outputId": "80ef464a-195b-42eb-8ee5-74e3101789f5"
   },
   "outputs": [
    {
     "name": "stdout",
     "output_type": "stream",
     "text": [
      "(60000, 28, 28) (60000,) (10000, 28, 28) (10000,)\n"
     ]
    }
   ],
   "source": [
    "# shape of the numpy arrays\n",
    "print(X_train.shape, Y_train.shape, X_test.shape, Y_test.shape)"
   ]
  },
  {
   "cell_type": "markdown",
   "metadata": {
    "id": "rr9jdm31nBxK"
   },
   "source": [
    "Training data = 60,000 Images\n",
    "\n",
    "Test data = 10,000 Images"
   ]
  },
  {
   "cell_type": "markdown",
   "metadata": {
    "id": "XEYmlN6ZnHpk"
   },
   "source": [
    "Image dimension  --> 28 x 28\n",
    "\n",
    "Grayscale Image  --> 1 channel"
   ]
  },
  {
   "cell_type": "code",
   "execution_count": 8,
   "metadata": {
    "colab": {
     "base_uri": "https://localhost:8080/"
    },
    "id": "ClBWXM0umUAc",
    "outputId": "d39331ef-d1cc-4590-de41-84c4bd058dda"
   },
   "outputs": [
    {
     "name": "stdout",
     "output_type": "stream",
     "text": [
      "[[  0   0   0   0   0   0   0   0   0   0   0   0   0   0   0   0   0   0\n",
      "    0   0   0   0   0   0   0   0   0   0]\n",
      " [  0   0   0   0   0   0   0   0   0   0   0   0   0   0   0   0   0   0\n",
      "    0   0   0   0   0   0   0   0   0   0]\n",
      " [  0   0   0   0   0   0   0   0   0   0   0   0   0   0   0   0   0   0\n",
      "    0   0   0   0   0   0   0   0   0   0]\n",
      " [  0   0   0   0   0   0   0   0   0   0   0   0   0   0   0   0   0   0\n",
      "    0   0   0   0   0   0   0   0   0   0]\n",
      " [  0   0   0   0   0   0   0   0   0   0   0   0   0   0   0   0   0   0\n",
      "    0   0   0   0 189 190   0   0   0   0]\n",
      " [  0   0   0   0   0   0   0   0   0   0   0   0   0   0   0   0   0   0\n",
      "    0   0   0 143 247 153   0   0   0   0]\n",
      " [  0   0   0   0   0   0   0   0   0   0   0   0   0   0   0   0   0   0\n",
      "    0   0 136 247 242  86   0   0   0   0]\n",
      " [  0   0   0   0   0   0   0   0   0   0   0   0   0   0   0   0   0   0\n",
      "    0   0 192 252 187   0   0   0   0   0]\n",
      " [  0   0   0   0   0   0   0   0   0   0   0   0  62 185  18   0   0   0\n",
      "    0  89 236 217  47   0   0   0   0   0]\n",
      " [  0   0   0   0   0   0   0   0   0   0   0   0 216 253  60   0   0   0\n",
      "    0 212 255  81   0   0   0   0   0   0]\n",
      " [  0   0   0   0   0   0   0   0   0   0   0   0 206 252  68   0   0   0\n",
      "   48 242 253  89   0   0   0   0   0   0]\n",
      " [  0   0   0   0   0   0   0   0   0   0   0 131 251 212  21   0   0  11\n",
      "  167 252 197   5   0   0   0   0   0   0]\n",
      " [  0   0   0   0   0   0   0   0   0   0  29 232 247  63   0   0   0 153\n",
      "  252 226   0   0   0   0   0   0   0   0]\n",
      " [  0   0   0   0   0   0   0   0   0  45 219 252 143   0   0   0 116 249\n",
      "  252 103   0   0   0   0   0   0   0   0]\n",
      " [  0   0   0   0   0   0   0   4  96 253 255 253 200 122   7  25 201 250\n",
      "  158   0   0   0   0   0   0   0   0   0]\n",
      " [  0   0   0   0   0   0   0  92 252 252 253 217 252 252 200 227 252 231\n",
      "    0   0   0   0   0   0   0   0   0   0]\n",
      " [  0   0   0   0   0   0  87 251 247 231  65  48 189 252 252 253 252 251\n",
      "  227  35   0   0   0   0   0   0   0   0]\n",
      " [  0   0   0   0   0   0 190 221  98   0   0   0  42 196 252 253 252 252\n",
      "  162   0   0   0   0   0   0   0   0   0]\n",
      " [  0   0   0   0   0   0 111  29   0   0   0   0  62 239 252  86  42  42\n",
      "   14   0   0   0   0   0   0   0   0   0]\n",
      " [  0   0   0   0   0   0   0   0   0   0   0  15 148 253 218   0   0   0\n",
      "    0   0   0   0   0   0   0   0   0   0]\n",
      " [  0   0   0   0   0   0   0   0   0   0   0 121 252 231  28   0   0   0\n",
      "    0   0   0   0   0   0   0   0   0   0]\n",
      " [  0   0   0   0   0   0   0   0   0   0  31 221 251 129   0   0   0   0\n",
      "    0   0   0   0   0   0   0   0   0   0]\n",
      " [  0   0   0   0   0   0   0   0   0   0 218 252 160   0   0   0   0   0\n",
      "    0   0   0   0   0   0   0   0   0   0]\n",
      " [  0   0   0   0   0   0   0   0   0   0 122 252  82   0   0   0   0   0\n",
      "    0   0   0   0   0   0   0   0   0   0]\n",
      " [  0   0   0   0   0   0   0   0   0   0   0   0   0   0   0   0   0   0\n",
      "    0   0   0   0   0   0   0   0   0   0]\n",
      " [  0   0   0   0   0   0   0   0   0   0   0   0   0   0   0   0   0   0\n",
      "    0   0   0   0   0   0   0   0   0   0]\n",
      " [  0   0   0   0   0   0   0   0   0   0   0   0   0   0   0   0   0   0\n",
      "    0   0   0   0   0   0   0   0   0   0]\n",
      " [  0   0   0   0   0   0   0   0   0   0   0   0   0   0   0   0   0   0\n",
      "    0   0   0   0   0   0   0   0   0   0]]\n"
     ]
    }
   ],
   "source": [
    "# printing the 10th image\n",
    "\n",
    "print(X_train[9])"
   ]
  },
  {
   "cell_type": "code",
   "execution_count": null,
   "metadata": {
    "colab": {
     "base_uri": "https://localhost:8080/"
    },
    "id": "6m2UC_APnbdu",
    "outputId": "d9cea15b-1fe0-4c30-bba9-ccc34cd4f181"
   },
   "outputs": [
    {
     "name": "stdout",
     "output_type": "stream",
     "text": [
      "(28, 28)\n"
     ]
    }
   ],
   "source": [
    "print(X_train[10].shape)"
   ]
  },
  {
   "cell_type": "code",
   "execution_count": null,
   "metadata": {
    "colab": {
     "base_uri": "https://localhost:8080/",
     "height": 282
    },
    "id": "Lr0YHVHdni3J",
    "outputId": "afaca8ac-5b57-45ad-a643-be4bb3c05beb",
    "scrolled": true
   },
   "outputs": [
    {
     "data": {
      "image/png": "[encoded data removed]",
      "text/plain": [
       "<Figure size 432x288 with 1 Axes>"
      ]
     },
     "metadata": {
      "needs_background": "light"
     },
     "output_type": "display_data"
    },
    {
     "name": "stdout",
     "output_type": "stream",
     "text": [
      "2\n"
     ]
    }
   ],
   "source": [
    "# displaying the image\n",
    "\n",
    "plt.imshow(X_train[25])\n",
    "plt.show()\n",
    "\n",
    "# print the corresponding label\n",
    "print(Y_train[25])"
   ]
  },
  {
   "cell_type": "code",
   "execution_count": 9,
   "metadata": {},
   "outputs": [
    {
     "data": {
      "image/png": "[encoded data removed]",
      "text/plain": [
       "<Figure size 640x480 with 1 Axes>"
      ]
     },
     "metadata": {},
     "output_type": "display_data"
    },
    {
     "name": "stdout",
     "output_type": "stream",
     "text": [
      "4\n"
     ]
    }
   ],
   "source": [
    "# displaying the image\n",
    "\n",
    "plt.imshow(X_train[20])\n",
    "plt.show()\n",
    "\n",
    "# print the corresponding label\n",
    "print(Y_train[20])"
   ]
  },
  {
   "cell_type": "markdown",
   "metadata": {
    "id": "U-Zv1ayioHVH"
   },
   "source": [
    "Image Lables"
   ]
  },
  {
   "cell_type": "code",
   "execution_count": 13,
   "metadata": {
    "colab": {
     "base_uri": "https://localhost:8080/"
    },
    "id": "Nmf3HNLwn6Hh",
    "outputId": "85107712-586e-403a-b2d7-942fa780d62f"
   },
   "outputs": [
    {
     "name": "stdout",
     "output_type": "stream",
     "text": [
      "(60000,) (10000,)\n"
     ]
    }
   ],
   "source": [
    "print(Y_train.shape, Y_test.shape)"
   ]
  },
  {
   "cell_type": "code",
   "execution_count": 12,
   "metadata": {
    "colab": {
     "base_uri": "https://localhost:8080/"
    },
    "id": "JoXh2a2xoM_8",
    "outputId": "402849b0-5c5d-476c-e7a3-6cb73c3720c7"
   },
   "outputs": [
    {
     "name": "stdout",
     "output_type": "stream",
     "text": [
      "[0 1 2 3 4 5 6 7 8 9]\n",
      "[0 1 2 3 4 5 6 7 8 9]\n"
     ]
    }
   ],
   "source": [
    "# unique values in Y_train\n",
    "print(np.unique(Y_train))\n",
    "\n",
    "# unique values in Y_test\n",
    "print(np.unique(Y_test))"
   ]
  },
  {
   "cell_type": "markdown",
   "metadata": {
    "id": "8wIddeQ4oqro"
   },
   "source": [
    "We can use these labels as such or we can also apply One Hot Encoding"
   ]
  },
  {
   "cell_type": "markdown",
   "metadata": {
    "id": "g74YM0YJo6MW"
   },
   "source": [
    "All the images have the same dimensions in this dataset, If not, we have to resize all the images to a common dimension"
   ]
  },
  {
   "cell_type": "code",
   "execution_count": 10,
   "metadata": {
    "id": "gAJxI68noeW5"
   },
   "outputs": [],
   "source": [
    "# scaling the values\n",
    "\n",
    "X_train = X_train/255\n",
    "X_test = X_test/255"
   ]
  },
  {
   "cell_type": "code",
   "execution_count": 11,
   "metadata": {
    "colab": {
     "base_uri": "https://localhost:8080/"
    },
    "id": "olSCXrwfpnpr",
    "outputId": "e0d7cd37-bae9-4c49-f967-a8edf2655212"
   },
   "outputs": [
    {
     "name": "stdout",
     "output_type": "stream",
     "text": [
      "[[0.         0.         0.         0.         0.         0.\n",
      "  0.         0.         0.         0.         0.         0.\n",
      "  0.         0.         0.         0.         0.         0.\n",
      "  0.         0.         0.         0.         0.         0.\n",
      "  0.         0.         0.         0.        ]\n",
      " [0.         0.         0.         0.         0.         0.\n",
      "  0.         0.         0.         0.         0.         0.\n",
      "  0.         0.         0.         0.         0.         0.\n",
      "  0.         0.         0.         0.         0.         0.\n",
      "  0.         0.         0.         0.        ]\n",
      " [0.         0.         0.         0.         0.         0.\n",
      "  0.         0.         0.         0.         0.         0.\n",
      "  0.         0.         0.         0.         0.         0.\n",
      "  0.         0.         0.         0.         0.         0.\n",
      "  0.         0.         0.         0.        ]\n",
      " [0.         0.         0.         0.         0.         0.\n",
      "  0.         0.         0.         0.         0.         0.\n",
      "  0.         0.         0.         0.         0.         0.\n",
      "  0.         0.         0.         0.         0.         0.\n",
      "  0.         0.         0.         0.        ]\n",
      " [0.         0.         0.         0.         0.         0.\n",
      "  0.         0.         0.         0.         0.         0.16470588\n",
      "  0.4627451  0.85882353 0.65098039 0.4627451  0.4627451  0.02352941\n",
      "  0.         0.         0.         0.         0.         0.\n",
      "  0.         0.         0.         0.        ]\n",
      " [0.         0.         0.         0.         0.         0.\n",
      "  0.         0.         0.         0.         0.40392157 0.94901961\n",
      "  0.99607843 0.99607843 0.99607843 0.99607843 0.99607843 0.25882353\n",
      "  0.         0.         0.         0.         0.         0.\n",
      "  0.         0.         0.         0.        ]\n",
      " [0.         0.         0.         0.         0.         0.\n",
      "  0.         0.         0.         0.         0.07058824 0.90980392\n",
      "  0.99607843 0.99607843 0.99607843 0.99607843 0.99607843 0.93333333\n",
      "  0.2745098  0.         0.         0.         0.         0.\n",
      "  0.         0.         0.         0.        ]\n",
      " [0.         0.         0.         0.         0.         0.\n",
      "  0.         0.         0.         0.         0.         0.40784314\n",
      "  0.95686275 0.99607843 0.87843137 0.99607843 0.99607843 0.99607843\n",
      "  0.55294118 0.         0.         0.         0.         0.\n",
      "  0.         0.         0.         0.        ]\n",
      " [0.         0.         0.         0.         0.         0.\n",
      "  0.         0.         0.         0.         0.         0.\n",
      "  0.81176471 0.99607843 0.82352941 0.99607843 0.99607843 0.99607843\n",
      "  0.13333333 0.         0.         0.         0.         0.\n",
      "  0.         0.         0.         0.        ]\n",
      " [0.         0.         0.         0.         0.         0.\n",
      "  0.         0.         0.         0.         0.         0.\n",
      "  0.32941176 0.80784314 0.99607843 0.99607843 0.99607843 0.99607843\n",
      "  0.16078431 0.         0.         0.         0.         0.\n",
      "  0.         0.         0.         0.        ]\n",
      " [0.         0.         0.         0.         0.         0.\n",
      "  0.         0.         0.         0.         0.         0.\n",
      "  0.         0.09411765 0.81960784 0.99607843 0.99607843 0.99607843\n",
      "  0.67058824 0.         0.         0.         0.         0.\n",
      "  0.         0.         0.         0.        ]\n",
      " [0.         0.         0.         0.         0.         0.\n",
      "  0.         0.         0.         0.         0.         0.\n",
      "  0.35686275 0.5372549  0.99215686 0.99607843 0.99607843 0.99607843\n",
      "  0.43921569 0.         0.         0.         0.         0.\n",
      "  0.         0.         0.         0.        ]\n",
      " [0.         0.         0.         0.         0.         0.\n",
      "  0.         0.         0.         0.         0.15686275 0.83921569\n",
      "  0.98039216 0.99607843 0.99607843 0.99607843 0.99607843 0.99607843\n",
      "  0.13333333 0.         0.         0.         0.         0.\n",
      "  0.         0.         0.         0.        ]\n",
      " [0.         0.         0.         0.         0.         0.\n",
      "  0.         0.         0.         0.         0.31764706 0.96862745\n",
      "  0.99607843 0.99607843 0.99607843 0.99607843 0.99607843 0.99607843\n",
      "  0.57254902 0.         0.         0.         0.         0.\n",
      "  0.         0.         0.         0.        ]\n",
      " [0.         0.         0.         0.         0.         0.\n",
      "  0.         0.         0.         0.         0.         0.43137255\n",
      "  0.96470588 0.99607843 0.99607843 0.99607843 0.99607843 0.99607843\n",
      "  0.67058824 0.         0.         0.         0.         0.\n",
      "  0.         0.         0.         0.        ]\n",
      " [0.         0.         0.         0.         0.         0.\n",
      "  0.         0.         0.         0.         0.         0.\n",
      "  0.28627451 0.34901961 0.34901961 0.36470588 0.94117647 0.99607843\n",
      "  0.67058824 0.         0.         0.         0.         0.\n",
      "  0.         0.         0.         0.        ]\n",
      " [0.         0.         0.         0.         0.         0.\n",
      "  0.         0.         0.         0.         0.         0.\n",
      "  0.         0.         0.         0.00392157 0.50196078 0.99607843\n",
      "  0.85882353 0.12156863 0.         0.         0.         0.\n",
      "  0.         0.         0.         0.        ]\n",
      " [0.         0.         0.         0.         0.         0.\n",
      "  0.         0.         0.         0.         0.         0.\n",
      "  0.         0.         0.         0.02745098 0.99607843 0.99607843\n",
      "  0.83921569 0.10980392 0.         0.         0.         0.\n",
      "  0.         0.         0.         0.        ]\n",
      " [0.         0.         0.         0.         0.         0.\n",
      "  0.         0.         0.         0.         0.         0.\n",
      "  0.         0.         0.         0.54117647 0.99607843 0.99607843\n",
      "  0.45490196 0.         0.         0.         0.         0.\n",
      "  0.         0.         0.         0.        ]\n",
      " [0.         0.         0.         0.         0.         0.\n",
      "  0.0745098  0.69411765 0.35294118 0.         0.         0.\n",
      "  0.         0.         0.09803922 0.94117647 0.99607843 0.99607843\n",
      "  0.13333333 0.         0.         0.         0.         0.\n",
      "  0.         0.         0.         0.        ]\n",
      " [0.         0.         0.         0.         0.         0.\n",
      "  0.64313725 0.99607843 0.84313725 0.24705882 0.14117647 0.\n",
      "  0.2        0.34901961 0.80784314 0.99607843 0.99607843 0.54509804\n",
      "  0.03137255 0.         0.         0.         0.         0.\n",
      "  0.         0.         0.         0.        ]\n",
      " [0.         0.         0.         0.         0.         0.\n",
      "  0.22352941 0.77254902 0.99607843 0.99607843 0.87058824 0.70588235\n",
      "  0.94509804 0.99607843 0.99607843 0.99215686 0.83529412 0.04313725\n",
      "  0.         0.         0.         0.         0.         0.\n",
      "  0.         0.         0.         0.        ]\n",
      " [0.         0.         0.         0.         0.         0.\n",
      "  0.         0.54901961 0.41176471 0.99607843 0.99607843 0.99607843\n",
      "  0.99607843 0.99607843 0.99607843 0.9254902  0.         0.\n",
      "  0.         0.         0.         0.         0.         0.\n",
      "  0.         0.         0.         0.        ]\n",
      " [0.         0.         0.         0.         0.         0.\n",
      "  0.         0.         0.02745098 0.45882353 0.45882353 0.64705882\n",
      "  0.99607843 0.99607843 0.9372549  0.19607843 0.         0.\n",
      "  0.         0.         0.         0.         0.         0.\n",
      "  0.         0.         0.         0.        ]\n",
      " [0.         0.         0.         0.         0.         0.\n",
      "  0.         0.         0.         0.         0.         0.\n",
      "  0.         0.         0.         0.         0.         0.\n",
      "  0.         0.         0.         0.         0.         0.\n",
      "  0.         0.         0.         0.        ]\n",
      " [0.         0.         0.         0.         0.         0.\n",
      "  0.         0.         0.         0.         0.         0.\n",
      "  0.         0.         0.         0.         0.         0.\n",
      "  0.         0.         0.         0.         0.         0.\n",
      "  0.         0.         0.         0.        ]\n",
      " [0.         0.         0.         0.         0.         0.\n",
      "  0.         0.         0.         0.         0.         0.\n",
      "  0.         0.         0.         0.         0.         0.\n",
      "  0.         0.         0.         0.         0.         0.\n",
      "  0.         0.         0.         0.        ]\n",
      " [0.         0.         0.         0.         0.         0.\n",
      "  0.         0.         0.         0.         0.         0.\n",
      "  0.         0.         0.         0.         0.         0.\n",
      "  0.         0.         0.         0.         0.         0.\n",
      "  0.         0.         0.         0.        ]]\n"
     ]
    }
   ],
   "source": [
    "# printing the 10th image\n",
    "\n",
    "print(X_train[10])"
   ]
  },
  {
   "cell_type": "markdown",
   "metadata": {
    "id": "-OGxD2JNqW7V"
   },
   "source": [
    "Building the Neural Network"
   ]
  },
  {
   "cell_type": "code",
   "execution_count": 20,
   "metadata": {
    "id": "w5Cc2uc7qM0v"
   },
   "outputs": [],
   "source": [
    "# setting up the layers of the Neural  Network\n",
    "\n",
    "model = keras.Sequential([\n",
    "                          keras.layers.Flatten(input_shape=(28,28)),\n",
    "                          keras.layers.Dense(64, activation='relu'),\n",
    "                          keras.layers.Dense(128, activation='relu'),\n",
    "                          keras.layers.Dense(10, activation='sigmoid')\n",
    "])"
   ]
  },
  {
   "cell_type": "code",
   "execution_count": 21,
   "metadata": {
    "id": "1I2D8NLxsEsf"
   },
   "outputs": [],
   "source": [
    "# compiling the Neural Network\n",
    "\n",
    "model.compile(optimizer='adam',\n",
    "              loss = 'sparse_categorical_crossentropy',\n",
    "              metrics=['accuracy'])"
   ]
  },
  {
   "cell_type": "code",
   "execution_count": 22,
   "metadata": {
    "colab": {
     "base_uri": "https://localhost:8080/"
    },
    "id": "NyaE8g3os3Ty",
    "outputId": "b516d673-e44d-4845-a8a8-87efa6cf7663"
   },
   "outputs": [
    {
     "name": "stdout",
     "output_type": "stream",
     "text": [
      "Epoch 1/10\n",
      "1875/1875 [==============================] - 5s 2ms/step - loss: 0.2612 - accuracy: 0.9233\n",
      "Epoch 2/10\n",
      "1875/1875 [==============================] - 4s 2ms/step - loss: 0.1177 - accuracy: 0.9639\n",
      "Epoch 3/10\n",
      "1875/1875 [==============================] - 4s 2ms/step - loss: 0.0835 - accuracy: 0.9737\n",
      "Epoch 4/10\n",
      "1875/1875 [==============================] - 4s 2ms/step - loss: 0.0656 - accuracy: 0.9792\n",
      "Epoch 5/10\n",
      "1875/1875 [==============================] - 4s 2ms/step - loss: 0.0541 - accuracy: 0.9830\n",
      "Epoch 6/10\n",
      "1875/1875 [==============================] - 4s 2ms/step - loss: 0.0445 - accuracy: 0.9851\n",
      "Epoch 7/10\n",
      "1875/1875 [==============================] - 4s 2ms/step - loss: 0.0374 - accuracy: 0.9875\n",
      "Epoch 8/10\n",
      "1875/1875 [==============================] - 4s 2ms/step - loss: 0.0323 - accuracy: 0.9891\n",
      "Epoch 9/10\n",
      "1875/1875 [==============================] - 4s 2ms/step - loss: 0.0306 - accuracy: 0.9900\n",
      "Epoch 10/10\n",
      "1875/1875 [==============================] - 4s 2ms/step - loss: 0.0252 - accuracy: 0.9917\n"
     ]
    },
    {
     "data": {
      "text/plain": [
       "<keras.src.callbacks.History at 0x25a6df89490>"
      ]
     },
     "execution_count": 22,
     "metadata": {},
     "output_type": "execute_result"
    }
   ],
   "source": [
    "# training the Neural Network\n",
    "\n",
    "model.fit(X_train, Y_train, epochs=10)"
   ]
  },
  {
   "cell_type": "markdown",
   "metadata": {
    "id": "BCIrbFzatnNL"
   },
   "source": [
    "Training data accuracy = 99.17%"
   ]
  },
  {
   "cell_type": "markdown",
   "metadata": {
    "id": "PzqQaLcBtvUh"
   },
   "source": [
    "**Accuracy on Test data:**"
   ]
  },
  {
   "cell_type": "code",
   "execution_count": 23,
   "metadata": {
    "colab": {
     "base_uri": "https://localhost:8080/"
    },
    "id": "XoyRl62stGvm",
    "outputId": "7ea427ef-4469-4237-cc6e-2b005d2e3eb2"
   },
   "outputs": [
    {
     "name": "stdout",
     "output_type": "stream",
     "text": [
      "313/313 [==============================] - 1s 2ms/step - loss: 0.1005 - accuracy: 0.9757\n",
      "0.9757000207901001\n"
     ]
    }
   ],
   "source": [
    "loss, accuracy = model.evaluate(X_test, Y_test)\n",
    "print(accuracy)"
   ]
  },
  {
   "cell_type": "markdown",
   "metadata": {
    "id": "LvDub61LuJ3Q"
   },
   "source": [
    "Test data accuracy = 97.57%"
   ]
  },
  {
   "cell_type": "code",
   "execution_count": 24,
   "metadata": {
    "colab": {
     "base_uri": "https://localhost:8080/"
    },
    "id": "Jy_0KNc7uE8P",
    "outputId": "391cfb9f-2833-4622-b4ce-3b2c679a305c"
   },
   "outputs": [
    {
     "name": "stdout",
     "output_type": "stream",
     "text": [
      "(10000, 28, 28)\n"
     ]
    }
   ],
   "source": [
    "print(X_test.shape)"
   ]
  },
  {
   "cell_type": "code",
   "execution_count": 28,
   "metadata": {},
   "outputs": [
    {
     "data": {
      "image/png": "[encoded data removed]",
      "text/plain": [
       "<Figure size 640x480 with 1 Axes>"
      ]
     },
     "metadata": {},
     "output_type": "display_data"
    }
   ],
   "source": [
    "plt.imshow(X_test[5])\n",
    "plt.show()"
   ]
  },
  {
   "cell_type": "code",
   "execution_count": 30,
   "metadata": {},
   "outputs": [
    {
     "name": "stdout",
     "output_type": "stream",
     "text": [
      "1\n"
     ]
    }
   ],
   "source": [
    "print(Y_test[5])"
   ]
  },
  {
   "cell_type": "code",
   "execution_count": 25,
   "metadata": {
    "colab": {
     "base_uri": "https://localhost:8080/",
     "height": 265
    },
    "id": "H0FbpoPQuUXx",
    "outputId": "5dacf08b-9c96-4976-f2b2-c89393276aed"
   },
   "outputs": [
    {
     "data": {
      "image/png": "[encoded data removed]",
      "text/plain": [
       "<Figure size 640x480 with 1 Axes>"
      ]
     },
     "metadata": {},
     "output_type": "display_data"
    }
   ],
   "source": [
    "# first data point in X_test\n",
    "plt.imshow(X_test[0])\n",
    "plt.show()"
   ]
  },
  {
   "cell_type": "code",
   "execution_count": 32,
   "metadata": {
    "colab": {
     "base_uri": "https://localhost:8080/"
    },
    "id": "r9FHvoC0ueE-",
    "outputId": "46851e44-83d8-4ffe-d2f7-18c385f0302d"
   },
   "outputs": [
    {
     "name": "stdout",
     "output_type": "stream",
     "text": [
      "7\n"
     ]
    }
   ],
   "source": [
    "print(Y_test[0])"
   ]
  },
  {
   "cell_type": "code",
   "execution_count": 33,
   "metadata": {
    "id": "fdYxpFVgujWJ"
   },
   "outputs": [
    {
     "name": "stdout",
     "output_type": "stream",
     "text": [
      "313/313 [==============================] - 1s 1ms/step\n"
     ]
    }
   ],
   "source": [
    "Y_pred = model.predict(X_test)"
   ]
  },
  {
   "cell_type": "code",
   "execution_count": 34,
   "metadata": {
    "colab": {
     "base_uri": "https://localhost:8080/"
    },
    "id": "JK6kpaNGuw16",
    "outputId": "35a566b5-833b-4d4c-b136-4d02238a3ede"
   },
   "outputs": [
    {
     "name": "stdout",
     "output_type": "stream",
     "text": [
      "(10000, 10)\n"
     ]
    }
   ],
   "source": [
    "print(Y_pred.shape)"
   ]
  },
  {
   "cell_type": "code",
   "execution_count": 35,
   "metadata": {
    "colab": {
     "base_uri": "https://localhost:8080/"
    },
    "id": "3czHMOdou069",
    "outputId": "75574c21-38f5-4e79-ef4e-4ee359770e06"
   },
   "outputs": [
    {
     "name": "stdout",
     "output_type": "stream",
     "text": [
      "[2.0773856e-05 3.2481041e-03 4.6754088e-02 7.4509448e-01 1.0255403e-06\n",
      " 7.3025115e-03 1.1680031e-09 9.9999982e-01 2.8102559e-03 4.0035740e-02]\n"
     ]
    }
   ],
   "source": [
    "print(Y_pred[0])"
   ]
  },
  {
   "cell_type": "markdown",
   "metadata": {
    "id": "m2enu0zlvSzv"
   },
   "source": [
    "model.predict() gives the prediction probability of each class for that data point"
   ]
  },
  {
   "cell_type": "code",
   "execution_count": null,
   "metadata": {
    "colab": {
     "base_uri": "https://localhost:8080/"
    },
    "id": "X5Z-zYKvu-tO",
    "outputId": "91cd61aa-996f-4fb1-9cb9-ad587be570ca"
   },
   "outputs": [
    {
     "name": "stdout",
     "output_type": "stream",
     "text": [
      "7\n"
     ]
    }
   ],
   "source": [
    "# converting the prediction probabilities to class label\n",
    "\n",
    "label_for_first_test_image = np.argmax(Y_pred[0])\n",
    "print(label_for_first_test_image)"
   ]
  },
  {
   "cell_type": "code",
   "execution_count": null,
   "metadata": {},
   "outputs": [],
   "source": []
  },
  {
   "cell_type": "code",
   "execution_count": null,
   "metadata": {
    "colab": {
     "base_uri": "https://localhost:8080/"
    },
    "id": "feoJffe2v38n",
    "outputId": "ab06d7a4-994d-4c64-8d71-10b11897a028"
   },
   "outputs": [
    {
     "name": "stdout",
     "output_type": "stream",
     "text": [
      "[7, 2, 1, 0, 4, 1, 4, 9, 6, 9, 0, 6, 9, 0, 1, 5, 9, 7, 3, 4, 9, 6, 6, 5, 4, 0, 7, 4, 0, 1, 3, 1, 3, 4, 7, 2, 7, 1, 2, 1, 1, 7, 4, 2, 3, 5, 1, 2, 4, 4, 6, 3, 5, 5, 6, 0, 4, 1, 9, 5, 7, 8, 9, 3, 7, 4, 6, 4, 3, 0, 7, 0, 2, 9, 1, 7, 3, 2, 9, 7, 7, 6, 2, 7, 8, 4, 7, 3, 6, 1, 3, 6, 9, 3, 1, 4, 1, 7, 6, 9, 6, 0, 5, 4, 5, 9, 2, 1, 9, 4, 8, 7, 3, 9, 7, 4, 4, 4, 9, 2, 5, 4, 7, 6, 7, 9, 0, 5, 8, 5, 6, 6, 5, 7, 8, 1, 0, 1, 6, 4, 6, 7, 3, 1, 7, 1, 8, 2, 0, 4, 9, 8, 5, 5, 1, 5, 6, 0, 3, 4, 4, 6, 5, 4, 6, 5, 4, 5, 1, 4, 4, 7, 2, 3, 2, 7, 1, 8, 1, 8, 1, 8, 5, 0, 8, 9, 2, 5, 0, 1, 1, 1, 0, 9, 0, 3, 1, 6, 4, 2, 3, 6, 1, 1, 1, 3, 9, 5, 2, 9, 4, 5, 9, 3, 9, 0, 3, 6, 5, 5, 7, 2, 2, 7, 1, 2, 8, 4, 1, 7, 3, 3, 8, 8, 7, 9, 2, 2, 4, 1, 5, 8, 8, 7, 2, 3, 0, 6, 4, 2, 4, 1, 9, 5, 7, 7, 2, 8, 2, 6, 8, 5, 7, 7, 9, 1, 8, 1, 8, 0, 3, 0, 1, 9, 9, 4, 1, 8, 2, 1, 2, 9, 7, 5, 9, 2, 6, 4, 1, 5, 4, 2, 9, 2, 0, 4, 0, 0, 2, 8, 4, 7, 1, 2, 4, 0, 2, 7, 4, 3, 3, 0, 0, 3, 1, 9, 6, 5, 2, 5, 9, 7, 9, 3, 0, 4, 2, 0, 7, 1, 1, 2, 1, 5, 3, 3, 9, 7, 8, 5, 5, 6, 1, 3, 8, 1, 0, 5, 1, 3, 1, 5, 5, 6, 1, 8, 5, 1, 7, 4, 4, 6, 2, 2, 5, 0, 6, 5, 6, 3, 7, 2, 0, 8, 8, 5, 4, 1, 1, 4, 0, 7, 3, 7, 6, 1, 6, 2, 1, 4, 2, 8, 6, 1, 9, 5, 2, 5, 4, 4, 2, 8, 3, 8, 2, 4, 5, 0, 3, 1, 7, 7, 5, 7, 9, 7, 1, 9, 2, 1, 4, 2, 9, 2, 0, 4, 9, 1, 4, 8, 1, 8, 4, 5, 9, 8, 8, 3, 7, 6, 0, 0, 3, 0, 2, 0, 6, 4, 8, 3, 3, 3, 2, 3, 9, 1, 2, 6, 8, 0, 5, 6, 6, 6, 3, 8, 8, 2, 7, 5, 8, 9, 6, 1, 8, 4, 1, 2, 5, 9, 1, 9, 7, 5, 4, 0, 8, 9, 9, 1, 0, 5, 2, 3, 7, 2, 9, 4, 0, 6, 3, 9, 5, 2, 1, 3, 1, 3, 6, 5, 7, 4, 2, 2, 6, 3, 2, 6, 5, 4, 8, 9, 7, 1, 3, 0, 3, 8, 3, 1, 9, 3, 4, 4, 6, 4, 2, 1, 8, 2, 5, 4, 8, 8, 4, 0, 0, 2, 3, 2, 7, 7, 0, 8, 7, 4, 4, 7, 9, 6, 9, 0, 9, 8, 0, 4, 6, 0, 6, 3, 5, 4, 8, 3, 3, 9, 3, 3, 3, 7, 8, 0, 2, 2, 1, 7, 0, 6, 5, 4, 3, 8, 0, 9, 6, 3, 8, 0, 9, 9, 6, 8, 6, 8, 5, 7, 8, 6, 0, 2, 4, 0, 2, 2, 3, 1, 9, 7, 5, 8, 0, 8, 4, 6, 2, 6, 7, 9, 9, 2, 9, 8, 2, 2, 9, 2, 7, 3, 5, 9, 1, 8, 0, 2, 0, 5, 2, 1, 3, 7, 6, 7, 1, 2, 5, 8, 0, 3, 7, 8, 4, 0, 9, 1, 8, 6, 7, 7, 4, 3, 4, 9, 1, 9, 5, 1, 7, 3, 9, 7, 6, 9, 1, 3, 7, 8, 3, 3, 6, 7, 2, 4, 5, 8, 5, 1, 1, 4, 4, 3, 1, 0, 7, 7, 0, 7, 9, 4, 4, 8, 5, 5, 4, 0, 8, 2, 1, 0, 8, 4, 8, 0, 4, 0, 6, 1, 7, 3, 2, 6, 7, 2, 6, 9, 3, 1, 4, 6, 2, 5, 4, 2, 0, 6, 2, 1, 7, 3, 4, 1, 0, 5, 4, 3, 1, 1, 7, 4, 9, 9, 4, 8, 4, 0, 2, 4, 5, 1, 1, 6, 4, 7, 1, 9, 4, 2, 4, 1, 5, 5, 3, 8, 3, 1, 4, 5, 6, 8, 9, 4, 1, 5, 3, 8, 0, 3, 2, 5, 1, 2, 8, 3, 4, 4, 0, 8, 8, 3, 3, 1, 7, 3, 5, 9, 6, 3, 2, 6, 1, 3, 6, 0, 7, 2, 1, 7, 1, 4, 2, 4, 2, 1, 7, 9, 6, 1, 1, 2, 4, 8, 1, 7, 7, 4, 7, 0, 7, 3, 1, 3, 1, 0, 7, 7, 0, 3, 5, 5, 2, 7, 6, 6, 9, 2, 8, 3, 5, 2, 2, 5, 6, 0, 8, 2, 9, 2, 8, 6, 8, 8, 7, 4, 7, 3, 0, 6, 6, 3, 2, 1, 5, 2, 2, 9, 3, 0, 0, 5, 7, 8, 5, 4, 4, 6, 0, 2, 9, 1, 4, 7, 4, 7, 3, 9, 8, 8, 4, 7, 1, 2, 1, 2, 2, 3, 2, 3, 2, 3, 9, 1, 7, 4, 0, 3, 5, 5, 8, 6, 5, 2, 6, 7, 6, 6, 3, 2, 7, 8, 1, 1, 7, 4, 6, 4, 9, 5, 3, 3, 3, 4, 7, 8, 9, 1, 1, 0, 9, 1, 4, 4, 5, 4, 0, 6, 2, 2, 3, 1, 5, 1, 2, 0, 3, 8, 1, 2, 6, 7, 1, 6, 2, 3, 9, 0, 1, 2, 2, 0, 8, 9, 9, 0, 2, 5, 1, 9, 7, 8, 1, 0, 4, 1, 7, 9, 5, 4, 2, 6, 8, 1, 3, 7, 5, 4, 4, 1, 8, 1, 3, 8, 1, 2, 5, 8, 0, 6, 2, 1, 1, 2, 1, 5, 3, 4, 8, 9, 5, 0, 9, 2, 2, 4, 8, 2, 1, 7, 2, 4, 9, 4, 4, 0, 3, 9, 2, 2, 3, 3, 8, 3, 5, 7, 3, 5, 8, 1, 2, 4, 4, 6, 4, 9, 5, 1, 0, 6, 9, 5, 9, 5, 9, 7, 3, 8, 0, 3, 7, 1, 3, 6, 7, 8, 5, 9, 7, 9, 6, 9, 6, 3, 7, 4, 4, 5, 8, 5, 4, 7, 8, 7, 8, 0, 7, 6, 8, 8, 7, 3, 3, 1, 9, 5, 2, 7, 3, 5, 1, 1, 2, 1, 4, 7, 4, 7, 5, 4, 5, 7, 0, 8, 3, 6, 9, 6, 0, 2, 8, 4, 4, 4, 4, 6, 6, 4, 7, 9, 3, 4, 5, 5, 8, 7, 3, 7, 2, 7, 0, 2, 4, 1, 1, 6, 8, 9, 2, 8, 7, 2, 0, 1, 5, 0, 4, 1, 8, 0, 6, 0, 8, 6, 8, 1, 8, 0, 3, 3, 7, 2, 3, 6, 2, 1, 6, 1, 1, 3, 7, 9, 0, 8, 0, 5, 4, 0, 4, 8, 2, 2, 3, 8, 4, 0, 4, 5, 8, 5, 1, 2, 1, 5, 1, 7, 9, 5, 7, 2, 0, 5, 8, 8, 6, 2, 5, 4, 1, 9, 2, 1, 5, 8, 1, 0, 2, 4, 4, 3, 6, 8, 8, 2, 4, 0, 5, 0, 4, 4, 7, 9, 3, 4, 1, 5, 8, 7, 3, 5, 8, 8, 0, 5, 5, 3, 6, 6, 0, 1, 6, 0, 3, 7, 4, 4, 1, 2, 9, 1, 4, 6, 9, 9, 3, 9, 8, 4, 4, 3, 1, 3, 1, 0, 8, 7, 9, 4, 8, 8, 1, 9, 8, 1, 4, 5, 6, 0, 5, 2, 2, 2, 1, 5, 5, 2, 4, 9, 6, 2, 7, 7, 2, 2, 1, 1, 2, 8, 3, 7, 2, 4, 1, 7, 1, 7, 6, 7, 8, 2, 7, 3, 1, 7, 5, 8, 2, 6, 2, 2, 5, 6, 5, 0, 9, 2, 4, 3, 3, 9, 7, 6, 6, 8, 0, 4, 1, 3, 8, 2, 9, 1, 8, 0, 6, 7, 2, 8, 0, 5, 5, 2, 0, 2, 2, 0, 2, 4, 5, 8, 0, 9, 9, 4, 6, 5, 4, 9, 1, 8, 3, 4, 9, 4, 1, 2, 2, 8, 1, 9, 6, 4, 0, 9, 4, 8, 3, 8, 6, 0, 2, 5, 1, 9, 6, 2, 9, 4, 0, 9, 6, 0, 6, 2, 5, 4, 2, 3, 8, 4, 5, 5, 0, 3, 8, 5, 3, 5, 8, 6, 5, 7, 6, 3, 3, 9, 6, 1, 1, 2, 9, 0, 4, 3, 3, 6, 9, 5, 7, 3, 7, 7, 7, 8, 1, 9, 8, 3, 0, 7, 2, 7, 9, 4, 5, 4, 9, 3, 2, 1, 4, 0, 2, 3, 7, 5, 9, 8, 8, 5, 0, 5, 1, 4, 8, 5, 9, 0, 0, 0, 6, 6, 2, 3, 7, 8, 4, 7, 7, 9, 2, 4, 1, 6, 5, 2, 4, 5, 8, 1, 8, 4, 0, 9, 8, 4, 8, 7, 7, 0, 7, 8, 8, 6, 0, 4, 8, 8, 2, 4, 7, 6, 6, 6, 4, 9, 1, 8, 8, 2, 3, 6, 3, 0, 0, 3, 7, 6, 9, 7, 9, 9, 5, 4, 3, 3, 6, 1, 2, 3, 7, 3, 3, 2, 0, 3, 3, 8, 4, 3, 6, 3, 5, 0, 2, 0, 9, 0, 7, 4, 6, 9, 3, 5, 1, 9, 6, 1, 4, 5, 4, 5, 0, 5, 9, 5, 2, 1, 2, 9, 1, 9, 9, 4, 0, 8, 4, 5, 2, 9, 2, 1, 2, 1, 7, 3, 6, 8, 8, 4, 9, 1, 9, 8, 5, 7, 5, 1, 1, 8, 6, 5, 0, 4, 4, 7, 2, 3, 5, 6, 8, 8, 6, 2, 3, 1, 0, 5, 8, 9, 2, 9, 6, 7, 0, 4, 8, 7, 1, 7, 4, 1, 0, 3, 7, 2, 0, 0, 9, 1, 7, 8, 7, 8, 4, 7, 7, 0, 4, 6, 0, 3, 1, 1, 3, 3, 9, 6, 7, 4, 1, 5, 3, 0, 8, 7, 3, 9, 6, 9, 3, 5, 0, 2, 7, 4, 5, 1, 8, 5, 8, 0, 8, 8, 1, 5, 0, 3, 0, 3, 1, 4, 0, 3, 7, 2, 7, 5, 8, 0, 7, 0, 4, 3, 1, 9, 8, 7, 7, 1, 4, 9, 9, 3, 7, 1, 7, 9, 0, 2, 0, 3, 3, 7, 4, 9, 2, 3, 3, 7, 7, 0, 0, 7, 5, 2, 9, 8, 7, 4, 4, 2, 6, 6, 1, 9, 6, 8, 2, 9, 0, 8, 3, 1, 1, 6, 3, 5, 1, 1, 1, 3, 1, 2, 3, 0, 2, 0, 1, 3, 5, 5, 7, 4, 8, 9, 6, 4, 6, 8, 3, 6, 6, 8, 5, 1, 4, 2, 4, 4, 5, 1, 1, 9, 0, 2, 4, 9, 5, 7, 1, 8, 3, 5, 6, 9, 8, 7, 1, 1, 6, 7, 6, 3, 2, 2, 0, 8, 9, 2, 5, 1, 0, 8, 1, 4, 5, 7, 9, 6, 9, 0, 6, 1, 5, 5, 8, 3, 8, 2, 6, 5, 0, 7, 4, 6, 1, 3, 4, 7, 3, 2, 3, 4, 2, 5, 2, 7, 1, 7, 2, 6, 4, 1, 5, 8, 8, 6, 0, 1, 8, 2, 5, 7, 7, 6, 3, 3, 5, 8, 4, 2, 4, 0, 8, 8, 3, 4, 9, 2, 7, 5, 8, 6, 5, 6, 0, 8, 6, 7, 3, 6, 4, 9, 4, 6, 5, 3, 0, 4, 1, 0, 1, 4, 6, 2, 9, 1, 1, 0, 6, 3, 9, 5, 6, 5, 6, 5, 8, 4, 6, 4, 3, 9, 1, 3, 4, 1, 9, 1, 2, 1, 1, 9, 3, 5, 4, 0, 9, 3, 6, 1, 7, 5, 5, 3, 3, 0, 1, 5, 7, 5, 8, 6, 5, 1, 0, 4, 2, 3, 4, 6, 7, 9, 8, 1, 8, 9, 9, 2, 8, 6, 2, 7, 0, 0, 6, 7, 5, 8, 6, 0, 9, 3, 4, 1, 3, 5, 4, 3, 3, 5, 5, 6, 3, 0, 2, 3, 4, 2, 3, 0, 9, 9, 4, 7, 2, 8, 4, 7, 0, 6, 0, 8, 5, 2, 8, 5, 7, 3, 0, 8, 2, 8, 2, 8, 2, 5, 5, 7, 6, 4, 6, 8, 4, 8, 2, 7, 4, 5, 2, 0, 3, 4, 4, 6, 7, 2, 5, 6, 1, 1, 2, 3, 6, 7, 8, 7, 6, 4, 8, 9, 4, 8, 6, 3, 8, 3, 1, 0, 6, 2, 2, 5, 6, 9, 5, 8, 1, 4, 1, 7, 8, 4, 6, 1, 8, 4, 5, 1, 2, 8, 0, 8, 5, 9, 1, 4, 2, 0, 2, 7, 0, 1, 0, 2, 5, 7, 6, 7, 9, 4, 2, 6, 2, 4, 4, 8, 0, 4, 4, 5, 8, 0, 6, 8, 9, 8, 5, 6, 9, 0, 4, 8, 7, 1, 3, 4, 5, 8, 0, 9, 1, 3, 3, 6, 9, 8, 7, 1, 0, 5, 7, 1, 7, 5, 2, 7, 9, 1, 8, 5, 2, 4, 9, 4, 7, 2, 2, 3, 4, 9, 1, 9, 2, 1, 7, 9, 4, 4, 1, 6, 7, 2, 7, 8, 0, 1, 9, 7, 1, 1, 7, 5, 3, 3, 5, 1, 3, 7, 6, 1, 3, 8, 7, 3, 8, 0, 0, 0, 2, 8, 8, 2, 3, 7, 1, 3, 0, 3, 4, 4, 3, 8, 9, 2, 3, 9, 7, 1, 1, 7, 0, 4, 9, 6, 5, 9, 1, 7, 0, 2, 0, 0, 4, 6, 7, 0, 7, 1, 4, 6, 4, 5, 4, 9, 9, 1, 7, 9, 5, 3, 3, 8, 2, 3, 6, 2, 2, 1, 1, 1, 1, 1, 6, 9, 8, 4, 3, 7, 1, 6, 4, 5, 0, 4, 7, 4, 2, 4, 0, 7, 0, 1, 9, 8, 8, 6, 0, 0, 4, 1, 6, 8, 2, 2, 3, 3, 4, 8, 2, 2, 1, 7, 5, 4, 4, 0, 4, 3, 8, 7, 3, 1, 0, 1, 2, 5, 4, 2, 1, 0, 1, 8, 9, 1, 4, 8, 3, 8, 4, 3, 6, 2, 8, 3, 2, 2, 1, 0, 4, 2, 9, 2, 4, 3, 7, 9, 1, 5, 2, 4, 9, 0, 3, 8, 5, 3, 6, 0, 9, 4, 6, 2, 5, 0, 2, 7, 4, 6, 6, 8, 6, 6, 8, 6, 9, 1, 7, 2, 5, 9, 9, 0, 7, 2, 7, 6, 7, 0, 6, 5, 4, 4, 7, 2, 0, 9, 9, 2, 2, 9, 4, 4, 2, 3, 3, 2, 1, 7, 0, 7, 6, 4, 1, 3, 8, 7, 4, 5, 9, 2, 5, 1, 8, 7, 3, 7, 1, 5, 5, 0, 9, 1, 4, 0, 6, 3, 3, 6, 0, 4, 9, 7, 5, 1, 6, 8, 9, 5, 5, 7, 9, 3, 8, 3, 8, 1, 5, 3, 5, 0, 5, 5, 3, 8, 6, 7, 7, 7, 3, 7, 0, 5, 9, 0, 2, 5, 5, 3, 1, 7, 7, 8, 6, 5, 7, 3, 8, 9, 5, 3, 7, 0, 1, 7, 0, 0, 3, 7, 2, 5, 8, 1, 8, 6, 2, 9, 5, 7, 5, 4, 8, 6, 8, 5, 1, 4, 8, 4, 5, 8, 5, 0, 6, 2, 7, 3, 3, 2, 1, 0, 7, 3, 4, 0, 3, 9, 3, 7, 8, 9, 0, 3, 8, 0, 7, 6, 5, 4, 7, 3, 8, 0, 8, 6, 2, 5, 1, 1, 0, 0, 4, 4, 0, 1, 2, 3, 2, 7, 7, 8, 5, 2, 5, 7, 6, 9, 1, 4, 1, 6, 4, 2, 4, 3, 5, 4, 3, 9, 5, 0, 1, 5, 3, 8, 9, 1, 9, 7, 9, 5, 5, 2, 7, 4, 6, 0, 1, 1, 1, 0, 4, 4, 7, 6, 3, 8, 0, 4, 3, 0, 6, 1, 4, 6, 1, 3, 8, 1, 2, 5, 6, 2, 7, 3, 6, 0, 1, 9, 7, 6, 6, 8, 9, 2, 9, 5, 8, 3, 1, 0, 0, 7, 6, 6, 2, 1, 6, 9, 3, 1, 8, 6, 9, 0, 6, 0, 0, 0, 6, 3, 5, 9, 3, 4, 5, 5, 8, 5, 3, 0, 4, 0, 2, 9, 6, 8, 2, 3, 1, 2, 1, 1, 5, 6, 9, 8, 0, 6, 6, 5, 5, 3, 8, 6, 2, 1, 4, 5, 4, 3, 7, 8, 5, 0, 9, 3, 5, 1, 1, 0, 4, 4, 7, 0, 1, 7, 0, 1, 6, 1, 4, 5, 6, 6, 5, 7, 8, 4, 4, 7, 2, 5, 3, 7, 0, 7, 7, 9, 6, 4, 2, 8, 5, 7, 8, 8, 9, 5, 8, 9, 9, 8, 6, 2, 8, 9, 2, 3, 6, 1, 1, 8, 9, 3, 4, 0, 7, 9, 6, 4, 1, 4, 1, 3, 4, 9, 3, 1, 4, 7, 7, 4, 7, 2, 9, 3, 0, 8, 6, 8, 4, 0, 4, 4, 1, 5, 2, 8, 3, 4, 9, 5, 2, 8, 1, 5, 3, 7, 9, 4, 2, 5, 6, 2, 5, 9, 3, 5, 9, 2, 1, 9, 5, 3, 0, 6, 9, 8, 4, 0, 4, 5, 2, 9, 0, 1, 0, 3, 1, 6, 5, 8, 1, 5, 5, 5, 0, 3, 5, 5, 9, 2, 8, 7, 0, 4, 9, 1, 9, 7, 7, 5, 5, 2, 0, 9, 1, 8, 6, 2, 3, 9, 6, 2, 1, 9, 1, 3, 5, 5, 0, 3, 8, 3, 3, 7, 6, 6, 0, 1, 4, 0, 6, 9, 8, 1, 2, 1, 9, 5, 9, 7, 3, 7, 8, 0, 1, 3, 0, 4, 6, 1, 0, 2, 5, 8, 4, 4, 1, 1, 5, 4, 6, 6, 0, 6, 9, 2, 6, 2, 7, 1, 7, 9, 4, 0, 0, 3, 8, 2, 2, 3, 1, 6, 0, 5, 7, 7, 9, 2, 6, 7, 7, 7, 8, 6, 8, 8, 4, 6, 8, 4, 1, 2, 8, 2, 3, 9, 4, 0, 3, 7, 3, 2, 3, 3, 7, 3, 4, 0, 6, 2, 0, 8, 1, 5, 3, 5, 4, 1, 7, 1, 5, 7, 5, 7, 3, 2, 2, 7, 3, 7, 3, 7, 8, 5, 4, 5, 2, 4, 6, 5, 3, 6, 7, 4, 1, 7, 1, 5, 2, 3, 0, 3, 1, 4, 2, 6, 7, 4, 3, 8, 0, 6, 2, 1, 6, 5, 3, 9, 1, 9, 3, 2, 1, 8, 4, 4, 6, 5, 8, 6, 9, 7, 7, 8, 6, 9, 7, 3, 9, 4, 0, 5, 4, 6, 4, 1, 2, 3, 0, 0, 2, 6, 6, 5, 7, 0, 8, 6, 4, 7, 9, 0, 7, 3, 4, 2, 1, 8, 8, 5, 9, 2, 7, 1, 8, 8, 8, 2, 7, 6, 0, 1, 2, 7, 1, 0, 8, 3, 6, 0, 5, 3, 6, 2, 8, 9, 0, 1, 4, 2, 1, 1, 4, 4, 4, 4, 7, 1, 6, 2, 9, 9, 0, 0, 1, 8, 8, 4, 3, 4, 2, 0, 6, 1, 6, 1, 2, 2, 2, 1, 2, 3, 7, 8, 1, 0, 0, 2, 1, 6, 6, 0, 1, 6, 2, 5, 1, 7, 4, 8, 2, 1, 4, 3, 8, 3, 9, 9, 4, 3, 3, 4, 7, 2, 7, 5, 7, 0, 4, 3, 3, 2, 6, 7, 6, 0, 0, 6, 7, 7, 0, 5, 5, 8, 1, 0, 7, 0, 2, 8, 1, 5, 0, 8, 8, 0, 3, 2, 7, 7, 8, 6, 4, 7, 5, 5, 5, 2, 9, 2, 8, 4, 6, 8, 6, 5, 0, 0, 8, 7, 6, 1, 7, 1, 1, 2, 7, 4, 0, 0, 7, 7, 6, 3, 8, 6, 4, 2, 0, 9, 4, 0, 5, 7, 8, 2, 7, 4, 7, 1, 1, 3, 6, 6, 2, 9, 1, 9, 4, 8, 3, 6, 9, 5, 9, 6, 2, 4, 6, 7, 7, 0, 6, 6, 9, 4, 8, 3, 5, 3, 4, 9, 0, 0, 5, 2, 5, 0, 7, 1, 1, 1, 0, 7, 6, 7, 9, 6, 6, 4, 1, 4, 3, 1, 1, 2, 2, 4, 1, 0, 8, 7, 6, 3, 4, 0, 0, 6, 3, 3, 0, 9, 1, 7, 1, 1, 3, 1, 0, 9, 9, 7, 5, 4, 1, 4, 8, 9, 5, 3, 5, 1, 9, 8, 2, 3, 3, 9, 9, 0, 1, 0, 2, 9, 3, 9, 3, 3, 6, 2, 4, 9, 8, 3, 7, 4, 0, 4, 7, 8, 4, 9, 8, 1, 9, 7, 5, 9, 2, 8, 2, 2, 0, 2, 2, 3, 8, 4, 6, 8, 4, 8, 2, 4, 6, 7, 9, 3, 3, 9, 4, 3, 1, 4, 4, 7, 0, 5, 9, 6, 0, 4, 4, 4, 4, 6, 1, 2, 3, 2, 5, 4, 5, 9, 6, 8, 5, 6, 0, 8, 6, 4, 1, 8, 6, 5, 2, 5, 4, 5, 5, 4, 7, 7, 0, 7, 8, 2, 2, 3, 7, 0, 1, 8, 0, 7, 1, 9, 8, 7, 5, 5, 9, 1, 7, 5, 4, 3, 1, 2, 2, 1, 6, 6, 7, 1, 1, 4, 0, 7, 4, 2, 4, 0, 6, 4, 7, 6, 9, 5, 3, 4, 6, 5, 0, 1, 8, 8, 2, 8, 3, 5, 7, 8, 0, 8, 5, 7, 1, 1, 0, 1, 3, 7, 8, 5, 0, 7, 1, 1, 0, 1, 1, 4, 5, 2, 7, 6, 2, 3, 0, 2, 8, 5, 9, 6, 9, 7, 2, 1, 3, 6, 4, 1, 8, 2, 4, 0, 5, 1, 0, 8, 2, 6, 4, 4, 3, 9, 6, 1, 6, 5, 7, 9, 2, 0, 2, 6, 0, 1, 4, 3, 5, 2, 8, 8, 0, 8, 8, 9, 0, 9, 6, 7, 6, 3, 9, 3, 4, 7, 7, 7, 4, 9, 0, 6, 4, 8, 4, 2, 7, 2, 8, 1, 0, 0, 7, 8, 3, 3, 3, 1, 3, 7, 6, 1, 3, 1, 6, 0, 5, 2, 4, 7, 5, 9, 5, 8, 4, 9, 9, 1, 5, 5, 0, 1, 3, 7, 0, 3, 4, 8, 2, 2, 0, 2, 5, 1, 5, 1, 6, 8, 8, 9, 1, 2, 1, 3, 5, 1, 0, 9, 4, 4, 8, 3, 8, 5, 4, 7, 6, 6, 2, 0, 0, 0, 5, 8, 8, 1, 5, 2, 3, 8, 5, 1, 8, 2, 4, 4, 9, 9, 6, 2, 3, 3, 5, 6, 4, 8, 0, 9, 2, 8, 3, 6, 7, 5, 4, 2, 9, 4, 9, 1, 2, 8, 6, 0, 7, 0, 4, 1, 1, 5, 7, 5, 9, 9, 1, 9, 5, 9, 2, 5, 0, 4, 1, 0, 8, 4, 0, 8, 9, 8, 9, 4, 8, 5, 7, 9, 8, 9, 8, 0, 9, 9, 6, 8, 9, 9, 5, 9, 8, 6, 1, 0, 3, 3, 5, 2, 1, 6, 5, 0, 2, 8, 3, 5, 6, 2, 3, 0, 2, 2, 6, 4, 3, 5, 5, 1, 7, 2, 1, 6, 9, 1, 3, 9, 5, 5, 1, 6, 2, 2, 8, 6, 7, 1, 4, 6, 0, 4, 0, 5, 3, 2, 2, 3, 6, 8, 9, 8, 5, 3, 8, 5, 4, 5, 2, 0, 5, 6, 3, 2, 8, 3, 9, 9, 5, 7, 9, 4, 6, 7, 1, 3, 1, 3, 6, 6, 0, 9, 0, 1, 9, 4, 2, 8, 8, 0, 1, 6, 9, 7, 5, 5, 4, 7, 4, 9, 9, 4, 3, 6, 3, 1, 1, 7, 6, 9, 1, 8, 4, 1, 1, 9, 9, 4, 3, 6, 8, 1, 6, 0, 4, 1, 3, 7, 7, 4, 9, 5, 1, 0, 0, 1, 1, 6, 2, 1, 9, 8, 4, 0, 3, 6, 4, 9, 0, 7, 1, 6, 5, 7, 5, 2, 5, 1, 8, 5, 4, 7, 0, 6, 7, 8, 2, 5, 8, 1, 0, 4, 5, 7, 1, 3, 5, 1, 3, 0, 0, 6, 0, 7, 3, 1, 8, 3, 9, 7, 0, 0, 8, 9, 5, 9, 8, 3, 2, 7, 2, 9, 7, 2, 1, 1, 3, 7, 5, 3, 1, 9, 8, 2, 2, 2, 8, 8, 5, 7, 3, 8, 9, 8, 8, 6, 8, 2, 3, 9, 7, 5, 6, 2, 9, 2, 8, 8, 1, 6, 2, 8, 7, 9, 1, 8, 0, 1, 7, 2, 0, 7, 5, 1, 9, 0, 2, 0, 9, 8, 6, 2, 3, 0, 3, 8, 0, 2, 1, 1, 1, 1, 4, 2, 9, 7, 7, 5, 1, 1, 2, 1, 9, 9, 9, 1, 0, 2, 0, 2, 1, 1, 4, 4, 4, 1, 5, 4, 9, 7, 7, 1, 5, 6, 2, 2, 2, 8, 0, 6, 9, 6, 1, 9, 7, 7, 1, 4, 8, 5, 3, 4, 3, 4, 7, 7, 5, 0, 7, 4, 8, 8, 1, 5, 3, 9, 5, 9, 7, 6, 9, 0, 3, 6, 3, 9, 8, 2, 8, 1, 2, 8, 6, 8, 5, 5, 3, 9, 4, 9, 2, 5, 1, 5, 1, 4, 4, 1, 4, 4, 3, 5, 9, 1, 2, 2, 3, 3, 0, 2, 9, 0, 0, 9, 5, 6, 0, 9, 3, 7, 8, 4, 1, 9, 9, 7, 2, 7, 9, 9, 5, 9, 5, 1, 1, 8, 3, 5, 1, 9, 5, 3, 5, 4, 9, 5, 9, 5, 1, 9, 0, 9, 7, 5, 4, 9, 2, 0, 1, 0, 5, 1, 4, 9, 3, 3, 6, 1, 5, 2, 5, 2, 2, 0, 9, 2, 6, 6, 0, 1, 2, 0, 3, 0, 2, 5, 5, 7, 9, 5, 5, 0, 8, 9, 5, 0, 3, 2, 5, 4, 0, 8, 8, 4, 6, 8, 8, 4, 5, 4, 8, 5, 4, 9, 2, 2, 1, 2, 6, 8, 8, 7, 0, 3, 6, 6, 4, 3, 8, 8, 7, 2, 2, 0, 0, 4, 3, 9, 9, 1, 9, 8, 6, 6, 4, 2, 6, 9, 2, 4, 5, 4, 5, 7, 9, 4, 9, 2, 1, 8, 3, 4, 0, 2, 8, 3, 9, 3, 4, 6, 5, 6, 2, 3, 9, 2, 6, 0, 0, 6, 1, 2, 8, 7, 9, 8, 2, 0, 4, 7, 7, 5, 0, 5, 6, 4, 6, 7, 4, 3, 0, 7, 5, 0, 7, 4, 2, 0, 8, 9, 9, 4, 2, 4, 6, 7, 8, 7, 6, 9, 4, 1, 3, 7, 3, 0, 8, 7, 4, 6, 9, 3, 9, 2, 2, 9, 2, 1, 8, 3, 2, 9, 6, 8, 4, 0, 1, 2, 8, 4, 5, 2, 7, 8, 1, 1, 3, 0, 3, 5, 7, 0, 3, 1, 8, 3, 5, 3, 1, 7, 7, 3, 0, 8, 4, 8, 2, 6, 5, 2, 9, 7, 3, 9, 0, 9, 9, 6, 4, 2, 9, 7, 2, 1, 1, 6, 7, 4, 7, 5, 9, 6, 8, 2, 1, 4, 4, 5, 7, 6, 1, 3, 2, 5, 9, 9, 3, 6, 1, 1, 4, 6, 9, 7, 2, 1, 5, 1, 4, 6, 3, 4, 1, 1, 0, 3, 1, 6, 8, 4, 9, 0, 7, 3, 0, 2, 9, 0, 6, 6, 6, 3, 6, 7, 7, 2, 8, 6, 0, 8, 3, 0, 2, 9, 8, 5, 2, 5, 3, 8, 8, 0, 0, 1, 9, 5, 1, 3, 9, 6, 0, 1, 4, 1, 7, 1, 2, 3, 7, 9, 7, 4, 9, 9, 3, 9, 2, 8, 2, 7, 1, 8, 0, 9, 1, 0, 1, 7, 7, 9, 6, 9, 9, 9, 2, 1, 6, 1, 3, 5, 7, 1, 9, 7, 6, 4, 5, 7, 6, 6, 9, 9, 6, 3, 6, 2, 9, 8, 1, 2, 2, 5, 5, 2, 3, 7, 2, 1, 0, 1, 0, 4, 5, 2, 8, 2, 8, 3, 5, 1, 7, 8, 1, 1, 2, 9, 7, 8, 4, 0, 5, 0, 7, 8, 8, 4, 7, 7, 8, 5, 8, 4, 9, 8, 1, 3, 8, 0, 3, 1, 7, 9, 5, 5, 1, 6, 5, 7, 4, 9, 3, 5, 4, 7, 1, 2, 0, 8, 1, 6, 0, 7, 3, 4, 7, 3, 9, 6, 0, 8, 6, 4, 8, 7, 7, 9, 3, 8, 6, 9, 7, 2, 3, 4, 0, 2, 1, 3, 5, 5, 5, 7, 2, 4, 6, 7, 2, 8, 3, 0, 8, 7, 8, 6, 0, 8, 4, 4, 5, 8, 5, 6, 6, 3, 0, 9, 3, 7, 6, 8, 9, 3, 4, 9, 5, 8, 9, 1, 2, 8, 8, 6, 8, 1, 3, 7, 9, 0, 1, 1, 4, 7, 0, 8, 1, 7, 4, 5, 7, 1, 2, 1, 1, 3, 5, 6, 4, 1, 2, 8, 8, 7, 6, 6, 9, 3, 8, 0, 5, 2, 8, 0, 5, 4, 3, 8, 4, 6, 6, 2, 7, 9, 5, 1, 3, 2, 4, 3, 6, 1, 9, 4, 4, 7, 6, 5, 4, 1, 9, 9, 2, 7, 8, 0, 1, 3, 6, 1, 3, 4, 1, 1, 1, 5, 6, 0, 7, 0, 7, 2, 3, 2, 5, 2, 2, 9, 4, 9, 8, 1, 3, 1, 6, 1, 2, 7, 4, 0, 0, 0, 8, 2, 2, 9, 2, 2, 8, 9, 9, 2, 7, 5, 1, 3, 4, 9, 4, 1, 8, 5, 6, 2, 8, 3, 1, 2, 8, 4, 9, 9, 3, 7, 0, 7, 7, 2, 3, 2, 4, 0, 3, 9, 9, 8, 4, 1, 0, 6, 0, 9, 6, 5, 6, 1, 1, 9, 8, 9, 2, 3, 5, 5, 9, 4, 2, 1, 4, 4, 3, 9, 6, 0, 4, 0, 6, 0, 1, 2, 3, 4, 7, 8, 9, 0, 1, 2, 3, 4, 7, 8, 9, 0, 1, 2, 3, 4, 5, 6, 7, 8, 9, 8, 3, 4, 7, 8, 6, 3, 4, 0, 9, 7, 1, 9, 3, 8, 4, 7, 3, 0, 9, 1, 4, 5, 4, 6, 2, 0, 6, 2, 1, 1, 1, 1, 7, 2, 4, 7, 5, 2, 9, 4, 5, 8, 4, 2, 9, 7, 0, 0, 7, 5, 1, 1, 7, 6, 6, 6, 8, 2, 2, 7, 7, 4, 0, 2, 4, 2, 1, 8, 9, 6, 1, 0, 5, 9, 6, 9, 8, 0, 3, 0, 8, 3, 9, 6, 3, 0, 1, 2, 3, 4, 5, 6, 7, 0, 1, 2, 3, 4, 5, 6, 7, 8, 9, 6, 1, 2, 3, 4, 5, 6, 7, 8, 5, 4, 8, 7, 4, 7, 7, 3, 9, 8, 8, 3, 1, 5, 8, 2, 7, 4, 2, 1, 5, 4, 5, 5, 8, 4, 4, 4, 4, 1, 8, 7, 5, 5, 1, 8, 7, 1, 3, 6, 3, 3, 2, 2, 6, 9, 9, 6, 5, 5, 3, 3, 8, 1, 6, 5, 6, 8, 1, 9, 7, 6, 8, 3, 7, 4, 7, 0, 9, 0, 0, 3, 2, 9, 3, 0, 2, 0, 1, 0, 1, 0, 4, 0, 1, 0, 4, 7, 9, 6, 2, 6, 2, 2, 9, 9, 0, 1, 2, 3, 4, 5, 6, 7, 8, 9, 0, 1, 2, 3, 4, 5, 6, 7, 8, 9, 0, 1, 2, 3, 4, 5, 6, 7, 8, 9, 8, 0, 5, 6, 6, 0, 8, 0, 2, 3, 7, 9, 4, 7, 1, 9, 1, 7, 1, 4, 0, 0, 4, 1, 7, 5, 7, 1, 3, 3, 3, 6, 6, 9, 7, 4, 3, 0, 2, 5, 2, 6, 0, 8, 9, 4, 3, 5, 4, 8, 1, 5, 9, 0, 6, 4, 3, 6, 3, 3, 8, 1, 4, 7, 5, 7, 2, 2, 0, 0, 1, 7, 7, 9, 5, 9, 8, 9, 6, 8, 8, 2, 3, 6, 1, 2, 9, 8, 9, 5, 2, 6, 2, 4, 8, 4, 6, 5, 0, 1, 5, 6, 7, 8, 9, 0, 1, 2, 3, 4, 5, 6, 7, 8, 9, 0, 1, 2, 3, 4, 5, 6, 7, 8, 9, 7, 4, 2, 0, 9, 0, 1, 5, 8, 8, 0, 2, 7, 8, 4, 4, 6, 1, 0, 4, 5, 3, 9, 4, 2, 0, 5, 0, 1, 3, 2, 9, 8, 6, 0, 1, 1, 8, 0, 4, 7, 7, 6, 3, 6, 0, 7, 3, 5, 4, 2, 4, 1, 8, 3, 5, 6, 7, 0, 6, 7, 1, 2, 5, 8, 1, 9, 3, 8, 2, 8, 7, 6, 7, 1, 4, 6, 2, 9, 3, 0, 1, 2, 3, 4, 5, 6, 7, 0, 1, 2, 3, 4, 5, 0, 1, 2, 8, 9, 1, 4, 0, 9, 5, 0, 8, 0, 7, 7, 1, 1, 2, 9, 3, 6, 7, 2, 3, 8, 1, 2, 9, 8, 8, 7, 1, 7, 1, 1, 0, 3, 4, 2, 6, 4, 7, 4, 2, 7, 4, 9, 1, 0, 6, 8, 5, 5, 5, 3, 5, 9, 7, 4, 8, 5, 9, 6, 9, 3, 0, 3, 8, 9, 1, 8, 1, 6, 0, 0, 1, 2, 3, 4, 5, 6, 7, 8, 9, 0, 1, 2, 3, 4, 5, 6, 7, 8, 9, 0, 1, 2, 3, 4, 5, 6, 7, 8, 9, 5, 5, 3, 2, 9, 3, 2, 1, 4, 5, 5, 2, 3, 2, 1, 3, 9, 7, 2, 5, 2, 8, 9, 1, 8, 8, 7, 8, 1, 0, 0, 7, 7, 8, 7, 5, 0, 6, 1, 5, 7, 4, 6, 1, 2, 5, 0, 7, 9, 9, 0, 3, 8, 2, 4, 8, 1, 8, 6, 5, 9, 0, 0, 0, 3, 7, 1, 6, 4, 2, 6, 6, 0, 4, 5, 4, 1, 3, 8, 6, 3, 9, 9, 5, 9, 3, 7, 8, 5, 6, 4, 7, 6, 2, 2, 0, 9, 4, 0, 1, 2, 3, 4, 5, 6, 7, 8, 9, 0, 1, 2, 7, 5, 6, 0, 1, 2, 3, 4, 5, 6, 8, 7, 1, 3, 2, 5, 0, 7, 5, 9, 9, 6, 0, 9, 4, 1, 3, 2, 1, 2, 3, 8, 3, 2, 6, 5, 6, 8, 2, 7, 4, 8, 1, 8, 0, 5, 3, 9, 4, 1, 9, 2, 1, 9, 6, 7, 9, 0, 4, 6, 1, 7, 3, 8, 7, 2, 9, 6, 5, 8, 3, 9, 0, 5, 7, 1, 6, 1, 0, 9, 3, 3, 4, 4, 0, 6, 2, 5, 4, 2, 3, 4, 6, 0, 0, 2, 0, 1, 4, 5, 6, 7, 8, 9, 0, 1, 2, 3, 7, 5, 6, 7, 8, 0, 1, 2, 3, 4, 5, 6, 7, 8, 9, 8, 4, 1, 3, 7, 5, 2, 8, 0, 7, 5, 9, 9, 0, 9, 1, 1, 5, 8, 8, 6, 3, 2, 1, 8, 3, 2, 6, 5, 6, 0, 6, 1, 0, 5, 3, 1, 9, 2, 1, 9, 6, 0, 4, 6, 1, 7, 3, 8, 7, 2, 9, 6, 5, 8, 3, 5, 7, 1, 6, 1, 0, 9, 6, 2, 5, 4, 2, 3, 4, 4, 6, 0, 0, 2, 0, 1, 2, 3, 4, 5, 6, 7, 8, 9, 0, 1, 2, 3, 4, 5, 6, 7, 8, 9, 0, 1, 2, 8, 4, 5, 6, 7, 8, 9, 8, 6, 5, 0, 6, 8, 9, 4, 1, 9, 3, 8, 0, 4, 8, 9, 1, 4, 0, 5, 5, 2, 1, 5, 4, 0, 7, 6, 0, 1, 7, 0, 6, 8, 9, 5, 1, 7, 9, 8, 6, 0, 8, 1, 7, 7, 1, 3, 2, 9, 1, 4, 2, 0, 0, 7, 8, 4, 6, 4, 9, 9, 8, 4, 7, 6, 5, 6, 5, 6, 9, 6, 3, 0, 2, 4, 6, 9, 0, 2, 5, 5, 1, 9, 3, 9, 7, 8, 7, 2, 2, 5, 7, 9, 8, 2, 1, 9, 1, 3, 0, 1, 2, 3, 4, 5, 6, 7, 8, 9, 0, 1, 2, 3, 4, 5, 6, 7, 8, 9, 0, 1, 2, 3, 4, 5, 6, 7, 8, 9, 1, 2, 6, 5, 3, 0, 7, 0, 4, 1, 4, 3, 6, 7, 2, 3, 1, 2, 1, 2, 9, 6, 0, 1, 3, 0, 2, 7, 5, 7, 6, 2, 9, 1, 9, 0, 6, 0, 6, 0, 2, 0, 6, 1, 5, 8, 4, 3, 0, 1, 5, 4, 4, 8, 5, 7, 5, 7, 8, 3, 4, 8, 8, 5, 2, 9, 7, 1, 3, 8, 1, 0, 7, 5, 3, 6, 9, 4, 7, 7, 9, 9, 3, 4, 4, 3, 8, 6, 2, 0, 1, 2, 3, 4, 5, 6, 7, 8, 9, 0, 1, 2, 3, 4, 5, 6, 7, 8, 9, 0, 1, 2, 3, 4, 5, 6, 7, 8, 9, 0, 8, 3, 9, 5, 5, 2, 6, 8, 4, 9, 1, 7, 1, 2, 3, 5, 9, 6, 9, 1, 1, 1, 2, 9, 5, 6, 8, 1, 2, 0, 7, 7, 5, 8, 2, 9, 8, 9, 0, 4, 6, 7, 1, 3, 4, 5, 6, 0, 3, 6, 8, 7, 0, 4, 2, 7, 4, 7, 5, 4, 3, 4, 2, 8, 1, 5, 1, 2, 0, 2, 5, 6, 4, 3, 0, 0, 0, 3, 3, 5, 7, 0, 6, 4, 8, 8, 6, 3, 4, 6, 9, 9, 8, 2, 7, 7, 1, 0, 1, 2, 3, 4, 5, 6, 7, 8, 9, 0, 1, 2, 3, 4, 5, 6, 7, 8, 0, 1, 2, 3, 4, 5, 6, 7, 8, 2, 1, 7, 2, 5, 0, 8, 0, 2, 7, 8, 8, 3, 6, 0, 2, 7, 6, 6, 1, 2, 8, 8, 7, 7, 4, 7, 7, 3, 7, 4, 5, 4, 3, 3, 8, 4, 1, 1, 9, 7, 4, 3, 7, 3, 3, 0, 2, 5, 5, 6, 6, 3, 5, 2, 5, 9, 9, 8, 4, 1, 0, 6, 0, 9, 6, 8, 8, 5, 6, 1, 1, 9, 8, 9, 2, 3, 5, 5, 9, 4, 2, 1, 9, 2, 9, 2, 0, 6, 0, 4, 0, 0, 1, 2, 3, 4, 7, 8, 9, 0, 1, 2, 3, 7, 8, 9, 0, 1, 2, 3, 4, 7, 8, 9, 7, 3, 0, 3, 1, 8, 7, 6, 4, 0, 2, 6, 8, 3, 2, 8, 1, 2, 0, 7, 1, 0, 4, 4, 5, 8, 0, 6, 2, 3, 1, 5, 1, 8, 5, 9, 4, 0, 7, 5, 8, 8, 3, 8, 9, 2, 6, 2, 5, 3, 1, 7, 3, 9, 1, 9, 9, 6, 0, 5, 9, 2, 8, 1, 4, 3, 5, 2, 9, 2, 5, 8, 9, 5, 0, 1, 2, 4, 5, 6, 0, 1, 2, 3, 4, 5, 6, 7, 1, 2, 3, 4, 5, 1, 0, 4, 5, 6, 6, 3, 4, 4, 2, 8, 1, 2, 6, 4, 3, 7, 2, 3, 3, 9, 2, 0, 9, 3, 3, 7, 1, 5, 6, 3, 1, 7, 8, 4, 0, 2, 4, 0, 2, 4, 7, 8, 0, 7, 0, 6, 9, 3, 2, 8, 6, 7, 3, 7, 5, 1, 0, 8, 1, 6, 7, 2, 9, 7, 9, 5, 8, 6, 2, 6, 2, 8, 1, 7, 5, 7, 1, 1, 3, 4, 4, 9, 1, 8, 6, 8, 5, 0, 1, 2, 3, 4, 5, 6, 7, 8, 9, 0, 1, 2, 3, 4, 7, 8, 9, 5, 1, 7, 8, 9, 9, 8, 9, 8, 4, 1, 7, 7, 3, 3, 7, 6, 6, 6, 1, 9, 0, 1, 7, 6, 3, 2, 1, 7, 1, 3, 9, 1, 7, 6, 8, 4, 1, 4, 3, 6, 9, 6, 1, 4, 4, 7, 2, 4, 4, 0, 1, 2, 3, 4, 5, 6, 7, 8, 9, 0, 1, 2, 3, 4, 5, 6, 9, 0, 1, 2, 3, 4, 7, 8, 1, 3, 5, 1, 7, 7, 2, 1, 4, 8, 3, 4, 4, 3, 9, 7, 4, 1, 2, 3, 5, 9, 1, 6, 0, 1, 0, 0, 2, 3, 7, 1, 1, 4, 0, 4, 7, 3, 6, 8, 0, 3, 7, 4, 0, 6, 9, 2, 6, 5, 8, 6, 9, 0, 4, 0, 6, 6, 9, 2, 0, 9, 5, 1, 3, 7, 6, 9, 3, 0, 2, 2, 0, 1, 2, 3, 4, 5, 6, 7, 8, 9, 0, 1, 2, 3, 4, 5, 6, 7, 8, 4, 0, 1, 2, 3, 4, 5, 6, 7, 8, 4, 2, 1, 7, 2, 5, 0, 8, 0, 2, 7, 8, 8, 3, 0, 6, 0, 2, 7, 6, 4, 1, 2, 8, 8, 7, 7, 4, 7, 7, 3, 7, 4, 5, 4, 3, 3, 8, 4, 5, 4, 1, 1, 9, 7, 4, 3, 7, 3, 3, 0, 2, 5, 5, 6, 3, 1, 5, 2, 5, 9, 9, 8, 4, 1, 0, 6, 0, 9, 6, 8, 8, 5, 6, 1, 1, 9, 8, 9, 2, 3, 5, 5, 9, 4, 2, 1, 9, 4, 9, 1, 3, 9, 2, 0, 6, 0, 4, 0, 4, 0, 1, 2, 3, 4, 5, 6, 7, 8, 9, 0, 1, 2, 3, 4, 5, 6, 7, 8, 9, 0, 1, 2, 3, 4, 5, 6, 7, 8, 9, 3, 8, 0, 7, 1, 0, 7, 5, 5, 6, 9, 0, 1, 0, 0, 8, 3, 4, 3, 1, 5, 0, 0, 9, 5, 3, 4, 9, 3, 7, 6, 9, 2, 4, 5, 7, 2, 6, 4, 9, 4, 9, 4, 1, 2, 2, 5, 8, 1, 3, 2, 9, 4, 3, 8, 2, 2, 1, 2, 8, 6, 5, 1, 6, 7, 2, 1, 3, 9, 3, 8, 7, 5, 7, 0, 7, 4, 8, 8, 5, 0, 6, 6, 3, 7, 6, 9, 9, 4, 8, 4, 1, 0, 6, 6, 0, 1, 2, 3, 4, 5, 6, 7, 8, 9, 0, 1, 2, 3, 4, 5, 6, 7, 8, 9, 0, 1, 2, 3, 4, 5, 6, 7, 8, 4, 7, 4, 0, 4, 0, 1, 7, 9, 5, 1, 4, 2, 8, 9, 4, 3, 7, 8, 2, 4, 4, 3, 3, 6, 9, 9, 5, 8, 6, 7, 0, 6, 8, 2, 6, 3, 9, 3, 2, 8, 6, 1, 7, 4, 8, 8, 9, 0, 3, 3, 9, 0, 5, 2, 9, 4, 1, 0, 3, 7, 5, 8, 7, 7, 8, 2, 9, 7, 1, 2, 6, 4, 2, 5, 2, 3, 6, 6, 5, 0, 0, 2, 8, 1, 6, 1, 0, 4, 3, 1, 6, 1, 9, 0, 1, 4, 5, 5, 7, 8, 9, 1, 2, 3, 4, 5, 6, 7, 0, 1, 2, 3, 4, 5, 6, 7, 8, 9, 8, 4, 0, 0, 7, 2, 4, 3, 8, 6, 6, 3, 2, 6, 3, 3, 0, 1, 4, 7, 8, 0, 3, 1, 9, 0, 1, 9, 1, 2, 7, 0, 1, 5, 8, 2, 9, 2, 7, 6, 5, 5, 9, 9, 8, 2, 9, 1, 3, 2, 3, 4, 3, 1, 9, 0, 9, 3, 6, 8, 7, 0, 1, 0, 5, 8, 2, 7, 9, 0, 1, 2, 3, 4, 5, 6, 7, 8, 9, 0, 1, 2, 3, 4, 5, 6, 7, 8, 9, 0, 1, 2, 3, 4, 5, 6, 7, 8, 9, 1, 7, 4, 8, 1, 5, 6, 5, 7, 2, 8, 6, 3, 3, 8, 6, 5, 4, 0, 9, 1, 7, 2, 9, 1, 5, 1, 3, 2, 2, 3, 0, 6, 4, 3, 7, 6, 9, 0, 4, 8, 1, 4, 0, 6, 1, 2, 6, 9, 2, 2, 3, 5, 5, 1, 0, 7, 7, 9, 6, 2, 9, 4, 7, 0, 2, 3, 4, 0, 0, 8, 8, 8, 5, 1, 3, 7, 4, 9, 8, 8, 9, 0, 9, 8, 9, 0, 2, 6, 5, 6, 7, 4, 7, 5, 4, 1, 3, 5, 3, 1, 2, 3, 4, 5, 6, 1, 2, 3, 4, 6, 0, 1, 2, 4, 5, 6, 7, 8, 1, 7, 2, 4, 1, 4, 1, 4, 9, 6, 8, 4, 5, 3, 7, 8, 8, 3, 3, 5, 6, 7, 0, 6, 1, 6, 8, 7, 0, 1, 5, 0, 8, 5, 0, 1, 5, 8, 4, 2, 3, 5, 7, 6, 9, 1, 9, 0, 6, 7, 1, 2, 3, 9, 2, 4, 5, 5, 3, 7, 5, 3, 1, 5, 2, 2, 3, 0, 2, 9, 4, 9, 7, 0, 2, 7, 4, 9, 9, 2, 5, 9, 8, 3, 8, 6, 7, 0, 0, 1, 2, 3, 4, 5, 6, 7, 8, 9, 0, 1, 2, 3, 4, 5, 6, 7, 8, 9, 0, 1, 2, 3, 4, 5, 6, 7, 8, 9, 0, 0, 7, 2, 6, 5, 5, 3, 7, 8, 6, 6, 6, 6, 4, 3, 8, 8, 3, 0, 1, 9, 0, 5, 4, 1, 9, 1, 2, 7, 0, 1, 3, 8, 2, 9, 2, 7, 4, 2, 6, 5, 5, 9, 4, 1, 1, 5, 7, 6, 8, 2, 9, 4, 3, 1, 9, 0, 9, 3, 6, 8, 7, 0, 1, 0, 5, 8, 2, 7, 7, 0, 1, 2, 3, 4, 5, 6, 7, 8, 9, 0, 1, 2, 3, 4, 5, 8, 9, 0, 1, 2, 3, 4, 5, 6, 7, 8, 9, 2, 1, 2, 1, 3, 9, 9, 8, 5, 3, 7, 0, 7, 7, 5, 7, 9, 9, 4, 7, 0, 3, 4, 1, 5, 8, 1, 4, 8, 4, 1, 8, 6, 6, 4, 6, 0, 5, 5, 3, 3, 5, 7, 2, 5, 9, 6, 9, 2, 6, 2, 1, 2, 0, 8, 3, 8, 3, 0, 8, 7, 4, 9, 5, 0, 9, 7, 0, 0, 4, 6, 0, 9, 1, 6, 2, 7, 6, 8, 3, 5, 2, 1, 8, 3, 8, 6, 1, 0, 2, 1, 4, 0, 1, 2, 3, 4, 5, 6, 7, 8, 9, 0, 1, 2, 3, 4, 5, 6, 7, 8, 9, 0, 1, 2, 3, 4, 5, 6, 7, 8, 9, 7, 6, 4, 7, 6, 2, 3, 4, 8, 7, 8, 6, 9, 8, 3, 2, 2, 8, 4, 8, 5, 6, 5, 0, 2, 0, 1, 1, 2, 9, 6, 8, 2, 1, 0, 6, 5, 2, 9, 7, 5, 3, 9, 3, 7, 1, 8, 3, 8, 1, 9, 5, 5, 0, 1, 1, 9, 8, 2, 6, 0, 4, 5, 0, 2, 1, 8, 6, 7, 5, 9, 9, 3, 0, 3, 1, 4, 4, 0, 4, 9, 0, 1, 2, 3, 5, 6, 7, 8, 0, 1, 2, 3, 5, 6, 7, 8, 9, 0, 1, 2, 3, 5, 6, 7, 8, 9, 9, 7, 0, 9, 0, 1, 5, 8, 8, 0, 9, 3, 2, 7, 8, 4, 6, 1, 0, 4, 9, 4, 4, 0, 5, 0, 1, 6, 9, 3, 2, 9, 1, 6, 0, 1, 1, 8, 7, 7, 6, 3, 6, 0, 7, 2, 4, 1, 7, 0, 6, 7, 1, 2, 5, 8, 1, 8, 2, 8, 7, 6, 8, 7, 1, 6, 2, 9, 3, 0, 1, 2, 3, 4, 5, 6, 7, 8, 9, 0, 1, 2, 3, 4, 5, 6, 7, 8, 9, 0, 1, 2, 3, 4, 5, 6, 7, 8, 9, 8, 9, 5, 7, 0, 3, 1, 6, 8, 4, 1, 5, 6, 4, 2, 7, 8, 1, 3, 4, 3, 4, 7, 2, 0, 5, 0, 1, 9, 2, 3, 2, 3, 5, 5, 7, 8, 4, 9, 9, 7, 1, 1, 9, 0, 7, 8, 3, 4, 8, 6, 3, 8, 0, 9, 6, 2, 8, 0, 1, 0, 6, 2, 3, 8, 9, 0, 7, 2, 3, 4, 5, 5, 2, 8, 5, 4, 6, 6, 6, 7, 9, 1, 8, 2, 1, 5, 3, 4, 7, 9, 4, 0, 0, 0, 1, 2, 3, 4, 5, 6, 7, 8, 9, 0, 1, 2, 3, 4, 5, 6, 7, 8, 9, 0, 1, 2, 3, 4, 5, 6, 9, 0, 1, 3, 1, 5, 1, 2, 4, 9, 8, 4, 6, 8, 0, 1, 1, 9, 2, 6, 6, 8, 7, 4, 2, 9, 7, 0, 2, 1, 0, 3, 6, 0, 1, 2, 3, 4, 5, 6, 7, 8, 9, 0, 1, 2, 3, 4, 5, 6, 7, 8, 9, 0, 1, 2, 3, 4, 5, 6, 7, 8, 9, 8, 6, 5, 9, 7, 0, 2, 3, 4, 3, 8, 5, 1, 5, 2, 3, 0, 1, 2, 1, 3, 2, 6, 5, 3, 0, 7, 2, 7, 4, 6, 4, 0, 5, 9, 9, 5, 9, 5, 3, 1, 7, 4, 7, 6, 5, 4, 0, 0, 6, 6, 4, 0, 6, 3, 7, 7, 4, 4, 3, 9, 2, 8, 9, 6, 0, 9, 5, 3, 8, 8, 7, 1, 4, 0, 4, 8, 5, 2, 3, 9, 0, 1, 9, 1, 5, 1, 7, 4, 8, 6, 2, 1, 6, 8, 8, 0, 1, 2, 3, 4, 7, 8, 9, 0, 1, 2, 3, 4, 6, 7, 8, 9, 0, 1, 2, 3, 4, 7, 8, 9, 1, 4, 5, 3, 3, 0, 9, 5, 4, 9, 0, 8, 4, 6, 7, 0, 7, 7, 1, 6, 9, 1, 5, 6, 2, 3, 8, 2, 3, 8, 9, 5, 8, 8, 7, 1, 7, 1, 1, 0, 3, 4, 2, 4, 4, 7, 4, 2, 7, 4, 2, 9, 2, 7, 9, 2, 1, 6, 6, 5, 3, 4, 8, 5, 9, 6, 9, 0, 6, 3, 0, 8, 1, 6, 0, 0, 1, 2, 3, 4, 5, 6, 7, 0, 1, 4, 3, 4, 7, 8, 9, 0, 1, 2, 5, 4, 7, 2, 5, 1, 6, 4, 3, 9, 9, 0, 9, 7, 1, 6, 4, 3, 6, 2, 0, 9, 8, 6, 5, 7, 0, 0, 1, 7, 4, 3, 2, 4, 1, 3, 7, 6, 4, 7, 7, 7, 9, 8, 4, 3, 5, 2, 8, 3, 5, 5, 0, 5, 4, 7, 1, 3, 1, 7, 9, 6, 2, 0, 9, 1, 7, 3, 3, 9, 1, 6, 4, 3, 9, 8, 2, 1, 8, 6, 4, 1, 5, 5, 6, 5, 0, 1, 2, 3, 4, 5, 6, 7, 8, 9, 0, 1, 2, 3, 4, 5, 6, 7, 8, 9, 0, 1, 2, 3, 4, 5, 6, 7, 8, 9, 6, 9, 7, 0, 2, 3, 4, 3, 8, 5, 1, 3, 0, 1, 2, 1, 3, 2, 0, 7, 2, 6, 4, 0, 5, 9, 5, 8, 9, 5, 3, 1, 7, 4, 7, 0, 0, 6, 6, 6, 3, 7, 4, 2, 8, 8, 8, 7, 1, 9, 0, 4, 8, 5, 2, 3, 9, 0, 1, 9, 1, 5, 1, 7, 6, 1, 2, 1, 6, 8, 0, 1, 2, 3, 4, 5, 6, 7, 8, 9, 0, 1, 2, 3, 4, 5, 6, 7, 8, 0, 1, 2, 3, 5, 6, 7, 8, 1, 0, 4, 5, 6, 6, 3, 4, 4, 2, 8, 1, 0, 6, 4, 9, 7, 2, 9, 2, 0, 9, 3, 3, 9, 1, 5, 2, 3, 1, 6, 7, 3, 7, 8, 4, 0, 2, 4, 0, 2, 4, 7, 8, 0, 7, 0, 6, 9, 3, 2, 4, 8, 6, 0, 5, 7, 5, 1, 0, 8, 1, 6, 7, 2, 9, 7, 9, 5, 6, 5, 2, 6, 2, 8, 1, 7, 5, 5, 7, 3, 5, 0, 1, 1, 3, 8, 4, 9, 4, 5, 1, 8, 6, 8, 9, 0, 1, 2, 3, 4, 5, 6, 7, 8, 9, 0, 1, 2, 3, 4, 5, 6, 7, 8, 9, 0, 1, 2, 3, 4, 5, 6, 7, 8, 9, 3, 5, 3, 2, 9, 3, 2, 1, 4, 5, 5, 2, 3, 2, 1, 3, 9, 7, 2, 1, 2, 8, 9, 1, 8, 8, 7, 8, 1, 0, 0, 6, 7, 7, 8, 7, 5, 0, 6, 1, 5, 7, 4, 6, 1, 2, 5, 0, 7, 9, 9, 0, 3, 4, 4, 8, 4, 1, 8, 6, 5, 9, 0, 0, 0, 3, 7, 1, 6, 4, 6, 0, 4, 5, 4, 1, 3, 8, 6, 3, 9, 9, 5, 9, 3, 7, 8, 5, 6, 4, 7, 6, 2, 2, 0, 9, 4, 0, 1, 2, 3, 4, 5, 6, 7, 8, 9, 0, 1, 2, 3, 4, 5, 6, 7, 8, 9, 0, 1, 2, 3, 4, 5, 6, 7, 8, 9, 6, 4, 2, 6, 4, 7, 5, 5, 4, 7, 2, 9, 3, 9, 3, 8, 2, 0, 9, 5, 6, 0, 1, 0, 6, 5, 3, 5, 3, 8, 0, 0, 3, 4, 1, 5, 3, 0, 8, 3, 0, 6, 2, 7, 8, 1, 7, 1, 3, 8, 5, 4, 2, 0, 9, 7, 6, 7, 4, 1, 6, 2, 6, 7, 1, 9, 8, 0, 6, 9, 4, 9, 9, 6, 2, 3, 7, 1, 9, 2, 2, 5, 3, 7, 8, 0, 1, 2, 3, 4, 7, 8, 9, 0, 1, 2, 3, 4, 7, 8, 9, 0, 1, 7, 8, 9, 8, 9, 2, 6, 1, 3, 5, 4, 8, 2, 6, 4, 3, 4, 5, 9, 2, 0, 3, 9, 4, 9, 7, 3, 8, 7, 4, 4, 9, 8, 5, 8, 2, 6, 6, 2, 3, 1, 3, 2, 7, 3, 1, 9, 0, 1, 1, 3, 5, 0, 7, 8, 1, 5, 1, 4, 6, 0, 0, 4, 9, 1, 6, 6, 9, 0, 7, 6, 1, 1, 0, 1, 2, 3, 4, 2, 2, 3, 4, 5, 6, 2, 0, 1, 2, 7, 8, 6, 3, 9, 2, 1, 9, 3, 9, 6, 1, 7, 2, 4, 4, 5, 7, 0, 0, 1, 6, 6, 8, 2, 7, 7, 2, 4, 2, 1, 6, 1, 0, 6, 9, 8, 3, 9, 6, 3, 0, 1, 2, 3, 4, 5, 6, 7, 8, 9, 0, 1, 2, 3, 4, 5, 6, 7, 8, 9, 0, 1, 2, 3, 4, 5, 6, 7, 8, 9, 1, 6, 8, 9, 9, 0, 1, 2, 4, 4, 3, 7, 4, 4, 4, 0, 3, 8, 7, 5, 8, 2, 1, 7, 5, 3, 8, 5, 2, 5, 1, 1, 6, 2, 1, 3, 8, 6, 4, 2, 6, 2, 5, 5, 0, 2, 8, 0, 6, 8, 1, 7, 9, 1, 9, 2, 6, 7, 6, 6, 8, 7, 4, 9, 2, 1, 3, 3, 0, 5, 5, 8, 0, 3, 7, 9, 7, 0, 2, 7, 9, 1, 7, 8, 0, 3, 5, 3, 6, 0, 1, 2, 3, 4, 5, 6, 7, 8, 9, 0, 1, 2, 3, 4, 5, 6, 7, 8, 9, 0, 1, 2, 3, 4, 7, 8, 9, 6, 4, 2, 6, 4, 7, 8, 9, 2, 9, 3, 9, 3, 0, 0, 1, 0, 4, 2, 6, 3, 5, 3, 0, 3, 4, 1, 5, 3, 0, 8, 3, 0, 6, 1, 7, 8, 0, 9, 2, 6, 7, 1, 9, 6, 9, 5, 9, 9, 6, 7, 1, 2, 5, 3, 7, 8, 0, 1, 2, 4, 5, 6, 7, 8, 9, 0, 1, 3, 4, 5, 6, 7, 5, 0, 1, 3, 4, 7, 8, 9, 7, 5, 5, 1, 9, 9, 7, 1, 0, 0, 5, 9, 7, 1, 7, 2, 2, 3, 6, 8, 3, 2, 0, 0, 6, 1, 7, 5, 8, 6, 2, 9, 4, 8, 8, 7, 1, 0, 8, 7, 7, 5, 8, 5, 3, 4, 6, 1, 1, 5, 5, 0, 7, 2, 3, 6, 4, 1, 2, 4, 1, 5, 4, 2, 0, 4, 8, 6, 1, 9, 0, 2, 5, 6, 9, 3, 6, 3, 6, 0, 1, 2, 3, 4, 5, 6, 7, 8, 9, 0, 1, 2, 3, 4, 5, 6, 7, 8, 9, 0, 1, 2, 3, 5, 6, 7, 8, 1, 0, 9, 5, 7, 5, 1, 8, 6, 9, 0, 4, 1, 9, 3, 8, 4, 4, 7, 0, 1, 9, 2, 8, 7, 8, 2, 5, 9, 6, 0, 6, 5, 5, 3, 3, 3, 9, 8, 1, 1, 0, 6, 1, 0, 0, 6, 2, 1, 1, 3, 2, 7, 7, 8, 8, 7, 8, 4, 6, 0, 2, 0, 7, 0, 3, 6, 8, 7, 1, 5, 9, 9, 3, 7, 2, 4, 9, 4, 3, 6, 2, 2, 5, 3, 2, 5, 5, 9, 4, 1, 7, 2, 0, 1, 2, 3, 4, 5, 6, 7, 8, 9, 0, 1, 2, 3, 4, 5, 6, 7, 8, 9, 0, 1, 2, 3, 4, 5, 6, 7, 8, 9, 1, 0, 1, 2, 7, 5, 3, 4, 4, 0, 0, 6, 9, 6, 6, 5, 7, 2, 3, 4, 4, 9, 1, 4, 0, 7, 9, 5, 7, 2, 3, 1, 4, 4, 0, 9, 9, 6, 1, 8, 3, 3, 7, 3, 9, 8, 8, 4, 7, 7, 6, 2, 1, 9, 8, 7, 8, 8, 7, 2, 2, 3, 9, 3, 3, 5, 5, 0, 7, 4, 5, 6, 5, 1, 4, 1, 1, 2, 8, 2, 6, 1, 5, 0, 1, 2, 3, 4, 5, 6, 7, 8, 9, 0, 1, 2, 3, 4, 5, 6, 7, 8, 9, 0, 1, 2, 3, 4, 5, 6, 7, 8, 8, 0, 6, 0, 1, 2, 5, 7, 9, 4, 7, 1, 9, 1, 7, 1, 4, 0, 0, 1, 7, 5, 7, 1, 3, 3, 3, 1, 6, 9, 7, 1, 3, 0, 2, 6, 0, 8, 9, 4, 3, 5, 4, 8, 1, 5, 9, 0, 6, 5, 3, 8, 1, 4, 7, 5, 2, 0, 0, 1, 7, 8, 7, 6, 8, 8, 2, 3, 6, 1, 8, 9, 5, 2, 0, 1, 2, 3, 4, 5, 6, 7, 5, 9, 0, 1, 5, 3, 4, 5, 6, 7, 8, 9, 0, 1, 2, 3, 4, 6, 6, 7, 8, 9, 7, 4, 6, 1, 4, 0, 9, 9, 8, 7, 8, 2, 7, 5, 8, 5, 3, 2, 2, 0, 5, 8, 6, 0, 3, 8, 1, 0, 3, 0, 4, 7, 4, 9, 0, 9, 0, 7, 1, 7, 1, 6, 6, 5, 6, 2, 8, 7, 5, 4, 9, 9, 5, 3, 7, 4, 3, 0, 9, 5, 6, 1, 1, 3, 2, 1, 0, 0, 1, 2, 3, 4, 7, 8, 9, 0, 1, 8, 3, 4, 5, 6, 7, 8, 0, 1, 2, 3, 4, 7, 8, 9, 0, 8, 3, 9, 5, 5, 2, 6, 8, 4, 1, 7, 1, 8, 3, 5, 6, 9, 1, 1, 1, 2, 1, 2, 0, 7, 7, 5, 8, 2, 9, 8, 8, 7, 3, 4, 6, 8, 7, 0, 4, 2, 7, 7, 5, 4, 3, 4, 2, 8, 1, 5, 1, 0, 2, 3, 5, 5, 7, 0, 6, 8, 0, 3, 9, 9, 5, 2, 7, 7, 1, 0, 1, 7, 8, 9, 0, 1, 2, 3, 4, 5, 6, 7, 8, 0, 1, 2, 3, 4, 7, 8, 9, 7, 8, 6, 4, 1, 9, 3, 8, 4, 4, 7, 0, 1, 9, 2, 8, 7, 8, 2, 6, 0, 6, 5, 3, 3, 8, 9, 1, 4, 0, 6, 1, 0, 0, 6, 2, 1, 1, 7, 7, 8, 4, 6, 0, 7, 0, 3, 6, 8, 7, 1, 5, 2, 4, 9, 4, 3, 6, 4, 1, 7, 2, 6, 5, 0, 1, 2, 3, 4, 5, 6, 7, 8, 9, 0, 1, 2, 3, 4, 5, 6]\n"
     ]
    }
   ],
   "source": [
    "# converting the prediction probabilities to class label for all test data points\n",
    "Y_pred_labels = [np.argmax(i) for i in Y_pred]\n",
    "print(Y_pred_labels)"
   ]
  },
  {
   "cell_type": "markdown",
   "metadata": {
    "id": "sEElzNG8wx-x"
   },
   "source": [
    "Y_test  -->  True labels\n",
    "\n",
    "Y_pred_labels  -->  Predicted Labels"
   ]
  },
  {
   "cell_type": "markdown",
   "metadata": {
    "id": "hhA0iCyIw8xj"
   },
   "source": [
    "Confusin Matrix"
   ]
  },
  {
   "cell_type": "code",
   "execution_count": null,
   "metadata": {
    "id": "KtAB880UwiRS"
   },
   "outputs": [],
   "source": [
    "conf_mat = confusion_matrix(Y_test, Y_pred_labels)"
   ]
  },
  {
   "cell_type": "code",
   "execution_count": null,
   "metadata": {
    "colab": {
     "base_uri": "https://localhost:8080/"
    },
    "id": "BFIDGMJFxM6r",
    "outputId": "e88a4306-2a05-4d12-da6d-82fbfb64cf7f"
   },
   "outputs": [
    {
     "name": "stdout",
     "output_type": "stream",
     "text": [
      "tf.Tensor(\n",
      "[[ 969    1    1    0    1    1    2    2    3    0]\n",
      " [   0 1122    1    2    0    4    2    0    4    0]\n",
      " [   5    0  999    1    7    1    2    6   11    0]\n",
      " [   0    0    5  966    0   23    0    3    7    6]\n",
      " [   0    0    2    0  968    1    4    2    1    4]\n",
      " [   2    0    0    4    2  878    4    1    1    0]\n",
      " [   6    1    0    0    8   11  929    0    3    0]\n",
      " [   1    5    9    0    5    0    0  994    8    6]\n",
      " [   2    0    3    6    6   10    2    2  943    0]\n",
      " [   3    4    0    8   24   10    1    7   10  942]], shape=(10, 10), dtype=int32)\n"
     ]
    }
   ],
   "source": [
    "print(conf_mat)"
   ]
  },
  {
   "cell_type": "code",
   "execution_count": null,
   "metadata": {
    "colab": {
     "base_uri": "https://localhost:8080/",
     "height": 460
    },
    "id": "1lygLZQwxO2G",
    "outputId": "b35b826a-6b21-4bb1-933a-ee3795c1cf07"
   },
   "outputs": [
    {
     "data": {
      "text/plain": [
       "Text(0.5, 42.0, 'Predicted Labels')"
      ]
     },
     "execution_count": 30,
     "metadata": {},
     "output_type": "execute_result"
    },
    {
     "data": {
      "image/png": "[encoded data removed]",
      "text/plain": [
       "<Figure size 1080x504 with 2 Axes>"
      ]
     },
     "metadata": {
      "needs_background": "light"
     },
     "output_type": "display_data"
    }
   ],
   "source": [
    "plt.figure(figsize=(15,7))\n",
    "sns.heatmap(conf_mat, annot=True, fmt='d', cmap='Blues')\n",
    "plt.ylabel('True Labels')\n",
    "plt.xlabel('Predicted Labels')"
   ]
  },
  {
   "cell_type": "markdown",
   "metadata": {
    "id": "KVp9lOgYy2RL"
   },
   "source": [
    "Building a Predictive System"
   ]
  },
  {
   "cell_type": "markdown",
   "metadata": {
    "id": "yoUv5obR7Qk5"
   },
   "source": [
    "Prediction image link: https://camo.githubusercontent.com/3d9666a8f0c5658667292b74ca19295827c2b22a0e903db283998ae213e6f6e1/68747470733a2f2f646174616d61646e6573732e6769746875622e696f2f6173736574732f696d616765732f74665f66696c655f666565642f4d4e4953545f64696769742e706e67"
   ]
  },
  {
   "cell_type": "code",
   "execution_count": 68,
   "metadata": {
    "id": "yjYyexayx4pp"
   },
   "outputs": [],
   "source": [
    "input_image = cv2.imread('MNIST_digit.png')"
   ]
  },
  {
   "cell_type": "code",
   "execution_count": 69,
   "metadata": {
    "colab": {
     "base_uri": "https://localhost:8080/"
    },
    "id": "mIqt1kTRzUy-",
    "outputId": "1b0ec9b9-bdac-4c49-9f40-83df528883ab"
   },
   "outputs": [
    {
     "data": {
      "text/plain": [
       "numpy.ndarray"
      ]
     },
     "execution_count": 69,
     "metadata": {},
     "output_type": "execute_result"
    }
   ],
   "source": [
    "type(input_image)"
   ]
  },
  {
   "cell_type": "code",
   "execution_count": 70,
   "metadata": {
    "id": "kC1P--e_zXck"
   },
   "outputs": [
    {
     "name": "stdout",
     "output_type": "stream",
     "text": [
      "[[[0 0 0]\n",
      "  [0 0 0]\n",
      "  [0 0 0]\n",
      "  ...\n",
      "  [0 0 0]\n",
      "  [0 0 0]\n",
      "  [0 0 0]]\n",
      "\n",
      " [[0 0 0]\n",
      "  [0 0 0]\n",
      "  [0 0 0]\n",
      "  ...\n",
      "  [0 0 0]\n",
      "  [0 0 0]\n",
      "  [0 0 0]]\n",
      "\n",
      " [[0 0 0]\n",
      "  [0 0 0]\n",
      "  [0 0 0]\n",
      "  ...\n",
      "  [0 0 0]\n",
      "  [0 0 0]\n",
      "  [0 0 0]]\n",
      "\n",
      " ...\n",
      "\n",
      " [[0 0 0]\n",
      "  [0 0 0]\n",
      "  [0 0 0]\n",
      "  ...\n",
      "  [0 0 0]\n",
      "  [0 0 0]\n",
      "  [0 0 0]]\n",
      "\n",
      " [[0 0 0]\n",
      "  [0 0 0]\n",
      "  [0 0 0]\n",
      "  ...\n",
      "  [0 0 0]\n",
      "  [0 0 0]\n",
      "  [0 0 0]]\n",
      "\n",
      " [[0 0 0]\n",
      "  [0 0 0]\n",
      "  [0 0 0]\n",
      "  ...\n",
      "  [0 0 0]\n",
      "  [0 0 0]\n",
      "  [0 0 0]]]\n"
     ]
    }
   ],
   "source": [
    "print(input_image)"
   ]
  },
  {
   "cell_type": "code",
   "execution_count": 87,
   "metadata": {
    "colab": {
     "base_uri": "https://localhost:8080/",
     "height": 335
    },
    "id": "cwx9uCkGzbGT",
    "outputId": "1894cfb7-a291-497c-e3a5-91c194179bcd"
   },
   "outputs": [
    {
     "data": {
      "application/javascript": [
       "/* Put everything inside the global mpl namespace */\n",
       "/* global mpl */\n",
       "window.mpl = {};\n",
       "\n",
       "mpl.get_websocket_type = function () {\n",
       "    if (typeof WebSocket !== 'undefined') {\n",
       "        return WebSocket;\n",
       "    } else if (typeof MozWebSocket !== 'undefined') {\n",
       "        return MozWebSocket;\n",
       "    } else {\n",
       "        alert(\n",
       "            'Your browser does not have WebSocket support. ' +\n",
       "                'Please try Chrome, Safari or Firefox ≥ 6. ' +\n",
       "                'Firefox 4 and 5 are also supported but you ' +\n",
       "                'have to enable WebSockets in about:config.'\n",
       "        );\n",
       "    }\n",
       "};\n",
       "\n",
       "mpl.figure = function (figure_id, websocket, ondownload, parent_element) {\n",
       "    this.id = figure_id;\n",
       "\n",
       "    this.ws = websocket;\n",
       "\n",
       "    this.supports_binary = this.ws.binaryType !== undefined;\n",
       "\n",
       "    if (!this.supports_binary) {\n",
       "        var warnings = document.getElementById('mpl-warnings');\n",
       "        if (warnings) {\n",
       "            warnings.style.display = 'block';\n",
       "            warnings.textContent =\n",
       "                'This browser does not support binary websocket messages. ' +\n",
       "                'Performance may be slow.';\n",
       "        }\n",
       "    }\n",
       "\n",
       "    this.imageObj = new Image();\n",
       "\n",
       "    this.context = undefined;\n",
       "    this.message = undefined;\n",
       "    this.canvas = undefined;\n",
       "    this.rubberband_canvas = undefined;\n",
       "    this.rubberband_context = undefined;\n",
       "    this.format_dropdown = undefined;\n",
       "\n",
       "    this.image_mode = 'full';\n",
       "\n",
       "    this.root = document.createElement('div');\n",
       "    this.root.setAttribute('style', 'display: inline-block');\n",
       "    this._root_extra_style(this.root);\n",
       "\n",
       "    parent_element.appendChild(this.root);\n",
       "\n",
       "    this._init_header(this);\n",
       "    this._init_canvas(this);\n",
       "    this._init_toolbar(this);\n",
       "\n",
       "    var fig = this;\n",
       "\n",
       "    this.waiting = false;\n",
       "\n",
       "    this.ws.onopen = function () {\n",
       "        fig.send_message('supports_binary', { value: fig.supports_binary });\n",
       "        fig.send_message('send_image_mode', {});\n",
       "        if (fig.ratio !== 1) {\n",
       "            fig.send_message('set_device_pixel_ratio', {\n",
       "                device_pixel_ratio: fig.ratio,\n",
       "            });\n",
       "        }\n",
       "        fig.send_message('refresh', {});\n",
       "    };\n",
       "\n",
       "    this.imageObj.onload = function () {\n",
       "        if (fig.image_mode === 'full') {\n",
       "            // Full images could contain transparency (where diff images\n",
       "            // almost always do), so we need to clear the canvas so that\n",
       "            // there is no ghosting.\n",
       "            fig.context.clearRect(0, 0, fig.canvas.width, fig.canvas.height);\n",
       "        }\n",
       "        fig.context.drawImage(fig.imageObj, 0, 0);\n",
       "    };\n",
       "\n",
       "    this.imageObj.onunload = function () {\n",
       "        fig.ws.close();\n",
       "    };\n",
       "\n",
       "    this.ws.onmessage = this._make_on_message_function(this);\n",
       "\n",
       "    this.ondownload = ondownload;\n",
       "};\n",
       "\n",
       "mpl.figure.prototype._init_header = function () {\n",
       "    var titlebar = document.createElement('div');\n",
       "    titlebar.classList =\n",
       "        'ui-dialog-titlebar ui-widget-header ui-corner-all ui-helper-clearfix';\n",
       "    var titletext = document.createElement('div');\n",
       "    titletext.classList = 'ui-dialog-title';\n",
       "    titletext.setAttribute(\n",
       "        'style',\n",
       "        'width: 100%; text-align: center; padding: 3px;'\n",
       "    );\n",
       "    titlebar.appendChild(titletext);\n",
       "    this.root.appendChild(titlebar);\n",
       "    this.header = titletext;\n",
       "};\n",
       "\n",
       "mpl.figure.prototype._canvas_extra_style = function (_canvas_div) {};\n",
       "\n",
       "mpl.figure.prototype._root_extra_style = function (_canvas_div) {};\n",
       "\n",
       "mpl.figure.prototype._init_canvas = function () {\n",
       "    var fig = this;\n",
       "\n",
       "    var canvas_div = (this.canvas_div = document.createElement('div'));\n",
       "    canvas_div.setAttribute('tabindex', '0');\n",
       "    canvas_div.setAttribute(\n",
       "        'style',\n",
       "        'border: 1px solid #ddd;' +\n",
       "            'box-sizing: content-box;' +\n",
       "            'clear: both;' +\n",
       "            'min-height: 1px;' +\n",
       "            'min-width: 1px;' +\n",
       "            'outline: 0;' +\n",
       "            'overflow: hidden;' +\n",
       "            'position: relative;' +\n",
       "            'resize: both;' +\n",
       "            'z-index: 2;'\n",
       "    );\n",
       "\n",
       "    function on_keyboard_event_closure(name) {\n",
       "        return function (event) {\n",
       "            return fig.key_event(event, name);\n",
       "        };\n",
       "    }\n",
       "\n",
       "    canvas_div.addEventListener(\n",
       "        'keydown',\n",
       "        on_keyboard_event_closure('key_press')\n",
       "    );\n",
       "    canvas_div.addEventListener(\n",
       "        'keyup',\n",
       "        on_keyboard_event_closure('key_release')\n",
       "    );\n",
       "\n",
       "    this._canvas_extra_style(canvas_div);\n",
       "    this.root.appendChild(canvas_div);\n",
       "\n",
       "    var canvas = (this.canvas = document.createElement('canvas'));\n",
       "    canvas.classList.add('mpl-canvas');\n",
       "    canvas.setAttribute(\n",
       "        'style',\n",
       "        'box-sizing: content-box;' +\n",
       "            'pointer-events: none;' +\n",
       "            'position: relative;' +\n",
       "            'z-index: 0;'\n",
       "    );\n",
       "\n",
       "    this.context = canvas.getContext('2d');\n",
       "\n",
       "    var backingStore =\n",
       "        this.context.backingStorePixelRatio ||\n",
       "        this.context.webkitBackingStorePixelRatio ||\n",
       "        this.context.mozBackingStorePixelRatio ||\n",
       "        this.context.msBackingStorePixelRatio ||\n",
       "        this.context.oBackingStorePixelRatio ||\n",
       "        this.context.backingStorePixelRatio ||\n",
       "        1;\n",
       "\n",
       "    this.ratio = (window.devicePixelRatio || 1) / backingStore;\n",
       "\n",
       "    var rubberband_canvas = (this.rubberband_canvas = document.createElement(\n",
       "        'canvas'\n",
       "    ));\n",
       "    rubberband_canvas.setAttribute(\n",
       "        'style',\n",
       "        'box-sizing: content-box;' +\n",
       "            'left: 0;' +\n",
       "            'pointer-events: none;' +\n",
       "            'position: absolute;' +\n",
       "            'top: 0;' +\n",
       "            'z-index: 1;'\n",
       "    );\n",
       "\n",
       "    // Apply a ponyfill if ResizeObserver is not implemented by browser.\n",
       "    if (this.ResizeObserver === undefined) {\n",
       "        if (window.ResizeObserver !== undefined) {\n",
       "            this.ResizeObserver = window.ResizeObserver;\n",
       "        } else {\n",
       "            var obs = _JSXTOOLS_RESIZE_OBSERVER({});\n",
       "            this.ResizeObserver = obs.ResizeObserver;\n",
       "        }\n",
       "    }\n",
       "\n",
       "    this.resizeObserverInstance = new this.ResizeObserver(function (entries) {\n",
       "        var nentries = entries.length;\n",
       "        for (var i = 0; i < nentries; i++) {\n",
       "            var entry = entries[i];\n",
       "            var width, height;\n",
       "            if (entry.contentBoxSize) {\n",
       "                if (entry.contentBoxSize instanceof Array) {\n",
       "                    // Chrome 84 implements new version of spec.\n",
       "                    width = entry.contentBoxSize[0].inlineSize;\n",
       "                    height = entry.contentBoxSize[0].blockSize;\n",
       "                } else {\n",
       "                    // Firefox implements old version of spec.\n",
       "                    width = entry.contentBoxSize.inlineSize;\n",
       "                    height = entry.contentBoxSize.blockSize;\n",
       "                }\n",
       "            } else {\n",
       "                // Chrome <84 implements even older version of spec.\n",
       "                width = entry.contentRect.width;\n",
       "                height = entry.contentRect.height;\n",
       "            }\n",
       "\n",
       "            // Keep the size of the canvas and rubber band canvas in sync with\n",
       "            // the canvas container.\n",
       "            if (entry.devicePixelContentBoxSize) {\n",
       "                // Chrome 84 implements new version of spec.\n",
       "                canvas.setAttribute(\n",
       "                    'width',\n",
       "                    entry.devicePixelContentBoxSize[0].inlineSize\n",
       "                );\n",
       "                canvas.setAttribute(\n",
       "                    'height',\n",
       "                    entry.devicePixelContentBoxSize[0].blockSize\n",
       "                );\n",
       "            } else {\n",
       "                canvas.setAttribute('width', width * fig.ratio);\n",
       "                canvas.setAttribute('height', height * fig.ratio);\n",
       "            }\n",
       "            /* This rescales the canvas back to display pixels, so that it\n",
       "             * appears correct on HiDPI screens. */\n",
       "            canvas.style.width = width + 'px';\n",
       "            canvas.style.height = height + 'px';\n",
       "\n",
       "            rubberband_canvas.setAttribute('width', width);\n",
       "            rubberband_canvas.setAttribute('height', height);\n",
       "\n",
       "            // And update the size in Python. We ignore the initial 0/0 size\n",
       "            // that occurs as the element is placed into the DOM, which should\n",
       "            // otherwise not happen due to the minimum size styling.\n",
       "            if (fig.ws.readyState == 1 && width != 0 && height != 0) {\n",
       "                fig.request_resize(width, height);\n",
       "            }\n",
       "        }\n",
       "    });\n",
       "    this.resizeObserverInstance.observe(canvas_div);\n",
       "\n",
       "    function on_mouse_event_closure(name) {\n",
       "        /* User Agent sniffing is bad, but WebKit is busted:\n",
       "         * https://bugs.webkit.org/show_bug.cgi?id=144526\n",
       "         * https://bugs.webkit.org/show_bug.cgi?id=181818\n",
       "         * The worst that happens here is that they get an extra browser\n",
       "         * selection when dragging, if this check fails to catch them.\n",
       "         */\n",
       "        var UA = navigator.userAgent;\n",
       "        var isWebKit = /AppleWebKit/.test(UA) && !/Chrome/.test(UA);\n",
       "        if(isWebKit) {\n",
       "            return function (event) {\n",
       "                /* This prevents the web browser from automatically changing to\n",
       "                 * the text insertion cursor when the button is pressed. We\n",
       "                 * want to control all of the cursor setting manually through\n",
       "                 * the 'cursor' event from matplotlib */\n",
       "                event.preventDefault()\n",
       "                return fig.mouse_event(event, name);\n",
       "            };\n",
       "        } else {\n",
       "            return function (event) {\n",
       "                return fig.mouse_event(event, name);\n",
       "            };\n",
       "        }\n",
       "    }\n",
       "\n",
       "    canvas_div.addEventListener(\n",
       "        'mousedown',\n",
       "        on_mouse_event_closure('button_press')\n",
       "    );\n",
       "    canvas_div.addEventListener(\n",
       "        'mouseup',\n",
       "        on_mouse_event_closure('button_release')\n",
       "    );\n",
       "    canvas_div.addEventListener(\n",
       "        'dblclick',\n",
       "        on_mouse_event_closure('dblclick')\n",
       "    );\n",
       "    // Throttle sequential mouse events to 1 every 20ms.\n",
       "    canvas_div.addEventListener(\n",
       "        'mousemove',\n",
       "        on_mouse_event_closure('motion_notify')\n",
       "    );\n",
       "\n",
       "    canvas_div.addEventListener(\n",
       "        'mouseenter',\n",
       "        on_mouse_event_closure('figure_enter')\n",
       "    );\n",
       "    canvas_div.addEventListener(\n",
       "        'mouseleave',\n",
       "        on_mouse_event_closure('figure_leave')\n",
       "    );\n",
       "\n",
       "    canvas_div.addEventListener('wheel', function (event) {\n",
       "        if (event.deltaY < 0) {\n",
       "            event.step = 1;\n",
       "        } else {\n",
       "            event.step = -1;\n",
       "        }\n",
       "        on_mouse_event_closure('scroll')(event);\n",
       "    });\n",
       "\n",
       "    canvas_div.appendChild(canvas);\n",
       "    canvas_div.appendChild(rubberband_canvas);\n",
       "\n",
       "    this.rubberband_context = rubberband_canvas.getContext('2d');\n",
       "    this.rubberband_context.strokeStyle = '#000000';\n",
       "\n",
       "    this._resize_canvas = function (width, height, forward) {\n",
       "        if (forward) {\n",
       "            canvas_div.style.width = width + 'px';\n",
       "            canvas_div.style.height = height + 'px';\n",
       "        }\n",
       "    };\n",
       "\n",
       "    // Disable right mouse context menu.\n",
       "    canvas_div.addEventListener('contextmenu', function (_e) {\n",
       "        event.preventDefault();\n",
       "        return false;\n",
       "    });\n",
       "\n",
       "    function set_focus() {\n",
       "        canvas.focus();\n",
       "        canvas_div.focus();\n",
       "    }\n",
       "\n",
       "    window.setTimeout(set_focus, 100);\n",
       "};\n",
       "\n",
       "mpl.figure.prototype._init_toolbar = function () {\n",
       "    var fig = this;\n",
       "\n",
       "    var toolbar = document.createElement('div');\n",
       "    toolbar.classList = 'mpl-toolbar';\n",
       "    this.root.appendChild(toolbar);\n",
       "\n",
       "    function on_click_closure(name) {\n",
       "        return function (_event) {\n",
       "            return fig.toolbar_button_onclick(name);\n",
       "        };\n",
       "    }\n",
       "\n",
       "    function on_mouseover_closure(tooltip) {\n",
       "        return function (event) {\n",
       "            if (!event.currentTarget.disabled) {\n",
       "                return fig.toolbar_button_onmouseover(tooltip);\n",
       "            }\n",
       "        };\n",
       "    }\n",
       "\n",
       "    fig.buttons = {};\n",
       "    var buttonGroup = document.createElement('div');\n",
       "    buttonGroup.classList = 'mpl-button-group';\n",
       "    for (var toolbar_ind in mpl.toolbar_items) {\n",
       "        var name = mpl.toolbar_items[toolbar_ind][0];\n",
       "        var tooltip = mpl.toolbar_items[toolbar_ind][1];\n",
       "        var image = mpl.toolbar_items[toolbar_ind][2];\n",
       "        var method_name = mpl.toolbar_items[toolbar_ind][3];\n",
       "\n",
       "        if (!name) {\n",
       "            /* Instead of a spacer, we start a new button group. */\n",
       "            if (buttonGroup.hasChildNodes()) {\n",
       "                toolbar.appendChild(buttonGroup);\n",
       "            }\n",
       "            buttonGroup = document.createElement('div');\n",
       "            buttonGroup.classList = 'mpl-button-group';\n",
       "            continue;\n",
       "        }\n",
       "\n",
       "        var button = (fig.buttons[name] = document.createElement('button'));\n",
       "        button.classList = 'mpl-widget';\n",
       "        button.setAttribute('role', 'button');\n",
       "        button.setAttribute('aria-disabled', 'false');\n",
       "        button.addEventListener('click', on_click_closure(method_name));\n",
       "        button.addEventListener('mouseover', on_mouseover_closure(tooltip));\n",
       "\n",
       "        var icon_img = document.createElement('img');\n",
       "        icon_img.src = '_images/' + image + '.png';\n",
       "        icon_img.srcset = '_images/' + image + '_large.png 2x';\n",
       "        icon_img.alt = tooltip;\n",
       "        button.appendChild(icon_img);\n",
       "\n",
       "        buttonGroup.appendChild(button);\n",
       "    }\n",
       "\n",
       "    if (buttonGroup.hasChildNodes()) {\n",
       "        toolbar.appendChild(buttonGroup);\n",
       "    }\n",
       "\n",
       "    var fmt_picker = document.createElement('select');\n",
       "    fmt_picker.classList = 'mpl-widget';\n",
       "    toolbar.appendChild(fmt_picker);\n",
       "    this.format_dropdown = fmt_picker;\n",
       "\n",
       "    for (var ind in mpl.extensions) {\n",
       "        var fmt = mpl.extensions[ind];\n",
       "        var option = document.createElement('option');\n",
       "        option.selected = fmt === mpl.default_extension;\n",
       "        option.innerHTML = fmt;\n",
       "        fmt_picker.appendChild(option);\n",
       "    }\n",
       "\n",
       "    var status_bar = document.createElement('span');\n",
       "    status_bar.classList = 'mpl-message';\n",
       "    toolbar.appendChild(status_bar);\n",
       "    this.message = status_bar;\n",
       "};\n",
       "\n",
       "mpl.figure.prototype.request_resize = function (x_pixels, y_pixels) {\n",
       "    // Request matplotlib to resize the figure. Matplotlib will then trigger a resize in the client,\n",
       "    // which will in turn request a refresh of the image.\n",
       "    this.send_message('resize', { width: x_pixels, height: y_pixels });\n",
       "};\n",
       "\n",
       "mpl.figure.prototype.send_message = function (type, properties) {\n",
       "    properties['type'] = type;\n",
       "    properties['figure_id'] = this.id;\n",
       "    this.ws.send(JSON.stringify(properties));\n",
       "};\n",
       "\n",
       "mpl.figure.prototype.send_draw_message = function () {\n",
       "    if (!this.waiting) {\n",
       "        this.waiting = true;\n",
       "        this.ws.send(JSON.stringify({ type: 'draw', figure_id: this.id }));\n",
       "    }\n",
       "};\n",
       "\n",
       "mpl.figure.prototype.handle_save = function (fig, _msg) {\n",
       "    var format_dropdown = fig.format_dropdown;\n",
       "    var format = format_dropdown.options[format_dropdown.selectedIndex].value;\n",
       "    fig.ondownload(fig, format);\n",
       "};\n",
       "\n",
       "mpl.figure.prototype.handle_resize = function (fig, msg) {\n",
       "    var size = msg['size'];\n",
       "    if (size[0] !== fig.canvas.width || size[1] !== fig.canvas.height) {\n",
       "        fig._resize_canvas(size[0], size[1], msg['forward']);\n",
       "        fig.send_message('refresh', {});\n",
       "    }\n",
       "};\n",
       "\n",
       "mpl.figure.prototype.handle_rubberband = function (fig, msg) {\n",
       "    var x0 = msg['x0'] / fig.ratio;\n",
       "    var y0 = (fig.canvas.height - msg['y0']) / fig.ratio;\n",
       "    var x1 = msg['x1'] / fig.ratio;\n",
       "    var y1 = (fig.canvas.height - msg['y1']) / fig.ratio;\n",
       "    x0 = Math.floor(x0) + 0.5;\n",
       "    y0 = Math.floor(y0) + 0.5;\n",
       "    x1 = Math.floor(x1) + 0.5;\n",
       "    y1 = Math.floor(y1) + 0.5;\n",
       "    var min_x = Math.min(x0, x1);\n",
       "    var min_y = Math.min(y0, y1);\n",
       "    var width = Math.abs(x1 - x0);\n",
       "    var height = Math.abs(y1 - y0);\n",
       "\n",
       "    fig.rubberband_context.clearRect(\n",
       "        0,\n",
       "        0,\n",
       "        fig.canvas.width / fig.ratio,\n",
       "        fig.canvas.height / fig.ratio\n",
       "    );\n",
       "\n",
       "    fig.rubberband_context.strokeRect(min_x, min_y, width, height);\n",
       "};\n",
       "\n",
       "mpl.figure.prototype.handle_figure_label = function (fig, msg) {\n",
       "    // Updates the figure title.\n",
       "    fig.header.textContent = msg['label'];\n",
       "};\n",
       "\n",
       "mpl.figure.prototype.handle_cursor = function (fig, msg) {\n",
       "    fig.canvas_div.style.cursor = msg['cursor'];\n",
       "};\n",
       "\n",
       "mpl.figure.prototype.handle_message = function (fig, msg) {\n",
       "    fig.message.textContent = msg['message'];\n",
       "};\n",
       "\n",
       "mpl.figure.prototype.handle_draw = function (fig, _msg) {\n",
       "    // Request the server to send over a new figure.\n",
       "    fig.send_draw_message();\n",
       "};\n",
       "\n",
       "mpl.figure.prototype.handle_image_mode = function (fig, msg) {\n",
       "    fig.image_mode = msg['mode'];\n",
       "};\n",
       "\n",
       "mpl.figure.prototype.handle_history_buttons = function (fig, msg) {\n",
       "    for (var key in msg) {\n",
       "        if (!(key in fig.buttons)) {\n",
       "            continue;\n",
       "        }\n",
       "        fig.buttons[key].disabled = !msg[key];\n",
       "        fig.buttons[key].setAttribute('aria-disabled', !msg[key]);\n",
       "    }\n",
       "};\n",
       "\n",
       "mpl.figure.prototype.handle_navigate_mode = function (fig, msg) {\n",
       "    if (msg['mode'] === 'PAN') {\n",
       "        fig.buttons['Pan'].classList.add('active');\n",
       "        fig.buttons['Zoom'].classList.remove('active');\n",
       "    } else if (msg['mode'] === 'ZOOM') {\n",
       "        fig.buttons['Pan'].classList.remove('active');\n",
       "        fig.buttons['Zoom'].classList.add('active');\n",
       "    } else {\n",
       "        fig.buttons['Pan'].classList.remove('active');\n",
       "        fig.buttons['Zoom'].classList.remove('active');\n",
       "    }\n",
       "};\n",
       "\n",
       "mpl.figure.prototype.updated_canvas_event = function () {\n",
       "    // Called whenever the canvas gets updated.\n",
       "    this.send_message('ack', {});\n",
       "};\n",
       "\n",
       "// A function to construct a web socket function for onmessage handling.\n",
       "// Called in the figure constructor.\n",
       "mpl.figure.prototype._make_on_message_function = function (fig) {\n",
       "    return function socket_on_message(evt) {\n",
       "        if (evt.data instanceof Blob) {\n",
       "            var img = evt.data;\n",
       "            if (img.type !== 'image/png') {\n",
       "                /* FIXME: We get \"Resource interpreted as Image but\n",
       "                 * transferred with MIME type text/plain:\" errors on\n",
       "                 * Chrome.  But how to set the MIME type?  It doesn't seem\n",
       "                 * to be part of the websocket stream */\n",
       "                img.type = 'image/png';\n",
       "            }\n",
       "\n",
       "            /* Free the memory for the previous frames */\n",
       "            if (fig.imageObj.src) {\n",
       "                (window.URL || window.webkitURL).revokeObjectURL(\n",
       "                    fig.imageObj.src\n",
       "                );\n",
       "            }\n",
       "\n",
       "            fig.imageObj.src = (window.URL || window.webkitURL).createObjectURL(\n",
       "                img\n",
       "            );\n",
       "            fig.updated_canvas_event();\n",
       "            fig.waiting = false;\n",
       "            return;\n",
       "        } else if (\n",
       "            typeof evt.data === 'string' &&\n",
       "            evt.data.slice(0, 21) === 'data:image/png;base64'\n",
       "        ) {\n",
       "            fig.imageObj.src = evt.data;\n",
       "            fig.updated_canvas_event();\n",
       "            fig.waiting = false;\n",
       "            return;\n",
       "        }\n",
       "\n",
       "        var msg = JSON.parse(evt.data);\n",
       "        var msg_type = msg['type'];\n",
       "\n",
       "        // Call the  \"handle_{type}\" callback, which takes\n",
       "        // the figure and JSON message as its only arguments.\n",
       "        try {\n",
       "            var callback = fig['handle_' + msg_type];\n",
       "        } catch (e) {\n",
       "            console.log(\n",
       "                \"No handler for the '\" + msg_type + \"' message type: \",\n",
       "                msg\n",
       "            );\n",
       "            return;\n",
       "        }\n",
       "\n",
       "        if (callback) {\n",
       "            try {\n",
       "                // console.log(\"Handling '\" + msg_type + \"' message: \", msg);\n",
       "                callback(fig, msg);\n",
       "            } catch (e) {\n",
       "                console.log(\n",
       "                    \"Exception inside the 'handler_\" + msg_type + \"' callback:\",\n",
       "                    e,\n",
       "                    e.stack,\n",
       "                    msg\n",
       "                );\n",
       "            }\n",
       "        }\n",
       "    };\n",
       "};\n",
       "\n",
       "function getModifiers(event) {\n",
       "    var mods = [];\n",
       "    if (event.ctrlKey) {\n",
       "        mods.push('ctrl');\n",
       "    }\n",
       "    if (event.altKey) {\n",
       "        mods.push('alt');\n",
       "    }\n",
       "    if (event.shiftKey) {\n",
       "        mods.push('shift');\n",
       "    }\n",
       "    if (event.metaKey) {\n",
       "        mods.push('meta');\n",
       "    }\n",
       "    return mods;\n",
       "}\n",
       "\n",
       "/*\n",
       " * return a copy of an object with only non-object keys\n",
       " * we need this to avoid circular references\n",
       " * https://stackoverflow.com/a/24161582/3208463\n",
       " */\n",
       "function simpleKeys(original) {\n",
       "    return Object.keys(original).reduce(function (obj, key) {\n",
       "        if (typeof original[key] !== 'object') {\n",
       "            obj[key] = original[key];\n",
       "        }\n",
       "        return obj;\n",
       "    }, {});\n",
       "}\n",
       "\n",
       "mpl.figure.prototype.mouse_event = function (event, name) {\n",
       "    if (name === 'button_press') {\n",
       "        this.canvas.focus();\n",
       "        this.canvas_div.focus();\n",
       "    }\n",
       "\n",
       "    // from https://stackoverflow.com/q/1114465\n",
       "    var boundingRect = this.canvas.getBoundingClientRect();\n",
       "    var x = (event.clientX - boundingRect.left) * this.ratio;\n",
       "    var y = (event.clientY - boundingRect.top) * this.ratio;\n",
       "\n",
       "    this.send_message(name, {\n",
       "        x: x,\n",
       "        y: y,\n",
       "        button: event.button,\n",
       "        step: event.step,\n",
       "        modifiers: getModifiers(event),\n",
       "        guiEvent: simpleKeys(event),\n",
       "    });\n",
       "\n",
       "    return false;\n",
       "};\n",
       "\n",
       "mpl.figure.prototype._key_event_extra = function (_event, _name) {\n",
       "    // Handle any extra behaviour associated with a key event\n",
       "};\n",
       "\n",
       "mpl.figure.prototype.key_event = function (event, name) {\n",
       "    // Prevent repeat events\n",
       "    if (name === 'key_press') {\n",
       "        if (event.key === this._key) {\n",
       "            return;\n",
       "        } else {\n",
       "            this._key = event.key;\n",
       "        }\n",
       "    }\n",
       "    if (name === 'key_release') {\n",
       "        this._key = null;\n",
       "    }\n",
       "\n",
       "    var value = '';\n",
       "    if (event.ctrlKey && event.key !== 'Control') {\n",
       "        value += 'ctrl+';\n",
       "    }\n",
       "    else if (event.altKey && event.key !== 'Alt') {\n",
       "        value += 'alt+';\n",
       "    }\n",
       "    else if (event.shiftKey && event.key !== 'Shift') {\n",
       "        value += 'shift+';\n",
       "    }\n",
       "\n",
       "    value += 'k' + event.key;\n",
       "\n",
       "    this._key_event_extra(event, name);\n",
       "\n",
       "    this.send_message(name, { key: value, guiEvent: simpleKeys(event) });\n",
       "    return false;\n",
       "};\n",
       "\n",
       "mpl.figure.prototype.toolbar_button_onclick = function (name) {\n",
       "    if (name === 'download') {\n",
       "        this.handle_save(this, null);\n",
       "    } else {\n",
       "        this.send_message('toolbar_button', { name: name });\n",
       "    }\n",
       "};\n",
       "\n",
       "mpl.figure.prototype.toolbar_button_onmouseover = function (tooltip) {\n",
       "    this.message.textContent = tooltip;\n",
       "};\n",
       "\n",
       "///////////////// REMAINING CONTENT GENERATED BY embed_js.py /////////////////\n",
       "// prettier-ignore\n",
       "var _JSXTOOLS_RESIZE_OBSERVER=function(A){var t,i=new WeakMap,n=new WeakMap,a=new WeakMap,r=new WeakMap,o=new Set;function s(e){if(!(this instanceof s))throw new TypeError(\"Constructor requires 'new' operator\");i.set(this,e)}function h(){throw new TypeError(\"Function is not a constructor\")}function c(e,t,i,n){e=0 in arguments?Number(arguments[0]):0,t=1 in arguments?Number(arguments[1]):0,i=2 in arguments?Number(arguments[2]):0,n=3 in arguments?Number(arguments[3]):0,this.right=(this.x=this.left=e)+(this.width=i),this.bottom=(this.y=this.top=t)+(this.height=n),Object.freeze(this)}function d(){t=requestAnimationFrame(d);var s=new WeakMap,p=new Set;o.forEach((function(t){r.get(t).forEach((function(i){var r=t instanceof window.SVGElement,o=a.get(t),d=r?0:parseFloat(o.paddingTop),f=r?0:parseFloat(o.paddingRight),l=r?0:parseFloat(o.paddingBottom),u=r?0:parseFloat(o.paddingLeft),g=r?0:parseFloat(o.borderTopWidth),m=r?0:parseFloat(o.borderRightWidth),w=r?0:parseFloat(o.borderBottomWidth),b=u+f,F=d+l,v=(r?0:parseFloat(o.borderLeftWidth))+m,W=g+w,y=r?0:t.offsetHeight-W-t.clientHeight,E=r?0:t.offsetWidth-v-t.clientWidth,R=b+v,z=F+W,M=r?t.width:parseFloat(o.width)-R-E,O=r?t.height:parseFloat(o.height)-z-y;if(n.has(t)){var k=n.get(t);if(k[0]===M&&k[1]===O)return}n.set(t,[M,O]);var S=Object.create(h.prototype);S.target=t,S.contentRect=new c(u,d,M,O),s.has(i)||(s.set(i,[]),p.add(i)),s.get(i).push(S)}))})),p.forEach((function(e){i.get(e).call(e,s.get(e),e)}))}return s.prototype.observe=function(i){if(i instanceof window.Element){r.has(i)||(r.set(i,new Set),o.add(i),a.set(i,window.getComputedStyle(i)));var n=r.get(i);n.has(this)||n.add(this),cancelAnimationFrame(t),t=requestAnimationFrame(d)}},s.prototype.unobserve=function(i){if(i instanceof window.Element&&r.has(i)){var n=r.get(i);n.has(this)&&(n.delete(this),n.size||(r.delete(i),o.delete(i))),n.size||r.delete(i),o.size||cancelAnimationFrame(t)}},A.DOMRectReadOnly=c,A.ResizeObserver=s,A.ResizeObserverEntry=h,A}; // eslint-disable-line\n",
       "mpl.toolbar_items = [[\"Home\", \"Reset original view\", \"fa fa-home\", \"home\"], [\"Back\", \"Back to previous view\", \"fa fa-arrow-left\", \"back\"], [\"Forward\", \"Forward to next view\", \"fa fa-arrow-right\", \"forward\"], [\"\", \"\", \"\", \"\"], [\"Pan\", \"Left button pans, Right button zooms\\nx/y fixes axis, CTRL fixes aspect\", \"fa fa-arrows\", \"pan\"], [\"Zoom\", \"Zoom to rectangle\\nx/y fixes axis\", \"fa fa-square-o\", \"zoom\"], [\"\", \"\", \"\", \"\"], [\"Download\", \"Download plot\", \"fa fa-floppy-o\", \"download\"]];\n",
       "\n",
       "mpl.extensions = [\"eps\", \"jpeg\", \"pgf\", \"pdf\", \"png\", \"ps\", \"raw\", \"svg\", \"tif\", \"webp\"];\n",
       "\n",
       "mpl.default_extension = \"png\";/* global mpl */\n",
       "\n",
       "var comm_websocket_adapter = function (comm) {\n",
       "    // Create a \"websocket\"-like object which calls the given IPython comm\n",
       "    // object with the appropriate methods. Currently this is a non binary\n",
       "    // socket, so there is still some room for performance tuning.\n",
       "    var ws = {};\n",
       "\n",
       "    ws.binaryType = comm.kernel.ws.binaryType;\n",
       "    ws.readyState = comm.kernel.ws.readyState;\n",
       "    function updateReadyState(_event) {\n",
       "        if (comm.kernel.ws) {\n",
       "            ws.readyState = comm.kernel.ws.readyState;\n",
       "        } else {\n",
       "            ws.readyState = 3; // Closed state.\n",
       "        }\n",
       "    }\n",
       "    comm.kernel.ws.addEventListener('open', updateReadyState);\n",
       "    comm.kernel.ws.addEventListener('close', updateReadyState);\n",
       "    comm.kernel.ws.addEventListener('error', updateReadyState);\n",
       "\n",
       "    ws.close = function () {\n",
       "        comm.close();\n",
       "    };\n",
       "    ws.send = function (m) {\n",
       "        //console.log('sending', m);\n",
       "        comm.send(m);\n",
       "    };\n",
       "    // Register the callback with on_msg.\n",
       "    comm.on_msg(function (msg) {\n",
       "        //console.log('receiving', msg['content']['data'], msg);\n",
       "        var data = msg['content']['data'];\n",
       "        if (data['blob'] !== undefined) {\n",
       "            data = {\n",
       "                data: new Blob(msg['buffers'], { type: data['blob'] }),\n",
       "            };\n",
       "        }\n",
       "        // Pass the mpl event to the overridden (by mpl) onmessage function.\n",
       "        ws.onmessage(data);\n",
       "    });\n",
       "    return ws;\n",
       "};\n",
       "\n",
       "mpl.mpl_figure_comm = function (comm, msg) {\n",
       "    // This is the function which gets called when the mpl process\n",
       "    // starts-up an IPython Comm through the \"matplotlib\" channel.\n",
       "\n",
       "    var id = msg.content.data.id;\n",
       "    // Get hold of the div created by the display call when the Comm\n",
       "    // socket was opened in Python.\n",
       "    var element = document.getElementById(id);\n",
       "    var ws_proxy = comm_websocket_adapter(comm);\n",
       "\n",
       "    function ondownload(figure, _format) {\n",
       "        window.open(figure.canvas.toDataURL());\n",
       "    }\n",
       "\n",
       "    var fig = new mpl.figure(id, ws_proxy, ondownload, element);\n",
       "\n",
       "    // Call onopen now - mpl needs it, as it is assuming we've passed it a real\n",
       "    // web socket which is closed, not our websocket->open comm proxy.\n",
       "    ws_proxy.onopen();\n",
       "\n",
       "    fig.parent_element = element;\n",
       "    fig.cell_info = mpl.find_output_cell(\"<div id='\" + id + \"'></div>\");\n",
       "    if (!fig.cell_info) {\n",
       "        console.error('Failed to find cell for figure', id, fig);\n",
       "        return;\n",
       "    }\n",
       "    fig.cell_info[0].output_area.element.on(\n",
       "        'cleared',\n",
       "        { fig: fig },\n",
       "        fig._remove_fig_handler\n",
       "    );\n",
       "};\n",
       "\n",
       "mpl.figure.prototype.handle_close = function (fig, msg) {\n",
       "    var width = fig.canvas.width / fig.ratio;\n",
       "    fig.cell_info[0].output_area.element.off(\n",
       "        'cleared',\n",
       "        fig._remove_fig_handler\n",
       "    );\n",
       "    fig.resizeObserverInstance.unobserve(fig.canvas_div);\n",
       "\n",
       "    // Update the output cell to use the data from the current canvas.\n",
       "    fig.push_to_output();\n",
       "    var dataURL = fig.canvas.toDataURL();\n",
       "    // Re-enable the keyboard manager in IPython - without this line, in FF,\n",
       "    // the notebook keyboard shortcuts fail.\n",
       "    IPython.keyboard_manager.enable();\n",
       "    fig.parent_element.innerHTML =\n",
       "        '<img src=\"' + dataURL + '\" width=\"' + width + '\">';\n",
       "    fig.close_ws(fig, msg);\n",
       "};\n",
       "\n",
       "mpl.figure.prototype.close_ws = function (fig, msg) {\n",
       "    fig.send_message('closing', msg);\n",
       "    // fig.ws.close()\n",
       "};\n",
       "\n",
       "mpl.figure.prototype.push_to_output = function (_remove_interactive) {\n",
       "    // Turn the data on the canvas into data in the output cell.\n",
       "    var width = this.canvas.width / this.ratio;\n",
       "    var dataURL = this.canvas.toDataURL();\n",
       "    this.cell_info[1]['text/html'] =\n",
       "        '<img src=\"' + dataURL + '\" width=\"' + width + '\">';\n",
       "};\n",
       "\n",
       "mpl.figure.prototype.updated_canvas_event = function () {\n",
       "    // Tell IPython that the notebook contents must change.\n",
       "    IPython.notebook.set_dirty(true);\n",
       "    this.send_message('ack', {});\n",
       "    var fig = this;\n",
       "    // Wait a second, then push the new image to the DOM so\n",
       "    // that it is saved nicely (might be nice to debounce this).\n",
       "    setTimeout(function () {\n",
       "        fig.push_to_output();\n",
       "    }, 1000);\n",
       "};\n",
       "\n",
       "mpl.figure.prototype._init_toolbar = function () {\n",
       "    var fig = this;\n",
       "\n",
       "    var toolbar = document.createElement('div');\n",
       "    toolbar.classList = 'btn-toolbar';\n",
       "    this.root.appendChild(toolbar);\n",
       "\n",
       "    function on_click_closure(name) {\n",
       "        return function (_event) {\n",
       "            return fig.toolbar_button_onclick(name);\n",
       "        };\n",
       "    }\n",
       "\n",
       "    function on_mouseover_closure(tooltip) {\n",
       "        return function (event) {\n",
       "            if (!event.currentTarget.disabled) {\n",
       "                return fig.toolbar_button_onmouseover(tooltip);\n",
       "            }\n",
       "        };\n",
       "    }\n",
       "\n",
       "    fig.buttons = {};\n",
       "    var buttonGroup = document.createElement('div');\n",
       "    buttonGroup.classList = 'btn-group';\n",
       "    var button;\n",
       "    for (var toolbar_ind in mpl.toolbar_items) {\n",
       "        var name = mpl.toolbar_items[toolbar_ind][0];\n",
       "        var tooltip = mpl.toolbar_items[toolbar_ind][1];\n",
       "        var image = mpl.toolbar_items[toolbar_ind][2];\n",
       "        var method_name = mpl.toolbar_items[toolbar_ind][3];\n",
       "\n",
       "        if (!name) {\n",
       "            /* Instead of a spacer, we start a new button group. */\n",
       "            if (buttonGroup.hasChildNodes()) {\n",
       "                toolbar.appendChild(buttonGroup);\n",
       "            }\n",
       "            buttonGroup = document.createElement('div');\n",
       "            buttonGroup.classList = 'btn-group';\n",
       "            continue;\n",
       "        }\n",
       "\n",
       "        button = fig.buttons[name] = document.createElement('button');\n",
       "        button.classList = 'btn btn-default';\n",
       "        button.href = '#';\n",
       "        button.title = name;\n",
       "        button.innerHTML = '<i class=\"fa ' + image + ' fa-lg\"></i>';\n",
       "        button.addEventListener('click', on_click_closure(method_name));\n",
       "        button.addEventListener('mouseover', on_mouseover_closure(tooltip));\n",
       "        buttonGroup.appendChild(button);\n",
       "    }\n",
       "\n",
       "    if (buttonGroup.hasChildNodes()) {\n",
       "        toolbar.appendChild(buttonGroup);\n",
       "    }\n",
       "\n",
       "    // Add the status bar.\n",
       "    var status_bar = document.createElement('span');\n",
       "    status_bar.classList = 'mpl-message pull-right';\n",
       "    toolbar.appendChild(status_bar);\n",
       "    this.message = status_bar;\n",
       "\n",
       "    // Add the close button to the window.\n",
       "    var buttongrp = document.createElement('div');\n",
       "    buttongrp.classList = 'btn-group inline pull-right';\n",
       "    button = document.createElement('button');\n",
       "    button.classList = 'btn btn-mini btn-primary';\n",
       "    button.href = '#';\n",
       "    button.title = 'Stop Interaction';\n",
       "    button.innerHTML = '<i class=\"fa fa-power-off icon-remove icon-large\"></i>';\n",
       "    button.addEventListener('click', function (_evt) {\n",
       "        fig.handle_close(fig, {});\n",
       "    });\n",
       "    button.addEventListener(\n",
       "        'mouseover',\n",
       "        on_mouseover_closure('Stop Interaction')\n",
       "    );\n",
       "    buttongrp.appendChild(button);\n",
       "    var titlebar = this.root.querySelector('.ui-dialog-titlebar');\n",
       "    titlebar.insertBefore(buttongrp, titlebar.firstChild);\n",
       "};\n",
       "\n",
       "mpl.figure.prototype._remove_fig_handler = function (event) {\n",
       "    var fig = event.data.fig;\n",
       "    if (event.target !== this) {\n",
       "        // Ignore bubbled events from children.\n",
       "        return;\n",
       "    }\n",
       "    fig.close_ws(fig, {});\n",
       "};\n",
       "\n",
       "mpl.figure.prototype._root_extra_style = function (el) {\n",
       "    el.style.boxSizing = 'content-box'; // override notebook setting of border-box.\n",
       "};\n",
       "\n",
       "mpl.figure.prototype._canvas_extra_style = function (el) {\n",
       "    // this is important to make the div 'focusable\n",
       "    el.setAttribute('tabindex', 0);\n",
       "    // reach out to IPython and tell the keyboard manager to turn it's self\n",
       "    // off when our div gets focus\n",
       "\n",
       "    // location in version 3\n",
       "    if (IPython.notebook.keyboard_manager) {\n",
       "        IPython.notebook.keyboard_manager.register_events(el);\n",
       "    } else {\n",
       "        // location in version 2\n",
       "        IPython.keyboard_manager.register_events(el);\n",
       "    }\n",
       "};\n",
       "\n",
       "mpl.figure.prototype._key_event_extra = function (event, _name) {\n",
       "    // Check for shift+enter\n",
       "    if (event.shiftKey && event.which === 13) {\n",
       "        this.canvas_div.blur();\n",
       "        // select the cell after this one\n",
       "        var index = IPython.notebook.find_cell_index(this.cell_info[0]);\n",
       "        IPython.notebook.select(index + 1);\n",
       "    }\n",
       "};\n",
       "\n",
       "mpl.figure.prototype.handle_save = function (fig, _msg) {\n",
       "    fig.ondownload(fig, null);\n",
       "};\n",
       "\n",
       "mpl.find_output_cell = function (html_output) {\n",
       "    // Return the cell and output element which can be found *uniquely* in the notebook.\n",
       "    // Note - this is a bit hacky, but it is done because the \"notebook_saving.Notebook\"\n",
       "    // IPython event is triggered only after the cells have been serialised, which for\n",
       "    // our purposes (turning an active figure into a static one), is too late.\n",
       "    var cells = IPython.notebook.get_cells();\n",
       "    var ncells = cells.length;\n",
       "    for (var i = 0; i < ncells; i++) {\n",
       "        var cell = cells[i];\n",
       "        if (cell.cell_type === 'code') {\n",
       "            for (var j = 0; j < cell.output_area.outputs.length; j++) {\n",
       "                var data = cell.output_area.outputs[j];\n",
       "                if (data.data) {\n",
       "                    // IPython >= 3 moved mimebundle to data attribute of output\n",
       "                    data = data.data;\n",
       "                }\n",
       "                if (data['text/html'] === html_output) {\n",
       "                    return [cell, data, j];\n",
       "                }\n",
       "            }\n",
       "        }\n",
       "    }\n",
       "};\n",
       "\n",
       "// Register the function which deals with the matplotlib target/channel.\n",
       "// The kernel may be null if the page has been refreshed.\n",
       "if (IPython.notebook.kernel !== null) {\n",
       "    IPython.notebook.kernel.comm_manager.register_target(\n",
       "        'matplotlib',\n",
       "        mpl.mpl_figure_comm\n",
       "    );\n",
       "}\n"
      ],
      "text/plain": [
       "<IPython.core.display.Javascript object>"
      ]
     },
     "metadata": {},
     "output_type": "display_data"
    },
    {
     "data": {
      "text/html": [
       "<img src=\"data:image/png;base64,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\" width=\"640\">"
      ],
      "text/plain": [
       "<IPython.core.display.HTML object>"
      ]
     },
     "metadata": {},
     "output_type": "display_data"
    },
    {
     "data": {
      "text/plain": [
       "<matplotlib.image.AxesImage at 0x25a1a2c1d50>"
      ]
     },
     "execution_count": 87,
     "metadata": {},
     "output_type": "execute_result"
    }
   ],
   "source": [
    "plt.imshow(input_image)"
   ]
  },
  {
   "cell_type": "code",
   "execution_count": 74,
   "metadata": {
    "colab": {
     "base_uri": "https://localhost:8080/"
    },
    "id": "78AQcVc-zlOj",
    "outputId": "451e5e14-8886-482c-f3cf-6e82c41019c1"
   },
   "outputs": [
    {
     "data": {
      "text/plain": [
       "(318, 318, 3)"
      ]
     },
     "execution_count": 74,
     "metadata": {},
     "output_type": "execute_result"
    }
   ],
   "source": [
    "input_image.shape"
   ]
  },
  {
   "cell_type": "code",
   "execution_count": 75,
   "metadata": {
    "id": "MXA0J3CyznE2"
   },
   "outputs": [],
   "source": [
    "grayscale = cv2.cvtColor(input_image, cv2.COLOR_RGB2GRAY)"
   ]
  },
  {
   "cell_type": "code",
   "execution_count": 76,
   "metadata": {
    "colab": {
     "base_uri": "https://localhost:8080/"
    },
    "id": "ZkW_hJh_0Df6",
    "outputId": "203406f6-9ab3-4144-ef55-cafa87cf3efb"
   },
   "outputs": [
    {
     "data": {
      "text/plain": [
       "(318, 318)"
      ]
     },
     "execution_count": 76,
     "metadata": {},
     "output_type": "execute_result"
    }
   ],
   "source": [
    "grayscale.shape"
   ]
  },
  {
   "cell_type": "code",
   "execution_count": 77,
   "metadata": {
    "id": "hEXu0BmE0Goo"
   },
   "outputs": [],
   "source": [
    "input_image_resize = cv2.resize(grayscale, (28, 28))"
   ]
  },
  {
   "cell_type": "code",
   "execution_count": 78,
   "metadata": {
    "colab": {
     "base_uri": "https://localhost:8080/"
    },
    "id": "X9VOKvgx0YzU",
    "outputId": "59ac54d6-1699-49ef-913d-be0dfac23244"
   },
   "outputs": [
    {
     "data": {
      "text/plain": [
       "(28, 28)"
      ]
     },
     "execution_count": 78,
     "metadata": {},
     "output_type": "execute_result"
    }
   ],
   "source": [
    "input_image_resize.shape"
   ]
  },
  {
   "cell_type": "code",
   "execution_count": 88,
   "metadata": {
    "colab": {
     "base_uri": "https://localhost:8080/",
     "height": 45
    },
    "id": "4vawW06R0anF",
    "outputId": "7db820b4-3493-46a5-d9f2-23cad3306617"
   },
   "outputs": [
    {
     "data": {
      "application/javascript": [
       "/* Put everything inside the global mpl namespace */\n",
       "/* global mpl */\n",
       "window.mpl = {};\n",
       "\n",
       "mpl.get_websocket_type = function () {\n",
       "    if (typeof WebSocket !== 'undefined') {\n",
       "        return WebSocket;\n",
       "    } else if (typeof MozWebSocket !== 'undefined') {\n",
       "        return MozWebSocket;\n",
       "    } else {\n",
       "        alert(\n",
       "            'Your browser does not have WebSocket support. ' +\n",
       "                'Please try Chrome, Safari or Firefox ≥ 6. ' +\n",
       "                'Firefox 4 and 5 are also supported but you ' +\n",
       "                'have to enable WebSockets in about:config.'\n",
       "        );\n",
       "    }\n",
       "};\n",
       "\n",
       "mpl.figure = function (figure_id, websocket, ondownload, parent_element) {\n",
       "    this.id = figure_id;\n",
       "\n",
       "    this.ws = websocket;\n",
       "\n",
       "    this.supports_binary = this.ws.binaryType !== undefined;\n",
       "\n",
       "    if (!this.supports_binary) {\n",
       "        var warnings = document.getElementById('mpl-warnings');\n",
       "        if (warnings) {\n",
       "            warnings.style.display = 'block';\n",
       "            warnings.textContent =\n",
       "                'This browser does not support binary websocket messages. ' +\n",
       "                'Performance may be slow.';\n",
       "        }\n",
       "    }\n",
       "\n",
       "    this.imageObj = new Image();\n",
       "\n",
       "    this.context = undefined;\n",
       "    this.message = undefined;\n",
       "    this.canvas = undefined;\n",
       "    this.rubberband_canvas = undefined;\n",
       "    this.rubberband_context = undefined;\n",
       "    this.format_dropdown = undefined;\n",
       "\n",
       "    this.image_mode = 'full';\n",
       "\n",
       "    this.root = document.createElement('div');\n",
       "    this.root.setAttribute('style', 'display: inline-block');\n",
       "    this._root_extra_style(this.root);\n",
       "\n",
       "    parent_element.appendChild(this.root);\n",
       "\n",
       "    this._init_header(this);\n",
       "    this._init_canvas(this);\n",
       "    this._init_toolbar(this);\n",
       "\n",
       "    var fig = this;\n",
       "\n",
       "    this.waiting = false;\n",
       "\n",
       "    this.ws.onopen = function () {\n",
       "        fig.send_message('supports_binary', { value: fig.supports_binary });\n",
       "        fig.send_message('send_image_mode', {});\n",
       "        if (fig.ratio !== 1) {\n",
       "            fig.send_message('set_device_pixel_ratio', {\n",
       "                device_pixel_ratio: fig.ratio,\n",
       "            });\n",
       "        }\n",
       "        fig.send_message('refresh', {});\n",
       "    };\n",
       "\n",
       "    this.imageObj.onload = function () {\n",
       "        if (fig.image_mode === 'full') {\n",
       "            // Full images could contain transparency (where diff images\n",
       "            // almost always do), so we need to clear the canvas so that\n",
       "            // there is no ghosting.\n",
       "            fig.context.clearRect(0, 0, fig.canvas.width, fig.canvas.height);\n",
       "        }\n",
       "        fig.context.drawImage(fig.imageObj, 0, 0);\n",
       "    };\n",
       "\n",
       "    this.imageObj.onunload = function () {\n",
       "        fig.ws.close();\n",
       "    };\n",
       "\n",
       "    this.ws.onmessage = this._make_on_message_function(this);\n",
       "\n",
       "    this.ondownload = ondownload;\n",
       "};\n",
       "\n",
       "mpl.figure.prototype._init_header = function () {\n",
       "    var titlebar = document.createElement('div');\n",
       "    titlebar.classList =\n",
       "        'ui-dialog-titlebar ui-widget-header ui-corner-all ui-helper-clearfix';\n",
       "    var titletext = document.createElement('div');\n",
       "    titletext.classList = 'ui-dialog-title';\n",
       "    titletext.setAttribute(\n",
       "        'style',\n",
       "        'width: 100%; text-align: center; padding: 3px;'\n",
       "    );\n",
       "    titlebar.appendChild(titletext);\n",
       "    this.root.appendChild(titlebar);\n",
       "    this.header = titletext;\n",
       "};\n",
       "\n",
       "mpl.figure.prototype._canvas_extra_style = function (_canvas_div) {};\n",
       "\n",
       "mpl.figure.prototype._root_extra_style = function (_canvas_div) {};\n",
       "\n",
       "mpl.figure.prototype._init_canvas = function () {\n",
       "    var fig = this;\n",
       "\n",
       "    var canvas_div = (this.canvas_div = document.createElement('div'));\n",
       "    canvas_div.setAttribute('tabindex', '0');\n",
       "    canvas_div.setAttribute(\n",
       "        'style',\n",
       "        'border: 1px solid #ddd;' +\n",
       "            'box-sizing: content-box;' +\n",
       "            'clear: both;' +\n",
       "            'min-height: 1px;' +\n",
       "            'min-width: 1px;' +\n",
       "            'outline: 0;' +\n",
       "            'overflow: hidden;' +\n",
       "            'position: relative;' +\n",
       "            'resize: both;' +\n",
       "            'z-index: 2;'\n",
       "    );\n",
       "\n",
       "    function on_keyboard_event_closure(name) {\n",
       "        return function (event) {\n",
       "            return fig.key_event(event, name);\n",
       "        };\n",
       "    }\n",
       "\n",
       "    canvas_div.addEventListener(\n",
       "        'keydown',\n",
       "        on_keyboard_event_closure('key_press')\n",
       "    );\n",
       "    canvas_div.addEventListener(\n",
       "        'keyup',\n",
       "        on_keyboard_event_closure('key_release')\n",
       "    );\n",
       "\n",
       "    this._canvas_extra_style(canvas_div);\n",
       "    this.root.appendChild(canvas_div);\n",
       "\n",
       "    var canvas = (this.canvas = document.createElement('canvas'));\n",
       "    canvas.classList.add('mpl-canvas');\n",
       "    canvas.setAttribute(\n",
       "        'style',\n",
       "        'box-sizing: content-box;' +\n",
       "            'pointer-events: none;' +\n",
       "            'position: relative;' +\n",
       "            'z-index: 0;'\n",
       "    );\n",
       "\n",
       "    this.context = canvas.getContext('2d');\n",
       "\n",
       "    var backingStore =\n",
       "        this.context.backingStorePixelRatio ||\n",
       "        this.context.webkitBackingStorePixelRatio ||\n",
       "        this.context.mozBackingStorePixelRatio ||\n",
       "        this.context.msBackingStorePixelRatio ||\n",
       "        this.context.oBackingStorePixelRatio ||\n",
       "        this.context.backingStorePixelRatio ||\n",
       "        1;\n",
       "\n",
       "    this.ratio = (window.devicePixelRatio || 1) / backingStore;\n",
       "\n",
       "    var rubberband_canvas = (this.rubberband_canvas = document.createElement(\n",
       "        'canvas'\n",
       "    ));\n",
       "    rubberband_canvas.setAttribute(\n",
       "        'style',\n",
       "        'box-sizing: content-box;' +\n",
       "            'left: 0;' +\n",
       "            'pointer-events: none;' +\n",
       "            'position: absolute;' +\n",
       "            'top: 0;' +\n",
       "            'z-index: 1;'\n",
       "    );\n",
       "\n",
       "    // Apply a ponyfill if ResizeObserver is not implemented by browser.\n",
       "    if (this.ResizeObserver === undefined) {\n",
       "        if (window.ResizeObserver !== undefined) {\n",
       "            this.ResizeObserver = window.ResizeObserver;\n",
       "        } else {\n",
       "            var obs = _JSXTOOLS_RESIZE_OBSERVER({});\n",
       "            this.ResizeObserver = obs.ResizeObserver;\n",
       "        }\n",
       "    }\n",
       "\n",
       "    this.resizeObserverInstance = new this.ResizeObserver(function (entries) {\n",
       "        var nentries = entries.length;\n",
       "        for (var i = 0; i < nentries; i++) {\n",
       "            var entry = entries[i];\n",
       "            var width, height;\n",
       "            if (entry.contentBoxSize) {\n",
       "                if (entry.contentBoxSize instanceof Array) {\n",
       "                    // Chrome 84 implements new version of spec.\n",
       "                    width = entry.contentBoxSize[0].inlineSize;\n",
       "                    height = entry.contentBoxSize[0].blockSize;\n",
       "                } else {\n",
       "                    // Firefox implements old version of spec.\n",
       "                    width = entry.contentBoxSize.inlineSize;\n",
       "                    height = entry.contentBoxSize.blockSize;\n",
       "                }\n",
       "            } else {\n",
       "                // Chrome <84 implements even older version of spec.\n",
       "                width = entry.contentRect.width;\n",
       "                height = entry.contentRect.height;\n",
       "            }\n",
       "\n",
       "            // Keep the size of the canvas and rubber band canvas in sync with\n",
       "            // the canvas container.\n",
       "            if (entry.devicePixelContentBoxSize) {\n",
       "                // Chrome 84 implements new version of spec.\n",
       "                canvas.setAttribute(\n",
       "                    'width',\n",
       "                    entry.devicePixelContentBoxSize[0].inlineSize\n",
       "                );\n",
       "                canvas.setAttribute(\n",
       "                    'height',\n",
       "                    entry.devicePixelContentBoxSize[0].blockSize\n",
       "                );\n",
       "            } else {\n",
       "                canvas.setAttribute('width', width * fig.ratio);\n",
       "                canvas.setAttribute('height', height * fig.ratio);\n",
       "            }\n",
       "            /* This rescales the canvas back to display pixels, so that it\n",
       "             * appears correct on HiDPI screens. */\n",
       "            canvas.style.width = width + 'px';\n",
       "            canvas.style.height = height + 'px';\n",
       "\n",
       "            rubberband_canvas.setAttribute('width', width);\n",
       "            rubberband_canvas.setAttribute('height', height);\n",
       "\n",
       "            // And update the size in Python. We ignore the initial 0/0 size\n",
       "            // that occurs as the element is placed into the DOM, which should\n",
       "            // otherwise not happen due to the minimum size styling.\n",
       "            if (fig.ws.readyState == 1 && width != 0 && height != 0) {\n",
       "                fig.request_resize(width, height);\n",
       "            }\n",
       "        }\n",
       "    });\n",
       "    this.resizeObserverInstance.observe(canvas_div);\n",
       "\n",
       "    function on_mouse_event_closure(name) {\n",
       "        /* User Agent sniffing is bad, but WebKit is busted:\n",
       "         * https://bugs.webkit.org/show_bug.cgi?id=144526\n",
       "         * https://bugs.webkit.org/show_bug.cgi?id=181818\n",
       "         * The worst that happens here is that they get an extra browser\n",
       "         * selection when dragging, if this check fails to catch them.\n",
       "         */\n",
       "        var UA = navigator.userAgent;\n",
       "        var isWebKit = /AppleWebKit/.test(UA) && !/Chrome/.test(UA);\n",
       "        if(isWebKit) {\n",
       "            return function (event) {\n",
       "                /* This prevents the web browser from automatically changing to\n",
       "                 * the text insertion cursor when the button is pressed. We\n",
       "                 * want to control all of the cursor setting manually through\n",
       "                 * the 'cursor' event from matplotlib */\n",
       "                event.preventDefault()\n",
       "                return fig.mouse_event(event, name);\n",
       "            };\n",
       "        } else {\n",
       "            return function (event) {\n",
       "                return fig.mouse_event(event, name);\n",
       "            };\n",
       "        }\n",
       "    }\n",
       "\n",
       "    canvas_div.addEventListener(\n",
       "        'mousedown',\n",
       "        on_mouse_event_closure('button_press')\n",
       "    );\n",
       "    canvas_div.addEventListener(\n",
       "        'mouseup',\n",
       "        on_mouse_event_closure('button_release')\n",
       "    );\n",
       "    canvas_div.addEventListener(\n",
       "        'dblclick',\n",
       "        on_mouse_event_closure('dblclick')\n",
       "    );\n",
       "    // Throttle sequential mouse events to 1 every 20ms.\n",
       "    canvas_div.addEventListener(\n",
       "        'mousemove',\n",
       "        on_mouse_event_closure('motion_notify')\n",
       "    );\n",
       "\n",
       "    canvas_div.addEventListener(\n",
       "        'mouseenter',\n",
       "        on_mouse_event_closure('figure_enter')\n",
       "    );\n",
       "    canvas_div.addEventListener(\n",
       "        'mouseleave',\n",
       "        on_mouse_event_closure('figure_leave')\n",
       "    );\n",
       "\n",
       "    canvas_div.addEventListener('wheel', function (event) {\n",
       "        if (event.deltaY < 0) {\n",
       "            event.step = 1;\n",
       "        } else {\n",
       "            event.step = -1;\n",
       "        }\n",
       "        on_mouse_event_closure('scroll')(event);\n",
       "    });\n",
       "\n",
       "    canvas_div.appendChild(canvas);\n",
       "    canvas_div.appendChild(rubberband_canvas);\n",
       "\n",
       "    this.rubberband_context = rubberband_canvas.getContext('2d');\n",
       "    this.rubberband_context.strokeStyle = '#000000';\n",
       "\n",
       "    this._resize_canvas = function (width, height, forward) {\n",
       "        if (forward) {\n",
       "            canvas_div.style.width = width + 'px';\n",
       "            canvas_div.style.height = height + 'px';\n",
       "        }\n",
       "    };\n",
       "\n",
       "    // Disable right mouse context menu.\n",
       "    canvas_div.addEventListener('contextmenu', function (_e) {\n",
       "        event.preventDefault();\n",
       "        return false;\n",
       "    });\n",
       "\n",
       "    function set_focus() {\n",
       "        canvas.focus();\n",
       "        canvas_div.focus();\n",
       "    }\n",
       "\n",
       "    window.setTimeout(set_focus, 100);\n",
       "};\n",
       "\n",
       "mpl.figure.prototype._init_toolbar = function () {\n",
       "    var fig = this;\n",
       "\n",
       "    var toolbar = document.createElement('div');\n",
       "    toolbar.classList = 'mpl-toolbar';\n",
       "    this.root.appendChild(toolbar);\n",
       "\n",
       "    function on_click_closure(name) {\n",
       "        return function (_event) {\n",
       "            return fig.toolbar_button_onclick(name);\n",
       "        };\n",
       "    }\n",
       "\n",
       "    function on_mouseover_closure(tooltip) {\n",
       "        return function (event) {\n",
       "            if (!event.currentTarget.disabled) {\n",
       "                return fig.toolbar_button_onmouseover(tooltip);\n",
       "            }\n",
       "        };\n",
       "    }\n",
       "\n",
       "    fig.buttons = {};\n",
       "    var buttonGroup = document.createElement('div');\n",
       "    buttonGroup.classList = 'mpl-button-group';\n",
       "    for (var toolbar_ind in mpl.toolbar_items) {\n",
       "        var name = mpl.toolbar_items[toolbar_ind][0];\n",
       "        var tooltip = mpl.toolbar_items[toolbar_ind][1];\n",
       "        var image = mpl.toolbar_items[toolbar_ind][2];\n",
       "        var method_name = mpl.toolbar_items[toolbar_ind][3];\n",
       "\n",
       "        if (!name) {\n",
       "            /* Instead of a spacer, we start a new button group. */\n",
       "            if (buttonGroup.hasChildNodes()) {\n",
       "                toolbar.appendChild(buttonGroup);\n",
       "            }\n",
       "            buttonGroup = document.createElement('div');\n",
       "            buttonGroup.classList = 'mpl-button-group';\n",
       "            continue;\n",
       "        }\n",
       "\n",
       "        var button = (fig.buttons[name] = document.createElement('button'));\n",
       "        button.classList = 'mpl-widget';\n",
       "        button.setAttribute('role', 'button');\n",
       "        button.setAttribute('aria-disabled', 'false');\n",
       "        button.addEventListener('click', on_click_closure(method_name));\n",
       "        button.addEventListener('mouseover', on_mouseover_closure(tooltip));\n",
       "\n",
       "        var icon_img = document.createElement('img');\n",
       "        icon_img.src = '_images/' + image + '.png';\n",
       "        icon_img.srcset = '_images/' + image + '_large.png 2x';\n",
       "        icon_img.alt = tooltip;\n",
       "        button.appendChild(icon_img);\n",
       "\n",
       "        buttonGroup.appendChild(button);\n",
       "    }\n",
       "\n",
       "    if (buttonGroup.hasChildNodes()) {\n",
       "        toolbar.appendChild(buttonGroup);\n",
       "    }\n",
       "\n",
       "    var fmt_picker = document.createElement('select');\n",
       "    fmt_picker.classList = 'mpl-widget';\n",
       "    toolbar.appendChild(fmt_picker);\n",
       "    this.format_dropdown = fmt_picker;\n",
       "\n",
       "    for (var ind in mpl.extensions) {\n",
       "        var fmt = mpl.extensions[ind];\n",
       "        var option = document.createElement('option');\n",
       "        option.selected = fmt === mpl.default_extension;\n",
       "        option.innerHTML = fmt;\n",
       "        fmt_picker.appendChild(option);\n",
       "    }\n",
       "\n",
       "    var status_bar = document.createElement('span');\n",
       "    status_bar.classList = 'mpl-message';\n",
       "    toolbar.appendChild(status_bar);\n",
       "    this.message = status_bar;\n",
       "};\n",
       "\n",
       "mpl.figure.prototype.request_resize = function (x_pixels, y_pixels) {\n",
       "    // Request matplotlib to resize the figure. Matplotlib will then trigger a resize in the client,\n",
       "    // which will in turn request a refresh of the image.\n",
       "    this.send_message('resize', { width: x_pixels, height: y_pixels });\n",
       "};\n",
       "\n",
       "mpl.figure.prototype.send_message = function (type, properties) {\n",
       "    properties['type'] = type;\n",
       "    properties['figure_id'] = this.id;\n",
       "    this.ws.send(JSON.stringify(properties));\n",
       "};\n",
       "\n",
       "mpl.figure.prototype.send_draw_message = function () {\n",
       "    if (!this.waiting) {\n",
       "        this.waiting = true;\n",
       "        this.ws.send(JSON.stringify({ type: 'draw', figure_id: this.id }));\n",
       "    }\n",
       "};\n",
       "\n",
       "mpl.figure.prototype.handle_save = function (fig, _msg) {\n",
       "    var format_dropdown = fig.format_dropdown;\n",
       "    var format = format_dropdown.options[format_dropdown.selectedIndex].value;\n",
       "    fig.ondownload(fig, format);\n",
       "};\n",
       "\n",
       "mpl.figure.prototype.handle_resize = function (fig, msg) {\n",
       "    var size = msg['size'];\n",
       "    if (size[0] !== fig.canvas.width || size[1] !== fig.canvas.height) {\n",
       "        fig._resize_canvas(size[0], size[1], msg['forward']);\n",
       "        fig.send_message('refresh', {});\n",
       "    }\n",
       "};\n",
       "\n",
       "mpl.figure.prototype.handle_rubberband = function (fig, msg) {\n",
       "    var x0 = msg['x0'] / fig.ratio;\n",
       "    var y0 = (fig.canvas.height - msg['y0']) / fig.ratio;\n",
       "    var x1 = msg['x1'] / fig.ratio;\n",
       "    var y1 = (fig.canvas.height - msg['y1']) / fig.ratio;\n",
       "    x0 = Math.floor(x0) + 0.5;\n",
       "    y0 = Math.floor(y0) + 0.5;\n",
       "    x1 = Math.floor(x1) + 0.5;\n",
       "    y1 = Math.floor(y1) + 0.5;\n",
       "    var min_x = Math.min(x0, x1);\n",
       "    var min_y = Math.min(y0, y1);\n",
       "    var width = Math.abs(x1 - x0);\n",
       "    var height = Math.abs(y1 - y0);\n",
       "\n",
       "    fig.rubberband_context.clearRect(\n",
       "        0,\n",
       "        0,\n",
       "        fig.canvas.width / fig.ratio,\n",
       "        fig.canvas.height / fig.ratio\n",
       "    );\n",
       "\n",
       "    fig.rubberband_context.strokeRect(min_x, min_y, width, height);\n",
       "};\n",
       "\n",
       "mpl.figure.prototype.handle_figure_label = function (fig, msg) {\n",
       "    // Updates the figure title.\n",
       "    fig.header.textContent = msg['label'];\n",
       "};\n",
       "\n",
       "mpl.figure.prototype.handle_cursor = function (fig, msg) {\n",
       "    fig.canvas_div.style.cursor = msg['cursor'];\n",
       "};\n",
       "\n",
       "mpl.figure.prototype.handle_message = function (fig, msg) {\n",
       "    fig.message.textContent = msg['message'];\n",
       "};\n",
       "\n",
       "mpl.figure.prototype.handle_draw = function (fig, _msg) {\n",
       "    // Request the server to send over a new figure.\n",
       "    fig.send_draw_message();\n",
       "};\n",
       "\n",
       "mpl.figure.prototype.handle_image_mode = function (fig, msg) {\n",
       "    fig.image_mode = msg['mode'];\n",
       "};\n",
       "\n",
       "mpl.figure.prototype.handle_history_buttons = function (fig, msg) {\n",
       "    for (var key in msg) {\n",
       "        if (!(key in fig.buttons)) {\n",
       "            continue;\n",
       "        }\n",
       "        fig.buttons[key].disabled = !msg[key];\n",
       "        fig.buttons[key].setAttribute('aria-disabled', !msg[key]);\n",
       "    }\n",
       "};\n",
       "\n",
       "mpl.figure.prototype.handle_navigate_mode = function (fig, msg) {\n",
       "    if (msg['mode'] === 'PAN') {\n",
       "        fig.buttons['Pan'].classList.add('active');\n",
       "        fig.buttons['Zoom'].classList.remove('active');\n",
       "    } else if (msg['mode'] === 'ZOOM') {\n",
       "        fig.buttons['Pan'].classList.remove('active');\n",
       "        fig.buttons['Zoom'].classList.add('active');\n",
       "    } else {\n",
       "        fig.buttons['Pan'].classList.remove('active');\n",
       "        fig.buttons['Zoom'].classList.remove('active');\n",
       "    }\n",
       "};\n",
       "\n",
       "mpl.figure.prototype.updated_canvas_event = function () {\n",
       "    // Called whenever the canvas gets updated.\n",
       "    this.send_message('ack', {});\n",
       "};\n",
       "\n",
       "// A function to construct a web socket function for onmessage handling.\n",
       "// Called in the figure constructor.\n",
       "mpl.figure.prototype._make_on_message_function = function (fig) {\n",
       "    return function socket_on_message(evt) {\n",
       "        if (evt.data instanceof Blob) {\n",
       "            var img = evt.data;\n",
       "            if (img.type !== 'image/png') {\n",
       "                /* FIXME: We get \"Resource interpreted as Image but\n",
       "                 * transferred with MIME type text/plain:\" errors on\n",
       "                 * Chrome.  But how to set the MIME type?  It doesn't seem\n",
       "                 * to be part of the websocket stream */\n",
       "                img.type = 'image/png';\n",
       "            }\n",
       "\n",
       "            /* Free the memory for the previous frames */\n",
       "            if (fig.imageObj.src) {\n",
       "                (window.URL || window.webkitURL).revokeObjectURL(\n",
       "                    fig.imageObj.src\n",
       "                );\n",
       "            }\n",
       "\n",
       "            fig.imageObj.src = (window.URL || window.webkitURL).createObjectURL(\n",
       "                img\n",
       "            );\n",
       "            fig.updated_canvas_event();\n",
       "            fig.waiting = false;\n",
       "            return;\n",
       "        } else if (\n",
       "            typeof evt.data === 'string' &&\n",
       "            evt.data.slice(0, 21) === 'data:image/png;base64'\n",
       "        ) {\n",
       "            fig.imageObj.src = evt.data;\n",
       "            fig.updated_canvas_event();\n",
       "            fig.waiting = false;\n",
       "            return;\n",
       "        }\n",
       "\n",
       "        var msg = JSON.parse(evt.data);\n",
       "        var msg_type = msg['type'];\n",
       "\n",
       "        // Call the  \"handle_{type}\" callback, which takes\n",
       "        // the figure and JSON message as its only arguments.\n",
       "        try {\n",
       "            var callback = fig['handle_' + msg_type];\n",
       "        } catch (e) {\n",
       "            console.log(\n",
       "                \"No handler for the '\" + msg_type + \"' message type: \",\n",
       "                msg\n",
       "            );\n",
       "            return;\n",
       "        }\n",
       "\n",
       "        if (callback) {\n",
       "            try {\n",
       "                // console.log(\"Handling '\" + msg_type + \"' message: \", msg);\n",
       "                callback(fig, msg);\n",
       "            } catch (e) {\n",
       "                console.log(\n",
       "                    \"Exception inside the 'handler_\" + msg_type + \"' callback:\",\n",
       "                    e,\n",
       "                    e.stack,\n",
       "                    msg\n",
       "                );\n",
       "            }\n",
       "        }\n",
       "    };\n",
       "};\n",
       "\n",
       "function getModifiers(event) {\n",
       "    var mods = [];\n",
       "    if (event.ctrlKey) {\n",
       "        mods.push('ctrl');\n",
       "    }\n",
       "    if (event.altKey) {\n",
       "        mods.push('alt');\n",
       "    }\n",
       "    if (event.shiftKey) {\n",
       "        mods.push('shift');\n",
       "    }\n",
       "    if (event.metaKey) {\n",
       "        mods.push('meta');\n",
       "    }\n",
       "    return mods;\n",
       "}\n",
       "\n",
       "/*\n",
       " * return a copy of an object with only non-object keys\n",
       " * we need this to avoid circular references\n",
       " * https://stackoverflow.com/a/24161582/3208463\n",
       " */\n",
       "function simpleKeys(original) {\n",
       "    return Object.keys(original).reduce(function (obj, key) {\n",
       "        if (typeof original[key] !== 'object') {\n",
       "            obj[key] = original[key];\n",
       "        }\n",
       "        return obj;\n",
       "    }, {});\n",
       "}\n",
       "\n",
       "mpl.figure.prototype.mouse_event = function (event, name) {\n",
       "    if (name === 'button_press') {\n",
       "        this.canvas.focus();\n",
       "        this.canvas_div.focus();\n",
       "    }\n",
       "\n",
       "    // from https://stackoverflow.com/q/1114465\n",
       "    var boundingRect = this.canvas.getBoundingClientRect();\n",
       "    var x = (event.clientX - boundingRect.left) * this.ratio;\n",
       "    var y = (event.clientY - boundingRect.top) * this.ratio;\n",
       "\n",
       "    this.send_message(name, {\n",
       "        x: x,\n",
       "        y: y,\n",
       "        button: event.button,\n",
       "        step: event.step,\n",
       "        modifiers: getModifiers(event),\n",
       "        guiEvent: simpleKeys(event),\n",
       "    });\n",
       "\n",
       "    return false;\n",
       "};\n",
       "\n",
       "mpl.figure.prototype._key_event_extra = function (_event, _name) {\n",
       "    // Handle any extra behaviour associated with a key event\n",
       "};\n",
       "\n",
       "mpl.figure.prototype.key_event = function (event, name) {\n",
       "    // Prevent repeat events\n",
       "    if (name === 'key_press') {\n",
       "        if (event.key === this._key) {\n",
       "            return;\n",
       "        } else {\n",
       "            this._key = event.key;\n",
       "        }\n",
       "    }\n",
       "    if (name === 'key_release') {\n",
       "        this._key = null;\n",
       "    }\n",
       "\n",
       "    var value = '';\n",
       "    if (event.ctrlKey && event.key !== 'Control') {\n",
       "        value += 'ctrl+';\n",
       "    }\n",
       "    else if (event.altKey && event.key !== 'Alt') {\n",
       "        value += 'alt+';\n",
       "    }\n",
       "    else if (event.shiftKey && event.key !== 'Shift') {\n",
       "        value += 'shift+';\n",
       "    }\n",
       "\n",
       "    value += 'k' + event.key;\n",
       "\n",
       "    this._key_event_extra(event, name);\n",
       "\n",
       "    this.send_message(name, { key: value, guiEvent: simpleKeys(event) });\n",
       "    return false;\n",
       "};\n",
       "\n",
       "mpl.figure.prototype.toolbar_button_onclick = function (name) {\n",
       "    if (name === 'download') {\n",
       "        this.handle_save(this, null);\n",
       "    } else {\n",
       "        this.send_message('toolbar_button', { name: name });\n",
       "    }\n",
       "};\n",
       "\n",
       "mpl.figure.prototype.toolbar_button_onmouseover = function (tooltip) {\n",
       "    this.message.textContent = tooltip;\n",
       "};\n",
       "\n",
       "///////////////// REMAINING CONTENT GENERATED BY embed_js.py /////////////////\n",
       "// prettier-ignore\n",
       "var _JSXTOOLS_RESIZE_OBSERVER=function(A){var t,i=new WeakMap,n=new WeakMap,a=new WeakMap,r=new WeakMap,o=new Set;function s(e){if(!(this instanceof s))throw new TypeError(\"Constructor requires 'new' operator\");i.set(this,e)}function h(){throw new TypeError(\"Function is not a constructor\")}function c(e,t,i,n){e=0 in arguments?Number(arguments[0]):0,t=1 in arguments?Number(arguments[1]):0,i=2 in arguments?Number(arguments[2]):0,n=3 in arguments?Number(arguments[3]):0,this.right=(this.x=this.left=e)+(this.width=i),this.bottom=(this.y=this.top=t)+(this.height=n),Object.freeze(this)}function d(){t=requestAnimationFrame(d);var s=new WeakMap,p=new Set;o.forEach((function(t){r.get(t).forEach((function(i){var r=t instanceof window.SVGElement,o=a.get(t),d=r?0:parseFloat(o.paddingTop),f=r?0:parseFloat(o.paddingRight),l=r?0:parseFloat(o.paddingBottom),u=r?0:parseFloat(o.paddingLeft),g=r?0:parseFloat(o.borderTopWidth),m=r?0:parseFloat(o.borderRightWidth),w=r?0:parseFloat(o.borderBottomWidth),b=u+f,F=d+l,v=(r?0:parseFloat(o.borderLeftWidth))+m,W=g+w,y=r?0:t.offsetHeight-W-t.clientHeight,E=r?0:t.offsetWidth-v-t.clientWidth,R=b+v,z=F+W,M=r?t.width:parseFloat(o.width)-R-E,O=r?t.height:parseFloat(o.height)-z-y;if(n.has(t)){var k=n.get(t);if(k[0]===M&&k[1]===O)return}n.set(t,[M,O]);var S=Object.create(h.prototype);S.target=t,S.contentRect=new c(u,d,M,O),s.has(i)||(s.set(i,[]),p.add(i)),s.get(i).push(S)}))})),p.forEach((function(e){i.get(e).call(e,s.get(e),e)}))}return s.prototype.observe=function(i){if(i instanceof window.Element){r.has(i)||(r.set(i,new Set),o.add(i),a.set(i,window.getComputedStyle(i)));var n=r.get(i);n.has(this)||n.add(this),cancelAnimationFrame(t),t=requestAnimationFrame(d)}},s.prototype.unobserve=function(i){if(i instanceof window.Element&&r.has(i)){var n=r.get(i);n.has(this)&&(n.delete(this),n.size||(r.delete(i),o.delete(i))),n.size||r.delete(i),o.size||cancelAnimationFrame(t)}},A.DOMRectReadOnly=c,A.ResizeObserver=s,A.ResizeObserverEntry=h,A}; // eslint-disable-line\n",
       "mpl.toolbar_items = [[\"Home\", \"Reset original view\", \"fa fa-home\", \"home\"], [\"Back\", \"Back to previous view\", \"fa fa-arrow-left\", \"back\"], [\"Forward\", \"Forward to next view\", \"fa fa-arrow-right\", \"forward\"], [\"\", \"\", \"\", \"\"], [\"Pan\", \"Left button pans, Right button zooms\\nx/y fixes axis, CTRL fixes aspect\", \"fa fa-arrows\", \"pan\"], [\"Zoom\", \"Zoom to rectangle\\nx/y fixes axis\", \"fa fa-square-o\", \"zoom\"], [\"\", \"\", \"\", \"\"], [\"Download\", \"Download plot\", \"fa fa-floppy-o\", \"download\"]];\n",
       "\n",
       "mpl.extensions = [\"eps\", \"jpeg\", \"pgf\", \"pdf\", \"png\", \"ps\", \"raw\", \"svg\", \"tif\", \"webp\"];\n",
       "\n",
       "mpl.default_extension = \"png\";/* global mpl */\n",
       "\n",
       "var comm_websocket_adapter = function (comm) {\n",
       "    // Create a \"websocket\"-like object which calls the given IPython comm\n",
       "    // object with the appropriate methods. Currently this is a non binary\n",
       "    // socket, so there is still some room for performance tuning.\n",
       "    var ws = {};\n",
       "\n",
       "    ws.binaryType = comm.kernel.ws.binaryType;\n",
       "    ws.readyState = comm.kernel.ws.readyState;\n",
       "    function updateReadyState(_event) {\n",
       "        if (comm.kernel.ws) {\n",
       "            ws.readyState = comm.kernel.ws.readyState;\n",
       "        } else {\n",
       "            ws.readyState = 3; // Closed state.\n",
       "        }\n",
       "    }\n",
       "    comm.kernel.ws.addEventListener('open', updateReadyState);\n",
       "    comm.kernel.ws.addEventListener('close', updateReadyState);\n",
       "    comm.kernel.ws.addEventListener('error', updateReadyState);\n",
       "\n",
       "    ws.close = function () {\n",
       "        comm.close();\n",
       "    };\n",
       "    ws.send = function (m) {\n",
       "        //console.log('sending', m);\n",
       "        comm.send(m);\n",
       "    };\n",
       "    // Register the callback with on_msg.\n",
       "    comm.on_msg(function (msg) {\n",
       "        //console.log('receiving', msg['content']['data'], msg);\n",
       "        var data = msg['content']['data'];\n",
       "        if (data['blob'] !== undefined) {\n",
       "            data = {\n",
       "                data: new Blob(msg['buffers'], { type: data['blob'] }),\n",
       "            };\n",
       "        }\n",
       "        // Pass the mpl event to the overridden (by mpl) onmessage function.\n",
       "        ws.onmessage(data);\n",
       "    });\n",
       "    return ws;\n",
       "};\n",
       "\n",
       "mpl.mpl_figure_comm = function (comm, msg) {\n",
       "    // This is the function which gets called when the mpl process\n",
       "    // starts-up an IPython Comm through the \"matplotlib\" channel.\n",
       "\n",
       "    var id = msg.content.data.id;\n",
       "    // Get hold of the div created by the display call when the Comm\n",
       "    // socket was opened in Python.\n",
       "    var element = document.getElementById(id);\n",
       "    var ws_proxy = comm_websocket_adapter(comm);\n",
       "\n",
       "    function ondownload(figure, _format) {\n",
       "        window.open(figure.canvas.toDataURL());\n",
       "    }\n",
       "\n",
       "    var fig = new mpl.figure(id, ws_proxy, ondownload, element);\n",
       "\n",
       "    // Call onopen now - mpl needs it, as it is assuming we've passed it a real\n",
       "    // web socket which is closed, not our websocket->open comm proxy.\n",
       "    ws_proxy.onopen();\n",
       "\n",
       "    fig.parent_element = element;\n",
       "    fig.cell_info = mpl.find_output_cell(\"<div id='\" + id + \"'></div>\");\n",
       "    if (!fig.cell_info) {\n",
       "        console.error('Failed to find cell for figure', id, fig);\n",
       "        return;\n",
       "    }\n",
       "    fig.cell_info[0].output_area.element.on(\n",
       "        'cleared',\n",
       "        { fig: fig },\n",
       "        fig._remove_fig_handler\n",
       "    );\n",
       "};\n",
       "\n",
       "mpl.figure.prototype.handle_close = function (fig, msg) {\n",
       "    var width = fig.canvas.width / fig.ratio;\n",
       "    fig.cell_info[0].output_area.element.off(\n",
       "        'cleared',\n",
       "        fig._remove_fig_handler\n",
       "    );\n",
       "    fig.resizeObserverInstance.unobserve(fig.canvas_div);\n",
       "\n",
       "    // Update the output cell to use the data from the current canvas.\n",
       "    fig.push_to_output();\n",
       "    var dataURL = fig.canvas.toDataURL();\n",
       "    // Re-enable the keyboard manager in IPython - without this line, in FF,\n",
       "    // the notebook keyboard shortcuts fail.\n",
       "    IPython.keyboard_manager.enable();\n",
       "    fig.parent_element.innerHTML =\n",
       "        '<img src=\"' + dataURL + '\" width=\"' + width + '\">';\n",
       "    fig.close_ws(fig, msg);\n",
       "};\n",
       "\n",
       "mpl.figure.prototype.close_ws = function (fig, msg) {\n",
       "    fig.send_message('closing', msg);\n",
       "    // fig.ws.close()\n",
       "};\n",
       "\n",
       "mpl.figure.prototype.push_to_output = function (_remove_interactive) {\n",
       "    // Turn the data on the canvas into data in the output cell.\n",
       "    var width = this.canvas.width / this.ratio;\n",
       "    var dataURL = this.canvas.toDataURL();\n",
       "    this.cell_info[1]['text/html'] =\n",
       "        '<img src=\"' + dataURL + '\" width=\"' + width + '\">';\n",
       "};\n",
       "\n",
       "mpl.figure.prototype.updated_canvas_event = function () {\n",
       "    // Tell IPython that the notebook contents must change.\n",
       "    IPython.notebook.set_dirty(true);\n",
       "    this.send_message('ack', {});\n",
       "    var fig = this;\n",
       "    // Wait a second, then push the new image to the DOM so\n",
       "    // that it is saved nicely (might be nice to debounce this).\n",
       "    setTimeout(function () {\n",
       "        fig.push_to_output();\n",
       "    }, 1000);\n",
       "};\n",
       "\n",
       "mpl.figure.prototype._init_toolbar = function () {\n",
       "    var fig = this;\n",
       "\n",
       "    var toolbar = document.createElement('div');\n",
       "    toolbar.classList = 'btn-toolbar';\n",
       "    this.root.appendChild(toolbar);\n",
       "\n",
       "    function on_click_closure(name) {\n",
       "        return function (_event) {\n",
       "            return fig.toolbar_button_onclick(name);\n",
       "        };\n",
       "    }\n",
       "\n",
       "    function on_mouseover_closure(tooltip) {\n",
       "        return function (event) {\n",
       "            if (!event.currentTarget.disabled) {\n",
       "                return fig.toolbar_button_onmouseover(tooltip);\n",
       "            }\n",
       "        };\n",
       "    }\n",
       "\n",
       "    fig.buttons = {};\n",
       "    var buttonGroup = document.createElement('div');\n",
       "    buttonGroup.classList = 'btn-group';\n",
       "    var button;\n",
       "    for (var toolbar_ind in mpl.toolbar_items) {\n",
       "        var name = mpl.toolbar_items[toolbar_ind][0];\n",
       "        var tooltip = mpl.toolbar_items[toolbar_ind][1];\n",
       "        var image = mpl.toolbar_items[toolbar_ind][2];\n",
       "        var method_name = mpl.toolbar_items[toolbar_ind][3];\n",
       "\n",
       "        if (!name) {\n",
       "            /* Instead of a spacer, we start a new button group. */\n",
       "            if (buttonGroup.hasChildNodes()) {\n",
       "                toolbar.appendChild(buttonGroup);\n",
       "            }\n",
       "            buttonGroup = document.createElement('div');\n",
       "            buttonGroup.classList = 'btn-group';\n",
       "            continue;\n",
       "        }\n",
       "\n",
       "        button = fig.buttons[name] = document.createElement('button');\n",
       "        button.classList = 'btn btn-default';\n",
       "        button.href = '#';\n",
       "        button.title = name;\n",
       "        button.innerHTML = '<i class=\"fa ' + image + ' fa-lg\"></i>';\n",
       "        button.addEventListener('click', on_click_closure(method_name));\n",
       "        button.addEventListener('mouseover', on_mouseover_closure(tooltip));\n",
       "        buttonGroup.appendChild(button);\n",
       "    }\n",
       "\n",
       "    if (buttonGroup.hasChildNodes()) {\n",
       "        toolbar.appendChild(buttonGroup);\n",
       "    }\n",
       "\n",
       "    // Add the status bar.\n",
       "    var status_bar = document.createElement('span');\n",
       "    status_bar.classList = 'mpl-message pull-right';\n",
       "    toolbar.appendChild(status_bar);\n",
       "    this.message = status_bar;\n",
       "\n",
       "    // Add the close button to the window.\n",
       "    var buttongrp = document.createElement('div');\n",
       "    buttongrp.classList = 'btn-group inline pull-right';\n",
       "    button = document.createElement('button');\n",
       "    button.classList = 'btn btn-mini btn-primary';\n",
       "    button.href = '#';\n",
       "    button.title = 'Stop Interaction';\n",
       "    button.innerHTML = '<i class=\"fa fa-power-off icon-remove icon-large\"></i>';\n",
       "    button.addEventListener('click', function (_evt) {\n",
       "        fig.handle_close(fig, {});\n",
       "    });\n",
       "    button.addEventListener(\n",
       "        'mouseover',\n",
       "        on_mouseover_closure('Stop Interaction')\n",
       "    );\n",
       "    buttongrp.appendChild(button);\n",
       "    var titlebar = this.root.querySelector('.ui-dialog-titlebar');\n",
       "    titlebar.insertBefore(buttongrp, titlebar.firstChild);\n",
       "};\n",
       "\n",
       "mpl.figure.prototype._remove_fig_handler = function (event) {\n",
       "    var fig = event.data.fig;\n",
       "    if (event.target !== this) {\n",
       "        // Ignore bubbled events from children.\n",
       "        return;\n",
       "    }\n",
       "    fig.close_ws(fig, {});\n",
       "};\n",
       "\n",
       "mpl.figure.prototype._root_extra_style = function (el) {\n",
       "    el.style.boxSizing = 'content-box'; // override notebook setting of border-box.\n",
       "};\n",
       "\n",
       "mpl.figure.prototype._canvas_extra_style = function (el) {\n",
       "    // this is important to make the div 'focusable\n",
       "    el.setAttribute('tabindex', 0);\n",
       "    // reach out to IPython and tell the keyboard manager to turn it's self\n",
       "    // off when our div gets focus\n",
       "\n",
       "    // location in version 3\n",
       "    if (IPython.notebook.keyboard_manager) {\n",
       "        IPython.notebook.keyboard_manager.register_events(el);\n",
       "    } else {\n",
       "        // location in version 2\n",
       "        IPython.keyboard_manager.register_events(el);\n",
       "    }\n",
       "};\n",
       "\n",
       "mpl.figure.prototype._key_event_extra = function (event, _name) {\n",
       "    // Check for shift+enter\n",
       "    if (event.shiftKey && event.which === 13) {\n",
       "        this.canvas_div.blur();\n",
       "        // select the cell after this one\n",
       "        var index = IPython.notebook.find_cell_index(this.cell_info[0]);\n",
       "        IPython.notebook.select(index + 1);\n",
       "    }\n",
       "};\n",
       "\n",
       "mpl.figure.prototype.handle_save = function (fig, _msg) {\n",
       "    fig.ondownload(fig, null);\n",
       "};\n",
       "\n",
       "mpl.find_output_cell = function (html_output) {\n",
       "    // Return the cell and output element which can be found *uniquely* in the notebook.\n",
       "    // Note - this is a bit hacky, but it is done because the \"notebook_saving.Notebook\"\n",
       "    // IPython event is triggered only after the cells have been serialised, which for\n",
       "    // our purposes (turning an active figure into a static one), is too late.\n",
       "    var cells = IPython.notebook.get_cells();\n",
       "    var ncells = cells.length;\n",
       "    for (var i = 0; i < ncells; i++) {\n",
       "        var cell = cells[i];\n",
       "        if (cell.cell_type === 'code') {\n",
       "            for (var j = 0; j < cell.output_area.outputs.length; j++) {\n",
       "                var data = cell.output_area.outputs[j];\n",
       "                if (data.data) {\n",
       "                    // IPython >= 3 moved mimebundle to data attribute of output\n",
       "                    data = data.data;\n",
       "                }\n",
       "                if (data['text/html'] === html_output) {\n",
       "                    return [cell, data, j];\n",
       "                }\n",
       "            }\n",
       "        }\n",
       "    }\n",
       "};\n",
       "\n",
       "// Register the function which deals with the matplotlib target/channel.\n",
       "// The kernel may be null if the page has been refreshed.\n",
       "if (IPython.notebook.kernel !== null) {\n",
       "    IPython.notebook.kernel.comm_manager.register_target(\n",
       "        'matplotlib',\n",
       "        mpl.mpl_figure_comm\n",
       "    );\n",
       "}\n"
      ],
      "text/plain": [
       "<IPython.core.display.Javascript object>"
      ]
     },
     "metadata": {},
     "output_type": "display_data"
    },
    {
     "data": {
      "text/html": [
       "<img src=\"data:image/png;base64,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\" width=\"640\">"
      ],
      "text/plain": [
       "<IPython.core.display.HTML object>"
      ]
     },
     "metadata": {},
     "output_type": "display_data"
    },
    {
     "data": {
      "text/plain": [
       "<matplotlib.image.AxesImage at 0x25a1a3534d0>"
      ]
     },
     "execution_count": 88,
     "metadata": {},
     "output_type": "execute_result"
    }
   ],
   "source": [
    "plt.imshow(input_image_resize)"
   ]
  },
  {
   "cell_type": "code",
   "execution_count": 81,
   "metadata": {
    "id": "VVQnhHBS0j9T"
   },
   "outputs": [],
   "source": [
    "input_image_resize = input_image_resize/255"
   ]
  },
  {
   "cell_type": "code",
   "execution_count": 82,
   "metadata": {
    "colab": {
     "base_uri": "https://localhost:8080/"
    },
    "id": "cj5QRu4N1FVv",
    "outputId": "cb51928f-6e88-4302-8add-68b82f25860c"
   },
   "outputs": [
    {
     "data": {
      "text/plain": [
       "numpy.ndarray"
      ]
     },
     "execution_count": 82,
     "metadata": {},
     "output_type": "execute_result"
    }
   ],
   "source": [
    "type(input_image_resize)"
   ]
  },
  {
   "cell_type": "code",
   "execution_count": 83,
   "metadata": {
    "id": "kEIClW1L0y6_"
   },
   "outputs": [],
   "source": [
    "image_reshaped = np.reshape(input_image_resize, [1,28,28])"
   ]
  },
  {
   "cell_type": "code",
   "execution_count": 84,
   "metadata": {
    "colab": {
     "base_uri": "https://localhost:8080/"
    },
    "id": "S7pcNqPT1elf",
    "outputId": "4d5733e7-7a5f-4aa6-e329-8281bbd24f59"
   },
   "outputs": [
    {
     "name": "stdout",
     "output_type": "stream",
     "text": [
      "1/1 [==============================] - 0s 266ms/step\n",
      "[[1.4969674e-17 6.4147948e-10 3.2105504e-06 1.0000000e+00 2.6870534e-15\n",
      "  3.6363667e-06 5.8934504e-23 1.8358632e-04 5.4213418e-05 3.0160829e-01]]\n"
     ]
    }
   ],
   "source": [
    "input_prediction = model.predict(image_reshaped)\n",
    "print(input_prediction)"
   ]
  },
  {
   "cell_type": "code",
   "execution_count": 85,
   "metadata": {
    "id": "KiuNa3BC1l9B"
   },
   "outputs": [],
   "source": [
    "input_pred_label = np.argmax(input_prediction)"
   ]
  },
  {
   "cell_type": "code",
   "execution_count": 86,
   "metadata": {
    "colab": {
     "base_uri": "https://localhost:8080/"
    },
    "id": "qQga0z2z1tZf",
    "outputId": "52181d7e-fd56-4a38-a4ee-afb519d087d9"
   },
   "outputs": [
    {
     "name": "stdout",
     "output_type": "stream",
     "text": [
      "3\n"
     ]
    }
   ],
   "source": [
    "print(input_pred_label)"
   ]
  },
  {
   "cell_type": "markdown",
   "metadata": {
    "id": "u5VVQN7f15Bz"
   },
   "source": [
    "**Predictive System**"
   ]
  },
  {
   "cell_type": "code",
   "execution_count": null,
   "metadata": {
    "colab": {
     "base_uri": "https://localhost:8080/",
     "height": 369
    },
    "id": "vhu3CRQZ1vx0",
    "outputId": "95fdbbe1-6327-4ea7-c277-02f143fb7d5e"
   },
   "outputs": [
    {
     "name": "stdout",
     "output_type": "stream",
     "text": [
      "Path of the image to be predicted: /content/MNIST_digit.png\n"
     ]
    },
    {
     "data": {
      "image/png": "[encoded data removed]",
      "text/plain": [
       "<PIL.Image.Image image mode=RGB size=318x318 at 0x7F5AE5CACF50>"
      ]
     },
     "metadata": {},
     "output_type": "display_data"
    },
    {
     "name": "stdout",
     "output_type": "stream",
     "text": [
      "The Handwritten Digit is recognised as  3\n"
     ]
    }
   ],
   "source": [
    "input_image_path = input('Path of the image to be predicted: ')\n",
    "\n",
    "input_image = cv2.imread(input_image_path)\n",
    "\n",
    "cv2_imshow(input_image)\n",
    "\n",
    "grayscale = cv2.cvtColor(input_image, cv2.COLOR_RGB2GRAY)\n",
    "\n",
    "input_image_resize = cv2.resize(grayscale, (28, 28))\n",
    "\n",
    "input_image_resize = input_image_resize/255\n",
    "\n",
    "image_reshaped = np.reshape(input_image_resize, [1,28,28])\n",
    "\n",
    "input_prediction = model.predict(image_reshaped)\n",
    "\n",
    "input_pred_label = np.argmax(input_prediction)\n",
    "\n",
    "print('The Handwritten Digit is recognised as ', input_pred_label)"
   ]
  },
  {
   "cell_type": "code",
   "execution_count": null,
   "metadata": {
    "id": "YjVLhAL_2pfm"
   },
   "outputs": [],
   "source": []
  }
 ],
 "metadata": {
  "colab": {
   "provenance": []
  },
  "kernelspec": {
   "display_name": "Python 3 (ipykernel)",
   "language": "python",
   "name": "python3"
  },
  "language_info": {
   "codemirror_mode": {
    "name": "ipython",
    "version": 3
   },
   "file_extension": ".py",
   "mimetype": "text/x-python",
   "name": "python",
   "nbconvert_exporter": "python",
   "pygments_lexer": "ipython3",
   "version": "3.11.5"
  }
 },
 "nbformat": 4,
 "nbformat_minor": 1
}
